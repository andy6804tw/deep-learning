{
 "cells": [
  {
   "cell_type": "code",
   "execution_count": 6,
   "metadata": {},
   "outputs": [],
   "source": [
    "import tensorflow as tf\n",
    "import numpy as np\n",
    "from pprint import pprint"
   ]
  },
  {
   "cell_type": "markdown",
   "metadata": {},
   "source": [
    "## What is Tensorflow?\n",
    "TensorFlow 使用數據流的方式根據各個操作之間的依賴關係來表示您的計算。間單來說 TensorFlow 是一種 low-level 的程式語言，並使用大量的矩陣運算。首先要建立一個 dataflow graph 的模型，接著透過 TensorFlow session 的建立來執行來執行 TensorFlow graph 模型。"
   ]
  },
  {
   "cell_type": "markdown",
   "metadata": {},
   "source": [
    "## Tensorflow 的基本元素\n",
    "TensorFlow 的基本元素由兩個獨立的部分所組成，分別為 `Graphs` 與 `Sessions`。\n",
    "\n",
    "1. 建立 graph 模型 (使用 tf.Graph)\n",
    "2. 執行 graph 模型 (使用 tf.Session)\n"
   ]
  },
  {
   "cell_type": "markdown",
   "metadata": {},
   "source": [
    "## Why dataflow graphs?\n",
    "![](https://www.tensorflow.org/images/tensors_flowing.gif)\n",
    "\n",
    "dataflow 是一個常見的平行計算程式設計模型，在 dataflow graph 中每一個節點(node)代表每一個單元計算，並提供多種算術(Arithmetic)運算符號例如(tf.add、tf.multiply...等)。"
   ]
  },
  {
   "cell_type": "markdown",
   "metadata": {},
   "source": [
    "## 建立 Graph\n",
    "### tf.constant\n",
    "constant 常數，在許多程式語言當中也有一樣的變數型態。他在宣告時就必須賦予初始值，建立之後就無法再修改值。\n",
    "\n",
    "下面範例建立一個一維的常數內有兩筆浮點數，變數名稱設為 `const_a`，注意這個命名是給 Tensorflow 內部使用，建立完之後可以打印出來觀看詳細內容。若要印出變數內的數字必須經過建立一個 `session` 轉譯後再呼叫 `.run()` 函式執行 graph 的內容。最後程式結束時記得釋放掉剛建立好的 `session` 避免佔用資源。\n",
    "\n",
    "![](./screenshot/img1.1-1.png)"
   ]
  },
  {
   "cell_type": "code",
   "execution_count": 14,
   "metadata": {},
   "outputs": [
    {
     "name": "stdout",
     "output_type": "stream",
     "text": [
      "Tensor(\"const_a_2:0\", shape=(2,), dtype=float32)\n"
     ]
    }
   ],
   "source": [
    "# define graph\n",
    "a = tf.constant([1., 2.], dtype=tf.float32, name='const_a')\n",
    "print(a)"
   ]
  },
  {
   "cell_type": "code",
   "execution_count": 6,
   "metadata": {},
   "outputs": [
    {
     "name": "stdout",
     "output_type": "stream",
     "text": [
      "[1. 2.]\n"
     ]
    }
   ],
   "source": [
    "# create a session\n",
    "sess = tf.Session()\n",
    "print(sess.run(a))\n",
    "sess.close()"
   ]
  },
  {
   "cell_type": "markdown",
   "metadata": {},
   "source": [
    "### 算術運算符號(operations)\n",
    "常見的運算符號分別有tf.add(加), tf.subtract(減), tf.multiply(乘), tf.divide(除)，下面範例新增兩個常數節點(x1與x2)並呼叫相加和相乘來做示範。"
   ]
  },
  {
   "cell_type": "code",
   "execution_count": 26,
   "metadata": {},
   "outputs": [
    {
     "name": "stdout",
     "output_type": "stream",
     "text": [
      "Tensor(\"Add_9:0\", shape=(2,), dtype=int32)\n",
      "Tensor(\"Mul_12:0\", shape=(2,), dtype=int32)\n"
     ]
    }
   ],
   "source": [
    "# define graph\n",
    "x1 = tf.constant([1, 2], name='x1')\n",
    "x2 = tf.constant([3, 4], name='x2')\n",
    "\n",
    "y1 = tf.add(x1, x2)  # y1 = x1 + x2 \n",
    "y2 = tf.multiply(x1, x2)  # y2 = x1 * x2 \n",
    "\n",
    "print(y1)\n",
    "print(y2)"
   ]
  },
  {
   "cell_type": "code",
   "execution_count": 27,
   "metadata": {},
   "outputs": [
    {
     "name": "stdout",
     "output_type": "stream",
     "text": [
      "[4 6]\n",
      "[3 8]\n"
     ]
    }
   ],
   "source": [
    "# create a session\n",
    "with tf.Session() as sess:\n",
    "    output1, output2 = sess.run([y1, y2])  # output1, output2 = sess.run(y1), sess.run(y2)\n",
    "    print(output1)\n",
    "    print(output2)"
   ]
  },
  {
   "cell_type": "markdown",
   "metadata": {},
   "source": [
    "![](./screenshot/img1.1-2.png)"
   ]
  },
  {
   "cell_type": "markdown",
   "metadata": {},
   "source": [
    "### tf.placeholder\n",
    "這個函式有點類似C語言中的scanf()，簡單來說此變數儲存使用者所餵入的數值，誰也不知道這個數值為何等待直到收到數值。"
   ]
  },
  {
   "cell_type": "code",
   "execution_count": 5,
   "metadata": {},
   "outputs": [
    {
     "name": "stdout",
     "output_type": "stream",
     "text": [
      "Tensor(\"Input_1:0\", shape=(2, 2), dtype=float32)\n",
      "Tensor(\"add_1:0\", shape=(2, 2), dtype=float32)\n"
     ]
    }
   ],
   "source": [
    "# define graph\n",
    "x = tf.placeholder(dtype=tf.float32, shape=[2, 2], name='Input')  # have to give the right shape\n",
    "ones = tf.constant([[1, 1], [1, 1]], dtype=tf.float32, name='one')\n",
    "\n",
    "result = x + ones\n",
    "print(x)\n",
    "print(result)"
   ]
  },
  {
   "cell_type": "code",
   "execution_count": 7,
   "metadata": {},
   "outputs": [
    {
     "name": "stdout",
     "output_type": "stream",
     "text": [
      "[[2. 0.]\n",
      " [1. 2.]]\n"
     ]
    }
   ],
   "source": [
    "# create a session\n",
    "sess = tf.Session()\n",
    "print(sess.run(result, feed_dict={x: [[1, -1], [0, 1]]}))\n",
    "# print(sess.run(result, feed_dict={X: [0, -1]}))  # wrong shape!\n",
    "sess.close()"
   ]
  },
  {
   "cell_type": "markdown",
   "metadata": {},
   "source": [
    "![](./screenshot/img1.1-3.png)"
   ]
  },
  {
   "cell_type": "markdown",
   "metadata": {},
   "source": [
    "## tf.Variable\n",
    "跟 constant 差別在於 Variable 變數可以隨意修改數值。"
   ]
  },
  {
   "cell_type": "code",
   "execution_count": 7,
   "metadata": {},
   "outputs": [],
   "source": [
    "# define graph\n",
    "x1 = tf.Variable(1, name='x1')\n",
    "x2 = tf.Variable(2, name='x2')\n",
    "\n",
    "total = tf.add(x1, x2, name='total')  # total = x1 + x2\n",
    "init = tf.global_variables_initializer()"
   ]
  },
  {
   "cell_type": "code",
   "execution_count": 8,
   "metadata": {},
   "outputs": [
    {
     "name": "stdout",
     "output_type": "stream",
     "text": [
      "3\n"
     ]
    }
   ],
   "source": [
    "# create a session\n",
    "sess = tf.Session()\n",
    "sess.run(init)  # initialize variables\n",
    "print(sess.run(total))\n",
    "sess.close()"
   ]
  },
  {
   "cell_type": "markdown",
   "metadata": {},
   "source": [
    "![](./screenshot/img1.1-4.png)"
   ]
  },
  {
   "cell_type": "markdown",
   "metadata": {},
   "source": [
    "## tf.assign"
   ]
  },
  {
   "cell_type": "code",
   "execution_count": 9,
   "metadata": {},
   "outputs": [],
   "source": [
    "# define graph\n",
    "x1 = tf.Variable(1, name='x1')\n",
    "x2 = tf.constant(2, name='x2')\n",
    "\n",
    "total = tf.add(x1, x2, name='total')  # total = x1 + x2\n",
    "assign_x1 = tf.assign(x1, total)\n",
    "init = tf.global_variables_initializer()"
   ]
  },
  {
   "cell_type": "code",
   "execution_count": 12,
   "metadata": {},
   "outputs": [
    {
     "name": "stdout",
     "output_type": "stream",
     "text": [
      "x1 = 1\n",
      "x2 = 2\n",
      "total = 3\n",
      "---\n",
      "x1 = 3\n",
      "x2 = 2\n",
      "total = 5\n",
      "---\n",
      "x1 = 5\n",
      "x2 = 2\n",
      "total = 7\n",
      "---\n"
     ]
    }
   ],
   "source": [
    "# create a session\n",
    "sess = tf.Session()\n",
    "sess.run(init)\n",
    "for _ in range(3):\n",
    "    print('x1 =', sess.run(x1))\n",
    "    print('x2 =', sess.run(x2))\n",
    "    print('total =', sess.run(total))\n",
    "    print('---')\n",
    "    sess.run(assign_x1)\n",
    "    \n",
    "sess.close()"
   ]
  },
  {
   "cell_type": "markdown",
   "metadata": {},
   "source": [
    "![](./screenshot/img1.1-5.png)"
   ]
  },
  {
   "cell_type": "markdown",
   "metadata": {},
   "source": [
    "## 建立自定義的 Graph\n",
    "1. 在 default graph 操作"
   ]
  },
  {
   "cell_type": "code",
   "execution_count": 2,
   "metadata": {},
   "outputs": [
    {
     "name": "stdout",
     "output_type": "stream",
     "text": [
      "9.0\n"
     ]
    }
   ],
   "source": [
    "a = tf.Variable(1.0, dtype=tf.float32, name='a')\n",
    "b = tf.Variable(3.0, dtype=tf.float32, name='b')\n",
    "c = tf.Variable(5.0, dtype=tf.float32, name='c')\n",
    "init = tf.global_variables_initializer()\n",
    "\n",
    "sess = tf.Session()\n",
    "sess.run(init)\n",
    "print(sess.run(a+b+c))\n",
    "sess.close()"
   ]
  },
  {
   "cell_type": "markdown",
   "metadata": {},
   "source": [
    "2. 在自己的區塊自定義Graph"
   ]
  },
  {
   "cell_type": "code",
   "execution_count": 3,
   "metadata": {},
   "outputs": [
    {
     "name": "stdout",
     "output_type": "stream",
     "text": [
      "12.0\n"
     ]
    }
   ],
   "source": [
    "my_graph = tf.Graph()  # create a graph object\n",
    "\n",
    "with my_graph.as_default():\n",
    "\n",
    "    d = tf.Variable(2.0, dtype=tf.float32, name='d')\n",
    "    e = tf.Variable(4.0, dtype=tf.float32, name='e')\n",
    "    f = tf.Variable(6.0, dtype=tf.float32, name='f')\n",
    "    init = tf.global_variables_initializer()\n",
    "\n",
    "sess = tf.Session(graph=my_graph)  # pass a specific graph\n",
    "sess.run(init)\n",
    "print(sess.run(d+e+f))\n",
    "sess.close()"
   ]
  },
  {
   "cell_type": "code",
   "execution_count": 7,
   "metadata": {},
   "outputs": [
    {
     "name": "stdout",
     "output_type": "stream",
     "text": [
      "[<tf.Variable 'a:0' shape=() dtype=float32_ref>,\n",
      " <tf.Variable 'b:0' shape=() dtype=float32_ref>,\n",
      " <tf.Variable 'c:0' shape=() dtype=float32_ref>]\n"
     ]
    }
   ],
   "source": [
    "pprint(tf.global_variables())"
   ]
  },
  {
   "cell_type": "code",
   "execution_count": 8,
   "metadata": {},
   "outputs": [
    {
     "name": "stdout",
     "output_type": "stream",
     "text": [
      "[<tf.Variable 'd:0' shape=() dtype=float32_ref>,\n",
      " <tf.Variable 'e:0' shape=() dtype=float32_ref>,\n",
      " <tf.Variable 'f:0' shape=() dtype=float32_ref>]\n"
     ]
    }
   ],
   "source": [
    "with my_graph.as_default():\n",
    "    pprint(tf.global_variables())"
   ]
  },
  {
   "cell_type": "code",
   "execution_count": null,
   "metadata": {},
   "outputs": [],
   "source": []
  },
  {
   "cell_type": "code",
   "execution_count": null,
   "metadata": {},
   "outputs": [],
   "source": []
  }
 ],
 "metadata": {
  "kernelspec": {
   "display_name": "Python 3",
   "language": "python",
   "name": "python3"
  },
  "language_info": {
   "codemirror_mode": {
    "name": "ipython",
    "version": 3
   },
   "file_extension": ".py",
   "mimetype": "text/x-python",
   "name": "python",
   "nbconvert_exporter": "python",
   "pygments_lexer": "ipython3",
   "version": "3.7.3"
  }
 },
 "nbformat": 4,
 "nbformat_minor": 2
}
