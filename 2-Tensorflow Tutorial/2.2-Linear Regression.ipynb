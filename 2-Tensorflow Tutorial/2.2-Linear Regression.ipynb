{
 "cells": [
  {
   "cell_type": "code",
   "execution_count": 2,
   "metadata": {},
   "outputs": [
    {
     "name": "stderr",
     "output_type": "stream",
     "text": [
      "/anaconda3/lib/python3.7/site-packages/tensorflow/python/framework/dtypes.py:516: FutureWarning: Passing (type, 1) or '1type' as a synonym of type is deprecated; in a future version of numpy, it will be understood as (type, (1,)) / '(1,)type'.\n",
      "  _np_qint8 = np.dtype([(\"qint8\", np.int8, 1)])\n",
      "/anaconda3/lib/python3.7/site-packages/tensorflow/python/framework/dtypes.py:517: FutureWarning: Passing (type, 1) or '1type' as a synonym of type is deprecated; in a future version of numpy, it will be understood as (type, (1,)) / '(1,)type'.\n",
      "  _np_quint8 = np.dtype([(\"quint8\", np.uint8, 1)])\n",
      "/anaconda3/lib/python3.7/site-packages/tensorflow/python/framework/dtypes.py:518: FutureWarning: Passing (type, 1) or '1type' as a synonym of type is deprecated; in a future version of numpy, it will be understood as (type, (1,)) / '(1,)type'.\n",
      "  _np_qint16 = np.dtype([(\"qint16\", np.int16, 1)])\n",
      "/anaconda3/lib/python3.7/site-packages/tensorflow/python/framework/dtypes.py:519: FutureWarning: Passing (type, 1) or '1type' as a synonym of type is deprecated; in a future version of numpy, it will be understood as (type, (1,)) / '(1,)type'.\n",
      "  _np_quint16 = np.dtype([(\"quint16\", np.uint16, 1)])\n",
      "/anaconda3/lib/python3.7/site-packages/tensorflow/python/framework/dtypes.py:520: FutureWarning: Passing (type, 1) or '1type' as a synonym of type is deprecated; in a future version of numpy, it will be understood as (type, (1,)) / '(1,)type'.\n",
      "  _np_qint32 = np.dtype([(\"qint32\", np.int32, 1)])\n",
      "/anaconda3/lib/python3.7/site-packages/tensorflow/python/framework/dtypes.py:525: FutureWarning: Passing (type, 1) or '1type' as a synonym of type is deprecated; in a future version of numpy, it will be understood as (type, (1,)) / '(1,)type'.\n",
      "  np_resource = np.dtype([(\"resource\", np.ubyte, 1)])\n",
      "/anaconda3/lib/python3.7/site-packages/tensorboard/compat/tensorflow_stub/dtypes.py:541: FutureWarning: Passing (type, 1) or '1type' as a synonym of type is deprecated; in a future version of numpy, it will be understood as (type, (1,)) / '(1,)type'.\n",
      "  _np_qint8 = np.dtype([(\"qint8\", np.int8, 1)])\n",
      "/anaconda3/lib/python3.7/site-packages/tensorboard/compat/tensorflow_stub/dtypes.py:542: FutureWarning: Passing (type, 1) or '1type' as a synonym of type is deprecated; in a future version of numpy, it will be understood as (type, (1,)) / '(1,)type'.\n",
      "  _np_quint8 = np.dtype([(\"quint8\", np.uint8, 1)])\n",
      "/anaconda3/lib/python3.7/site-packages/tensorboard/compat/tensorflow_stub/dtypes.py:543: FutureWarning: Passing (type, 1) or '1type' as a synonym of type is deprecated; in a future version of numpy, it will be understood as (type, (1,)) / '(1,)type'.\n",
      "  _np_qint16 = np.dtype([(\"qint16\", np.int16, 1)])\n",
      "/anaconda3/lib/python3.7/site-packages/tensorboard/compat/tensorflow_stub/dtypes.py:544: FutureWarning: Passing (type, 1) or '1type' as a synonym of type is deprecated; in a future version of numpy, it will be understood as (type, (1,)) / '(1,)type'.\n",
      "  _np_quint16 = np.dtype([(\"quint16\", np.uint16, 1)])\n",
      "/anaconda3/lib/python3.7/site-packages/tensorboard/compat/tensorflow_stub/dtypes.py:545: FutureWarning: Passing (type, 1) or '1type' as a synonym of type is deprecated; in a future version of numpy, it will be understood as (type, (1,)) / '(1,)type'.\n",
      "  _np_qint32 = np.dtype([(\"qint32\", np.int32, 1)])\n",
      "/anaconda3/lib/python3.7/site-packages/tensorboard/compat/tensorflow_stub/dtypes.py:550: FutureWarning: Passing (type, 1) or '1type' as a synonym of type is deprecated; in a future version of numpy, it will be understood as (type, (1,)) / '(1,)type'.\n",
      "  np_resource = np.dtype([(\"resource\", np.ubyte, 1)])\n"
     ]
    }
   ],
   "source": [
    "import numpy as np\n",
    "import tensorflow as tf\n",
    "import matplotlib.pyplot as plt\n",
    "from pprint import pprint"
   ]
  },
  {
   "cell_type": "markdown",
   "metadata": {},
   "source": [
    "# Linear regression useing Tensorflow\n",
    "$ y = wx + b$ <br>\n",
    "$w=3, \\, b=15 $"
   ]
  },
  {
   "cell_type": "code",
   "execution_count": 3,
   "metadata": {},
   "outputs": [
    {
     "data": {
      "image/png": "[encoded data removed]",
      "text/plain": [
       "<Figure size 432x288 with 1 Axes>"
      ]
     },
     "metadata": {
      "needs_background": "light"
     },
     "output_type": "display_data"
    }
   ],
   "source": [
    "# generate random data-set\n",
    "np.random.seed(0)\n",
    "noise = np.random.rand(100)\n",
    "x = np.random.rand(100)\n",
    "y = 3 * x + 15 + noise\n",
    "# y=ax+b Target function  a=3, b=15\n",
    "\n",
    "\n",
    "# plot\n",
    "plt.scatter(x,y,s=10)\n",
    "plt.xlabel('x')\n",
    "plt.ylabel('y')\n",
    "plt.show()"
   ]
  },
  {
   "cell_type": "markdown",
   "metadata": {},
   "source": [
    "## 建立神經網路\n",
    "1. 建立變數和神經網路架構\n",
    "2. 計算 loss\n",
    "3. 使用 gradient descent 來縮小 loss"
   ]
  },
  {
   "cell_type": "code",
   "execution_count": 4,
   "metadata": {},
   "outputs": [],
   "source": [
    "# step 1\n",
    "inputs = tf.placeholder(dtype=tf.float32, shape=[100], name='X')\n",
    "y_label = tf.placeholder(dtype=tf.float32, shape=[100], name='label')\n",
    "\n",
    "w1 = tf.Variable([0.5], dtype=tf.float32, name='weight')\n",
    "b1 = tf.Variable([0.0], dtype=tf.float32, name='bias') \n",
    "y_pred = tf.add(tf.multiply(w1, inputs), b1, name='y_pred')  # y = w1*input + b1 --- (1)\n",
    "\n",
    "# step 2\n",
    "loss = tf.reduce_mean(tf.square(y_pred - y_label), name='mse')  # loss --- (2)\n",
    "\n",
    "# step 3\n",
    "optim = tf.train.GradientDescentOptimizer(learning_rate=0.1) \n",
    "train_ops = optim.minimize(loss)\n",
    "\n",
    "init = tf.global_variables_initializer()"
   ]
  },
  {
   "cell_type": "code",
   "execution_count": 5,
   "metadata": {},
   "outputs": [
    {
     "name": "stdout",
     "output_type": "stream",
     "text": [
      "[<tf.Variable 'weight:0' shape=(1,) dtype=float32_ref>,\n",
      " <tf.Variable 'bias:0' shape=(1,) dtype=float32_ref>]\n"
     ]
    }
   ],
   "source": [
    "pprint(tf.global_variables())"
   ]
  },
  {
   "cell_type": "markdown",
   "metadata": {},
   "source": [
    "![](https://i.imgur.com/Tvg1kKY.png)"
   ]
  },
  {
   "cell_type": "code",
   "execution_count": 6,
   "metadata": {},
   "outputs": [
    {
     "name": "stdout",
     "output_type": "stream",
     "text": [
      "-----start training-----\n",
      "step:   0, weight: 2.311, bias: 3.359, loss: 282.540\n",
      "step:  25, weight: 6.431, bias: 13.538, loss: 1.059\n",
      "step:  50, weight: 5.533, bias: 14.049, loss: 0.621\n",
      "step:  75, weight: 4.865, bias: 14.424, loss: 0.380\n",
      "step: 100, weight: 4.368, bias: 14.703, loss: 0.247\n",
      "step: 125, weight: 3.998, bias: 14.910, loss: 0.173\n",
      "step: 150, weight: 3.724, bias: 15.064, loss: 0.133\n",
      "step: 175, weight: 3.520, bias: 15.178, loss: 0.110\n",
      "step: 200, weight: 3.369, bias: 15.263, loss: 0.098\n",
      "step: 225, weight: 3.256, bias: 15.327, loss: 0.091\n",
      "step: 250, weight: 3.173, bias: 15.374, loss: 0.087\n",
      "step: 275, weight: 3.111, bias: 15.408, loss: 0.085\n",
      "step: 300, weight: 3.065, bias: 15.434, loss: 0.084\n",
      "step: 325, weight: 3.030, bias: 15.454, loss: 0.084\n",
      "step: 350, weight: 3.005, bias: 15.468, loss: 0.083\n",
      "step: 375, weight: 2.986, bias: 15.478, loss: 0.083\n",
      "step: 400, weight: 2.972, bias: 15.486, loss: 0.083\n",
      "step: 425, weight: 2.961, bias: 15.492, loss: 0.083\n",
      "step: 450, weight: 2.954, bias: 15.497, loss: 0.083\n",
      "step: 475, weight: 2.948, bias: 15.500, loss: 0.083\n"
     ]
    }
   ],
   "source": [
    "## train the model\n",
    "sess = tf.Session()\n",
    "print(\"-----start training-----\")\n",
    "sess.run(init)\n",
    "\n",
    "for step in np.arange(500):\n",
    "    _, train_loss = sess.run([train_ops,loss], feed_dict={inputs: x, y_label: y})  # update variables\n",
    "    if step%25 == 0:\n",
    "        print('step: {:3d}, weight: {:.3f}, bias: {:.3f}, loss: {:.3f}'.format(step, sess.run(w1)[0], sess.run(b1)[0], train_loss))\n",
    "               \n",
    "y_out = sess.run(y_pred, feed_dict={inputs: x})"
   ]
  },
  {
   "cell_type": "code",
   "execution_count": 110,
   "metadata": {},
   "outputs": [
    {
     "data": {
      "image/png": "[encoded data removed]",
      "text/plain": [
       "<Figure size 432x288 with 1 Axes>"
      ]
     },
     "metadata": {
      "needs_background": "light"
     },
     "output_type": "display_data"
    }
   ],
   "source": [
    "# plt.plot(x, y, 'b.', label='True')\n",
    "plt.scatter(x, y, s=10, label='True')\n",
    "plt.scatter(x, y_out, color='r', s=10, label='Predicted')\n",
    "plt.xlabel('x')\n",
    "plt.ylabel('y')\n",
    "plt.legend()\n",
    "plt.show()\n",
    "\n",
    "sess.close()"
   ]
  },
  {
   "cell_type": "markdown",
   "metadata": {},
   "source": [
    "![](https://i.imgur.com/PtH1QiU.png)"
   ]
  },
  {
   "cell_type": "markdown",
   "metadata": {},
   "source": [
    "# Practice\n",
    "$ y = w_1x^2 + w_2x + b$ <br>\n",
    "$ w_1=6, \\, w_2=-4, \\, b=1 $"
   ]
  },
  {
   "cell_type": "code",
   "execution_count": 7,
   "metadata": {},
   "outputs": [
    {
     "data": {
      "image/png": "[encoded data removed]",
      "text/plain": [
       "<Figure size 432x288 with 1 Axes>"
      ]
     },
     "metadata": {
      "needs_background": "light"
     },
     "output_type": "display_data"
    }
   ],
   "source": [
    "x_in = np.linspace(-1, 1, 200)\n",
    "y_true = 6*x_in**2 - 4*x_in + 1 + np.random.rand(len(x_in))*2\n",
    "\n",
    "plt.plot(x_in, y_true, 'b.')\n",
    "plt.show()"
   ]
  },
  {
   "cell_type": "code",
   "execution_count": null,
   "metadata": {},
   "outputs": [],
   "source": []
  }
 ],
 "metadata": {
  "kernelspec": {
   "display_name": "Python 3",
   "language": "python",
   "name": "python3"
  },
  "language_info": {
   "codemirror_mode": {
    "name": "ipython",
    "version": 3
   },
   "file_extension": ".py",
   "mimetype": "text/x-python",
   "name": "python",
   "nbconvert_exporter": "python",
   "pygments_lexer": "ipython3",
   "version": "3.7.4"
  }
 },
 "nbformat": 4,
 "nbformat_minor": 4
}
