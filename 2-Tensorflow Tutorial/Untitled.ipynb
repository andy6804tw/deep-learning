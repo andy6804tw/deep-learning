{
 "cells": [
  {
   "cell_type": "code",
   "execution_count": 1,
   "metadata": {},
   "outputs": [],
   "source": [
    "class Layer:\n",
    "  def __init__(self):\n",
    "    self.parameters = []\n",
    "\n",
    "  def forward(self, X):\n",
    "    \"\"\"\n",
    "    Override me! A simple no-op layer, it passes forward the inputs\n",
    "    \"\"\"\n",
    "    return X, lambda D: D\n",
    "\n",
    "  def build_param(self, tensor):\n",
    "    \"\"\"\n",
    "    Creates a parameter from a tensor, and saves a reference for the update step\n",
    "    \"\"\"\n",
    "    param = Parameter(tensor)\n",
    "    self.parameters.append(param)\n",
    "    return param\n",
    "\n",
    "  def update(self, optimizer):\n",
    "    for param in self.parameters: optimizer.update(param)"
   ]
  },
  {
   "cell_type": "code",
   "execution_count": null,
   "metadata": {},
   "outputs": [],
   "source": []
  }
 ],
 "metadata": {
  "kernelspec": {
   "display_name": "Python 3",
   "language": "python",
   "name": "python3"
  },
  "language_info": {
   "codemirror_mode": {
    "name": "ipython",
    "version": 3
   },
   "file_extension": ".py",
   "mimetype": "text/x-python",
   "name": "python",
   "nbconvert_exporter": "python",
   "pygments_lexer": "ipython3",
   "version": "3.7.3"
  }
 },
 "nbformat": 4,
 "nbformat_minor": 2
}
