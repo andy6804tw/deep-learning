{
 "cells": [
  {
   "cell_type": "code",
   "execution_count": 1,
   "metadata": {},
   "outputs": [
    {
     "name": "stderr",
     "output_type": "stream",
     "text": [
      "/opt/conda/lib/python3.6/site-packages/h5py/__init__.py:36: FutureWarning: Conversion of the second argument of issubdtype from `float` to `np.floating` is deprecated. In future, it will be treated as `np.float64 == np.dtype(float).type`.\n",
      "  from ._conv import register_converters as _register_converters\n"
     ]
    }
   ],
   "source": [
    "from tensorflow import keras\n",
    "from tensorflow.keras import layers\n",
    "from tensorflow.keras.utils import Sequence,to_categorical\n",
    "\n",
    "import pandas as pd\n",
    "from sklearn.model_selection import train_test_split\n",
    "from tqdm import tqdm_notebook   ##顯示進度條\n",
    "import matplotlib.pyplot as plt\n",
    "from sklearn.preprocessing import MinMaxScaler\n",
    "import numpy as np\n",
    "import time\n",
    "\n",
    "from tensorflow.keras.models import Model\n",
    "from tensorflow.keras import optimizers\n"
   ]
  },
  {
   "cell_type": "code",
   "execution_count": 2,
   "metadata": {},
   "outputs": [],
   "source": [
    "df_train = pd.read_csv('./data/train.csv')\n",
    "df_train = df_train.drop(labels=['Id'],axis=1)"
   ]
  },
  {
   "cell_type": "code",
   "execution_count": 3,
   "metadata": {},
   "outputs": [],
   "source": [
    "X_train = df_train.drop(labels=['Cover_Type'],axis=1).values\n",
    "y_train = df_train['Cover_Type'].values"
   ]
  },
  {
   "cell_type": "code",
   "execution_count": 4,
   "metadata": {},
   "outputs": [],
   "source": [
    "scaler = MinMaxScaler()\n",
    "X_train = X_train.astype(np.float32)\n",
    "X_train = scaler.fit_transform(X_train)"
   ]
  },
  {
   "cell_type": "markdown",
   "metadata": {},
   "source": [
    "# one hot"
   ]
  },
  {
   "cell_type": "code",
   "execution_count": 5,
   "metadata": {},
   "outputs": [],
   "source": [
    "y_train = to_categorical(y_train-1)"
   ]
  },
  {
   "cell_type": "code",
   "execution_count": 6,
   "metadata": {},
   "outputs": [],
   "source": [
    "from sklearn.model_selection import train_test_split\n",
    "train_x , test_x , train_y , test_y = train_test_split(X_train,y_train , test_size=.2 , random_state=42 )"
   ]
  },
  {
   "cell_type": "markdown",
   "metadata": {},
   "source": [
    "# build model"
   ]
  },
  {
   "cell_type": "code",
   "execution_count": 7,
   "metadata": {},
   "outputs": [
    {
     "data": {
      "text/plain": [
       "(54,)"
      ]
     },
     "execution_count": 7,
     "metadata": {},
     "output_type": "execute_result"
    }
   ],
   "source": [
    "(X_train.shape[1],)"
   ]
  },
  {
   "cell_type": "code",
   "execution_count": 8,
   "metadata": {},
   "outputs": [
    {
     "data": {
      "text/plain": [
       "54"
      ]
     },
     "execution_count": 8,
     "metadata": {},
     "output_type": "execute_result"
    }
   ],
   "source": [
    "X_train.shape[1]"
   ]
  },
  {
   "cell_type": "code",
   "execution_count": 9,
   "metadata": {},
   "outputs": [],
   "source": [
    "def build_model():\n",
    "    model_input = layers.Input(shape=(X_train.shape[1],))\n",
    "    x = layers.Dense(512,activation='relu')(model_input)\n",
    "    x = layers.Dense(256,activation='relu')(x)\n",
    "    x = layers.Dense(128,activation='relu')(x)\n",
    "    x = layers.Dense(7,activation='softmax')(x)\n",
    "    \n",
    "    return Model(model_input ,x)\n",
    "    "
   ]
  },
  {
   "cell_type": "code",
   "execution_count": 10,
   "metadata": {},
   "outputs": [
    {
     "name": "stdout",
     "output_type": "stream",
     "text": [
      "_________________________________________________________________\n",
      "Layer (type)                 Output Shape              Param #   \n",
      "=================================================================\n",
      "input_1 (InputLayer)         (None, 54)                0         \n",
      "_________________________________________________________________\n",
      "dense (Dense)                (None, 512)               28160     \n",
      "_________________________________________________________________\n",
      "dense_1 (Dense)              (None, 256)               131328    \n",
      "_________________________________________________________________\n",
      "dense_2 (Dense)              (None, 128)               32896     \n",
      "_________________________________________________________________\n",
      "dense_3 (Dense)              (None, 7)                 903       \n",
      "=================================================================\n",
      "Total params: 193,287\n",
      "Trainable params: 193,287\n",
      "Non-trainable params: 0\n",
      "_________________________________________________________________\n"
     ]
    }
   ],
   "source": [
    "model = build_model()\n",
    "model.summary()"
   ]
  },
  {
   "cell_type": "markdown",
   "metadata": {},
   "source": [
    "# optimizer , loss , metrics"
   ]
  },
  {
   "cell_type": "code",
   "execution_count": 11,
   "metadata": {},
   "outputs": [],
   "source": [
    "opt = optimizers.Adam(lr=0.0001 , beta_1 = 0.5)\n",
    "model.compile(loss='categorical_crossentropy' , optimizer=opt , metrics=['acc'])"
   ]
  },
  {
   "cell_type": "markdown",
   "metadata": {},
   "source": [
    "# callbacks - ModelCheckpoint , early stopping"
   ]
  },
  {
   "cell_type": "code",
   "execution_count": 12,
   "metadata": {},
   "outputs": [],
   "source": [
    "from tensorflow.keras.callbacks import ModelCheckpoint,EarlyStopping\n",
    "\n",
    "check_pointer = ModelCheckpoint(filepath='./weights.hdf5',save_best_only=True)\n",
    "early_stop = EarlyStopping(monitor='val_loss',patience=10)"
   ]
  },
  {
   "cell_type": "code",
   "execution_count": null,
   "metadata": {},
   "outputs": [],
   "source": []
  },
  {
   "cell_type": "code",
   "execution_count": 13,
   "metadata": {},
   "outputs": [
    {
     "name": "stdout",
     "output_type": "stream",
     "text": [
      "Train on 14364 samples, validate on 2873 samples\n",
      "Epoch 1/10\n",
      "14364/14364 [==============================] - 2s 171us/step - loss: 1.1952 - acc: 0.5665 - val_loss: 0.9173 - val_acc: 0.6095\n",
      "Epoch 2/10\n",
      "14364/14364 [==============================] - 1s 100us/step - loss: 0.8493 - acc: 0.6376 - val_loss: 0.8152 - val_acc: 0.6648\n",
      "Epoch 3/10\n",
      "14364/14364 [==============================] - 1s 100us/step - loss: 0.7919 - acc: 0.6662 - val_loss: 0.7632 - val_acc: 0.6787\n",
      "Epoch 4/10\n",
      "14364/14364 [==============================] - 1s 100us/step - loss: 0.7548 - acc: 0.6827 - val_loss: 0.7352 - val_acc: 0.6979\n",
      "Epoch 5/10\n",
      "14364/14364 [==============================] - 1s 100us/step - loss: 0.7252 - acc: 0.6903 - val_loss: 0.7133 - val_acc: 0.7066\n",
      "Epoch 6/10\n",
      "14364/14364 [==============================] - 2s 108us/step - loss: 0.7010 - acc: 0.7039 - val_loss: 0.6915 - val_acc: 0.7041\n",
      "Epoch 7/10\n",
      "14364/14364 [==============================] - 2s 106us/step - loss: 0.6797 - acc: 0.7113 - val_loss: 0.6579 - val_acc: 0.7271\n",
      "Epoch 8/10\n",
      "14364/14364 [==============================] - 1s 99us/step - loss: 0.6616 - acc: 0.7205 - val_loss: 0.6500 - val_acc: 0.7275\n",
      "Epoch 9/10\n",
      "14364/14364 [==============================] - 1s 99us/step - loss: 0.6472 - acc: 0.7291 - val_loss: 0.6265 - val_acc: 0.7400\n",
      "Epoch 10/10\n",
      "14364/14364 [==============================] - 1s 100us/step - loss: 0.6336 - acc: 0.7315 - val_loss: 0.6253 - val_acc: 0.7372\n"
     ]
    }
   ],
   "source": [
    "history = model.fit(X_train,y_train,batch_size=32,epochs=10,validation_data=(test_x,test_y),callbacks=[check_pointer,early_stop])\n",
    "\n"
   ]
  },
  {
   "cell_type": "code",
   "execution_count": 17,
   "metadata": {},
   "outputs": [],
   "source": [
    "# history.history"
   ]
  },
  {
   "cell_type": "code",
   "execution_count": 18,
   "metadata": {},
   "outputs": [
    {
     "data": {
      "text/plain": [
       "dict_keys(['val_loss', 'val_acc', 'loss', 'acc'])"
      ]
     },
     "execution_count": 18,
     "metadata": {},
     "output_type": "execute_result"
    }
   ],
   "source": [
    "history_dict = history.history\n",
    "history_dict.keys()"
   ]
  },
  {
   "cell_type": "markdown",
   "metadata": {},
   "source": [
    "# 畫圖"
   ]
  },
  {
   "cell_type": "code",
   "execution_count": 20,
   "metadata": {},
   "outputs": [],
   "source": [
    "import matplotlib.pyplot as plt"
   ]
  },
  {
   "cell_type": "code",
   "execution_count": 21,
   "metadata": {},
   "outputs": [],
   "source": [
    "acc = history_dict['acc']\n",
    "val_acc = history_dict['val_acc']\n",
    "loss = history_dict['loss']\n",
    "val_loss = history_dict['val_loss']\n"
   ]
  },
  {
   "cell_type": "code",
   "execution_count": 22,
   "metadata": {},
   "outputs": [],
   "source": [
    "epochs_ = range(1,len(acc)+1)"
   ]
  },
  {
   "cell_type": "code",
   "execution_count": 23,
   "metadata": {},
   "outputs": [
    {
     "data": {
      "image/png": "[encoded data removed]",
      "text/plain": [
       "<Figure size 432x288 with 1 Axes>"
      ]
     },
     "metadata": {
      "needs_background": "light"
     },
     "output_type": "display_data"
    }
   ],
   "source": [
    "plt.plot(epochs_ , loss , label = 'training loss')\n",
    "plt.plot(epochs_ , val_loss , label = 'val los')\n",
    "plt.title('training and val loss')\n",
    "plt.xlabel('epochs')\n",
    "plt.ylabel('loss')\n",
    "plt.legend()\n",
    "plt.show()"
   ]
  },
  {
   "cell_type": "code",
   "execution_count": 24,
   "metadata": {},
   "outputs": [
    {
     "data": {
      "image/png": "[encoded data removed]",
      "text/plain": [
       "<Figure size 432x288 with 1 Axes>"
      ]
     },
     "metadata": {
      "needs_background": "light"
     },
     "output_type": "display_data"
    }
   ],
   "source": [
    "plt.clf()\n",
    "plt.plot(epochs_ , acc , label='train accuracy')\n",
    "plt.plot(epochs_ , val_acc , label = 'val accuracy')\n",
    "plt.title('train and val acc')\n",
    "plt.xlabel('epochs')\n",
    "plt.ylabel('acc')\n",
    "plt.legend()\n",
    "plt.show()"
   ]
  },
  {
   "cell_type": "code",
   "execution_count": 20,
   "metadata": {},
   "outputs": [
    {
     "data": {
      "text/plain": [
       "(11491, 54)"
      ]
     },
     "execution_count": 20,
     "metadata": {},
     "output_type": "execute_result"
    }
   ],
   "source": [
    "train_x.shape"
   ]
  },
  {
   "cell_type": "code",
   "execution_count": 21,
   "metadata": {},
   "outputs": [
    {
     "data": {
      "text/plain": [
       "(11491, 7)"
      ]
     },
     "execution_count": 21,
     "metadata": {},
     "output_type": "execute_result"
    }
   ],
   "source": [
    "train_y.shape"
   ]
  },
  {
   "cell_type": "markdown",
   "metadata": {},
   "source": [
    "# 另一種不寫死的方法"
   ]
  },
  {
   "cell_type": "code",
   "execution_count": 25,
   "metadata": {},
   "outputs": [],
   "source": [
    "batch_size=32\n",
    "epochs=10\n",
    "every_print =5"
   ]
  },
  {
   "cell_type": "code",
   "execution_count": 26,
   "metadata": {},
   "outputs": [],
   "source": [
    "model = build_model()\n",
    "\n",
    "model.compile(optimizer='adam',loss='categorical_crossentropy',metrics=['acc'])"
   ]
  },
  {
   "cell_type": "code",
   "execution_count": 27,
   "metadata": {},
   "outputs": [
    {
     "name": "stdout",
     "output_type": "stream",
     "text": [
      "\n",
      "epoch: 1/10 \n",
      "\n",
      "train_loss:1.923 \ttrain_acc:0.312\n",
      "train_loss:1.273 \ttrain_acc:0.312\n",
      "train_loss:0.917 \ttrain_acc:0.656\n",
      "train_loss:0.788 \ttrain_acc:0.625\n",
      "train_loss:0.601 \ttrain_acc:0.719\n",
      "epoch 1: loss:0.807\tacc:64.46%\n",
      "time per epoch: 1.6539 sec \n",
      "\n",
      "\n",
      "epoch: 2/10 \n",
      "\n",
      "train_loss:0.807 \ttrain_acc:0.688\n",
      "train_loss:1.062 \ttrain_acc:0.500\n",
      "train_loss:0.685 \ttrain_acc:0.719\n",
      "train_loss:0.725 \ttrain_acc:0.688\n",
      "train_loss:0.523 \ttrain_acc:0.719\n",
      "epoch 2: loss:0.713\tacc:69.13%\n",
      "time per epoch: 0.9656 sec \n",
      "\n",
      "\n",
      "epoch: 3/10 \n",
      "\n",
      "train_loss:0.691 \ttrain_acc:0.812\n",
      "train_loss:1.001 \ttrain_acc:0.531\n",
      "train_loss:0.632 \ttrain_acc:0.781\n",
      "train_loss:0.684 \ttrain_acc:0.750\n",
      "train_loss:0.521 \ttrain_acc:0.719\n",
      "epoch 3: loss:0.678\tacc:70.87%\n",
      "time per epoch: 0.9661 sec \n",
      "\n",
      "\n",
      "epoch: 4/10 \n",
      "\n",
      "train_loss:0.626 \ttrain_acc:0.812\n",
      "train_loss:0.963 \ttrain_acc:0.531\n",
      "train_loss:0.600 \ttrain_acc:0.781\n",
      "train_loss:0.640 \ttrain_acc:0.781\n",
      "train_loss:0.521 \ttrain_acc:0.719\n",
      "epoch 4: loss:0.665\tacc:71.15%\n",
      "time per epoch: 0.9681 sec \n",
      "\n",
      "\n",
      "epoch: 5/10 \n",
      "\n",
      "train_loss:0.580 \ttrain_acc:0.844\n",
      "train_loss:0.946 \ttrain_acc:0.594\n",
      "train_loss:0.576 \ttrain_acc:0.781\n",
      "train_loss:0.587 \ttrain_acc:0.781\n",
      "train_loss:0.511 \ttrain_acc:0.719\n",
      "epoch 5: loss:0.655\tacc:71.11%\n",
      "time per epoch: 0.9713 sec \n",
      "\n",
      "\n",
      "epoch: 6/10 \n",
      "\n",
      "train_loss:0.542 \ttrain_acc:0.844\n",
      "train_loss:0.926 \ttrain_acc:0.562\n",
      "train_loss:0.564 \ttrain_acc:0.781\n",
      "train_loss:0.539 \ttrain_acc:0.781\n",
      "train_loss:0.503 \ttrain_acc:0.719\n",
      "epoch 6: loss:0.652\tacc:71.35%\n",
      "time per epoch: 0.9602 sec \n",
      "\n",
      "\n",
      "epoch: 7/10 \n",
      "\n",
      "train_loss:0.514 \ttrain_acc:0.812\n",
      "train_loss:0.897 \ttrain_acc:0.594\n",
      "train_loss:0.551 \ttrain_acc:0.781\n",
      "train_loss:0.506 \ttrain_acc:0.781\n",
      "train_loss:0.487 \ttrain_acc:0.719\n",
      "epoch 7: loss:0.647\tacc:72.40%\n",
      "time per epoch: 0.9628 sec \n",
      "\n",
      "\n",
      "epoch: 8/10 \n",
      "\n",
      "train_loss:0.486 \ttrain_acc:0.844\n",
      "train_loss:0.854 \ttrain_acc:0.594\n",
      "train_loss:0.539 \ttrain_acc:0.781\n",
      "train_loss:0.494 \ttrain_acc:0.844\n",
      "train_loss:0.476 \ttrain_acc:0.750\n",
      "epoch 8: loss:0.610\tacc:73.79%\n",
      "time per epoch: 0.9757 sec \n",
      "\n",
      "\n",
      "epoch: 9/10 \n",
      "\n",
      "train_loss:0.441 \ttrain_acc:0.812\n",
      "train_loss:0.798 \ttrain_acc:0.594\n",
      "train_loss:0.515 \ttrain_acc:0.812\n",
      "train_loss:0.495 \ttrain_acc:0.812\n",
      "train_loss:0.459 \ttrain_acc:0.781\n",
      "epoch 9: loss:0.585\tacc:74.83%\n",
      "time per epoch: 0.9693 sec \n",
      "\n",
      "\n",
      "epoch: 10/10 \n",
      "\n",
      "train_loss:0.402 \ttrain_acc:0.812\n",
      "train_loss:0.779 \ttrain_acc:0.594\n",
      "train_loss:0.495 \ttrain_acc:0.812\n",
      "train_loss:0.487 \ttrain_acc:0.812\n",
      "train_loss:0.442 \ttrain_acc:0.781\n",
      "epoch 10: loss:0.560\tacc:76.12%\n",
      "time per epoch: 0.9651 sec \n",
      "\n"
     ]
    }
   ],
   "source": [
    "\n",
    "\n",
    "train_epoch_losses , valid_epoch_losses = [],[]\n",
    "train_epoch_acc , valid_epoch_acc = [],[]\n",
    "\n",
    "for i in range(epochs):\n",
    "    start_time = time.time()\n",
    "    print(f\"\\nepoch: {i+1}/{epochs} \\n\")\n",
    "    \n",
    "    batch_num = int(np.ceil(len(train_x)/batch_size))\n",
    "    split_step = batch_num // every_print\n",
    "    \n",
    "    train_losses = []\n",
    "    train_batch_acc = []\n",
    "    \n",
    "    for j in range(batch_num):\n",
    "        \n",
    "        batch_x = train_x[j*batch_size:min((j+1)*batch_size , len(train_x))]\n",
    "        batch_y = train_y[j*batch_size:min((j+1)*batch_size , len(train_y))]\n",
    "        \n",
    "        ###\n",
    "        batch_loss , batch_acc = model.train_on_batch(batch_x , batch_y)\n",
    "        ###\n",
    "        \n",
    "        \n",
    "        train_losses.append(batch_loss)\n",
    "        train_batch_acc.append(batch_acc)\n",
    "        \n",
    "        \n",
    "        if j%split_step==0:\n",
    "            print('train_loss:%5.3f \\ttrain_acc:%5.3f'  % (batch_loss,batch_acc))\n",
    "    \n",
    "    duration = time.time() - start_time\n",
    "    \n",
    "    valid_loss , valid_acc = model.test_on_batch(test_x , test_y)\n",
    "    print(f\"epoch {i+1}: loss:{valid_loss:5.3f}\\tacc:{valid_acc*100:5.2f}%\")\n",
    "    print( f\"time per epoch: {duration:4.4f} sec \\n\") \n",
    "    \n",
    "    train_loss_avg = np.mean(train_losses)\n",
    "    train_acc_avg = np.mean(train_batch_acc)\n",
    "    \n",
    "    train_epoch_losses.append(train_loss_avg)\n",
    "    train_epoch_acc.append(train_acc_avg)\n",
    "    \n",
    "    valid_epoch_losses.append(valid_loss)\n",
    "    valid_epoch_acc.append(valid_acc)\n",
    "        \n",
    "    \n",
    "            \n",
    "            \n",
    "            \n",
    "            \n",
    "        "
   ]
  },
  {
   "cell_type": "markdown",
   "metadata": {},
   "source": [
    "# 自定義model"
   ]
  },
  {
   "cell_type": "code",
   "execution_count": 28,
   "metadata": {},
   "outputs": [],
   "source": [
    "class network(keras.Model):\n",
    "    def __init__(self):\n",
    "        super(network,self).__init__()\n",
    "        self.layer_1 = layers.Dense(512 , activation='relu' )\n",
    "        self.layer_2 = layers.Dense(256 , activation='relu')\n",
    "        self.layer_3 = layers.Dense(128 , activation='relu' )\n",
    "        self.output_layer = layers.Dense(7 , activation='softmax',)\n",
    "        \n",
    "    def call(self,x):\n",
    "        x_1 = self.layer_1(x)\n",
    "        x_2 = self.layer_2(x_1)\n",
    "        x_3 = self.layer_3(x_2)\n",
    "        predict = self.output_layer(x_3)\n",
    "        \n",
    "        return predict"
   ]
  },
  {
   "cell_type": "code",
   "execution_count": 29,
   "metadata": {},
   "outputs": [],
   "source": [
    "model = network()\n",
    "model.compile(loss='categorical_crossentropy' , optimizer='adam' , metrics=['accuracy'])"
   ]
  },
  {
   "cell_type": "code",
   "execution_count": 31,
   "metadata": {},
   "outputs": [],
   "source": [
    "# model.summary()"
   ]
  },
  {
   "cell_type": "code",
   "execution_count": 32,
   "metadata": {},
   "outputs": [
    {
     "name": "stdout",
     "output_type": "stream",
     "text": [
      "\n",
      "epoch: 1/10 \n",
      "\n",
      "train_loss:1.941 \ttrain_acc:0.250\n",
      "train_loss:1.232 \ttrain_acc:0.406\n",
      "train_loss:0.852 \ttrain_acc:0.625\n",
      "train_loss:0.794 \ttrain_acc:0.719\n",
      "train_loss:0.570 \ttrain_acc:0.688\n",
      "epoch 1: loss:0.807\tacc:64.74%\n",
      "time per epoch: 1.7808 sec \n",
      "\n",
      "\n",
      "epoch: 2/10 \n",
      "\n",
      "train_loss:0.828 \ttrain_acc:0.750\n",
      "train_loss:1.101 \ttrain_acc:0.438\n",
      "train_loss:0.677 \ttrain_acc:0.750\n",
      "train_loss:0.721 \ttrain_acc:0.688\n",
      "train_loss:0.554 \ttrain_acc:0.750\n",
      "epoch 2: loss:0.720\tacc:68.64%\n",
      "time per epoch: 0.9607 sec \n",
      "\n",
      "\n",
      "epoch: 3/10 \n",
      "\n",
      "train_loss:0.688 \ttrain_acc:0.781\n",
      "train_loss:1.044 \ttrain_acc:0.531\n",
      "train_loss:0.633 \ttrain_acc:0.719\n",
      "train_loss:0.699 \ttrain_acc:0.719\n",
      "train_loss:0.530 \ttrain_acc:0.719\n",
      "epoch 3: loss:0.687\tacc:69.82%\n",
      "time per epoch: 0.9744 sec \n",
      "\n",
      "\n",
      "epoch: 4/10 \n",
      "\n",
      "train_loss:0.615 \ttrain_acc:0.844\n",
      "train_loss:0.992 \ttrain_acc:0.562\n",
      "train_loss:0.574 \ttrain_acc:0.781\n",
      "train_loss:0.634 \ttrain_acc:0.719\n",
      "train_loss:0.521 \ttrain_acc:0.719\n",
      "epoch 4: loss:0.673\tacc:70.38%\n",
      "time per epoch: 0.9606 sec \n",
      "\n",
      "\n",
      "epoch: 5/10 \n",
      "\n",
      "train_loss:0.577 \ttrain_acc:0.844\n",
      "train_loss:0.982 \ttrain_acc:0.531\n",
      "train_loss:0.540 \ttrain_acc:0.781\n",
      "train_loss:0.619 \ttrain_acc:0.750\n",
      "train_loss:0.499 \ttrain_acc:0.719\n",
      "epoch 5: loss:0.684\tacc:70.31%\n",
      "time per epoch: 0.9655 sec \n",
      "\n",
      "\n",
      "epoch: 6/10 \n",
      "\n",
      "train_loss:0.559 \ttrain_acc:0.844\n",
      "train_loss:0.956 \ttrain_acc:0.531\n",
      "train_loss:0.540 \ttrain_acc:0.812\n",
      "train_loss:0.565 \ttrain_acc:0.750\n",
      "train_loss:0.483 \ttrain_acc:0.719\n",
      "epoch 6: loss:0.668\tacc:71.25%\n",
      "time per epoch: 0.9658 sec \n",
      "\n",
      "\n",
      "epoch: 7/10 \n",
      "\n",
      "train_loss:0.532 \ttrain_acc:0.812\n",
      "train_loss:0.913 \ttrain_acc:0.562\n",
      "train_loss:0.531 \ttrain_acc:0.812\n",
      "train_loss:0.525 \ttrain_acc:0.812\n",
      "train_loss:0.480 \ttrain_acc:0.719\n",
      "epoch 7: loss:0.660\tacc:71.49%\n",
      "time per epoch: 0.9636 sec \n",
      "\n",
      "\n",
      "epoch: 8/10 \n",
      "\n",
      "train_loss:0.500 \ttrain_acc:0.844\n",
      "train_loss:0.886 \ttrain_acc:0.594\n",
      "train_loss:0.526 \ttrain_acc:0.812\n",
      "train_loss:0.501 \ttrain_acc:0.844\n",
      "train_loss:0.459 \ttrain_acc:0.719\n",
      "epoch 8: loss:0.615\tacc:73.02%\n",
      "time per epoch: 0.9639 sec \n",
      "\n",
      "\n",
      "epoch: 9/10 \n",
      "\n",
      "train_loss:0.451 \ttrain_acc:0.844\n",
      "train_loss:0.837 \ttrain_acc:0.594\n",
      "train_loss:0.494 \ttrain_acc:0.812\n",
      "train_loss:0.482 \ttrain_acc:0.812\n",
      "train_loss:0.438 \ttrain_acc:0.750\n",
      "epoch 9: loss:0.597\tacc:74.31%\n",
      "time per epoch: 0.9609 sec \n",
      "\n",
      "\n",
      "epoch: 10/10 \n",
      "\n",
      "train_loss:0.419 \ttrain_acc:0.844\n",
      "train_loss:0.803 \ttrain_acc:0.656\n",
      "train_loss:0.473 \ttrain_acc:0.812\n",
      "train_loss:0.453 \ttrain_acc:0.875\n",
      "train_loss:0.420 \ttrain_acc:0.750\n",
      "epoch 10: loss:0.567\tacc:76.02%\n",
      "time per epoch: 0.9741 sec \n",
      "\n"
     ]
    }
   ],
   "source": [
    "\n",
    "train_epoch_losses , valid_epoch_losses = [],[]\n",
    "train_epoch_acc , valid_epoch_acc = [],[]\n",
    "\n",
    "for i in range(epochs):\n",
    "    start_time = time.time()\n",
    "    print(f\"\\nepoch: {i+1}/{epochs} \\n\")\n",
    "    \n",
    "    batch_num = int(np.ceil(len(train_x)/batch_size))\n",
    "    split_step = batch_num // every_print\n",
    "    \n",
    "    train_losses = []\n",
    "    train_batch_acc = []\n",
    "    \n",
    "    for j in range(batch_num):\n",
    "        \n",
    "        batch_x = train_x[j*batch_size:min((j+1)*batch_size , len(train_x))]\n",
    "        batch_y = train_y[j*batch_size:min((j+1)*batch_size , len(train_y))]\n",
    "        \n",
    "        ###\n",
    "        batch_loss , batch_acc = model.train_on_batch(batch_x , batch_y)\n",
    "        ###\n",
    "        \n",
    "        train_losses.append(batch_loss)\n",
    "        train_batch_acc.append(batch_acc)\n",
    "        \n",
    "        \n",
    "        if j%split_step==0:\n",
    "            print('train_loss:%5.3f \\ttrain_acc:%5.3f'  % (batch_loss,batch_acc))\n",
    "    \n",
    "    duration = time.time() - start_time\n",
    "    \n",
    "    ###\n",
    "    valid_loss , valid_acc = model.test_on_batch(test_x , test_y)\n",
    "    ###\n",
    "    \n",
    "    print(f\"epoch {i+1}: loss:{valid_loss:5.3f}\\tacc:{valid_acc*100:5.2f}%\")\n",
    "    print( f\"time per epoch: {duration:4.4f} sec \\n\") \n",
    "    \n",
    "    train_loss_avg = np.mean(train_losses)\n",
    "    train_acc_avg = np.mean(train_batch_acc)\n",
    "    \n",
    "    train_epoch_losses.append(train_loss_avg)\n",
    "    train_epoch_acc.append(train_acc_avg)\n",
    "    \n",
    "    valid_epoch_losses.append(valid_loss)\n",
    "    valid_epoch_acc.append(valid_acc)"
   ]
  },
  {
   "cell_type": "code",
   "execution_count": null,
   "metadata": {},
   "outputs": [],
   "source": []
  }
 ],
 "metadata": {
  "kernelspec": {
   "display_name": "Python 3",
   "language": "python",
   "name": "python3"
  },
  "language_info": {
   "codemirror_mode": {
    "name": "ipython",
    "version": 3
   },
   "file_extension": ".py",
   "mimetype": "text/x-python",
   "name": "python",
   "nbconvert_exporter": "python",
   "pygments_lexer": "ipython3",
   "version": "3.7.4"
  }
 },
 "nbformat": 4,
 "nbformat_minor": 4
}
