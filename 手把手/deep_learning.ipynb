{
 "cells": [
  {
   "cell_type": "markdown",
   "metadata": {},
   "source": [
    "# deep learning 手把手"
   ]
  },
  {
   "cell_type": "markdown",
   "metadata": {},
   "source": [
    "## 匯入相關套件"
   ]
  },
  {
   "cell_type": "code",
   "execution_count": 4,
   "metadata": {},
   "outputs": [],
   "source": [
    "import time\n",
    "import os\n",
    "import numpy as np\n",
    "import tensorflow as tf\n",
    "from tqdm import tqdm_notebook   ##顯示進度條\n",
    "import matplotlib.pyplot as plt\n",
    "import pandas as pd\n"
   ]
  },
  {
   "cell_type": "markdown",
   "metadata": {},
   "source": [
    "## 使用GPU\n",
    "若有多個GPU，預設是全拿，可以指定GPU"
   ]
  },
  {
   "cell_type": "code",
   "execution_count": 5,
   "metadata": {},
   "outputs": [
    {
     "data": {
      "text/plain": [
       "'/device:GPU:0'"
      ]
     },
     "execution_count": 5,
     "metadata": {},
     "output_type": "execute_result"
    }
   ],
   "source": [
    "os.environ[\"CUDA_VISIBLE_DEVICES\"]=\"0\"\n",
    "tf.test.is_gpu_available()    ## 有GPU可用嗎\n",
    "tf.test.gpu_device_name()     ## 顯示GPU的名稱"
   ]
  },
  {
   "cell_type": "markdown",
   "metadata": {},
   "source": [
    "## 讀資料\n"
   ]
  },
  {
   "cell_type": "code",
   "execution_count": 6,
   "metadata": {},
   "outputs": [],
   "source": [
    "df_train = pd.read_csv('./data/train.csv')\n",
    "df_train = df_train.drop(labels=['Id'],axis=1)"
   ]
  },
  {
   "cell_type": "markdown",
   "metadata": {},
   "source": [
    "# 轉成np array\n",
    "\n",
    "- np.array()\n",
    "- dataframe.values"
   ]
  },
  {
   "cell_type": "code",
   "execution_count": 7,
   "metadata": {},
   "outputs": [
    {
     "data": {
      "text/plain": [
       "Index(['Elevation', 'Aspect', 'Slope', 'Horizontal_Distance_To_Hydrology',\n",
       "       'Vertical_Distance_To_Hydrology', 'Horizontal_Distance_To_Roadways',\n",
       "       'Hillshade_9am', 'Hillshade_Noon', 'Hillshade_3pm',\n",
       "       'Horizontal_Distance_To_Fire_Points', 'Wilderness_Area1',\n",
       "       'Wilderness_Area2', 'Wilderness_Area3', 'Wilderness_Area4',\n",
       "       'Soil_Type1', 'Soil_Type2', 'Soil_Type3', 'Soil_Type4', 'Soil_Type5',\n",
       "       'Soil_Type6', 'Soil_Type7', 'Soil_Type8', 'Soil_Type9', 'Soil_Type10',\n",
       "       'Soil_Type11', 'Soil_Type12', 'Soil_Type13', 'Soil_Type14',\n",
       "       'Soil_Type15', 'Soil_Type16', 'Soil_Type17', 'Soil_Type18',\n",
       "       'Soil_Type19', 'Soil_Type20', 'Soil_Type21', 'Soil_Type22',\n",
       "       'Soil_Type23', 'Soil_Type24', 'Soil_Type25', 'Soil_Type26',\n",
       "       'Soil_Type27', 'Soil_Type28', 'Soil_Type29', 'Soil_Type30',\n",
       "       'Soil_Type31', 'Soil_Type32', 'Soil_Type33', 'Soil_Type34',\n",
       "       'Soil_Type35', 'Soil_Type36', 'Soil_Type37', 'Soil_Type38',\n",
       "       'Soil_Type39', 'Soil_Type40', 'Cover_Type'],\n",
       "      dtype='object')"
      ]
     },
     "execution_count": 7,
     "metadata": {},
     "output_type": "execute_result"
    }
   ],
   "source": [
    "df_train.columns"
   ]
  },
  {
   "cell_type": "code",
   "execution_count": 30,
   "metadata": {},
   "outputs": [],
   "source": [
    "X_train = df_train.drop(labels=['Cover_Type'],axis=1).values\n",
    "y_train = df_train['Cover_Type'].values"
   ]
  },
  {
   "cell_type": "markdown",
   "metadata": {},
   "source": [
    "# 1. preprocessing"
   ]
  },
  {
   "cell_type": "markdown",
   "metadata": {},
   "source": [
    "## normalization (用min-max scaler轉成0-1之間)\n",
    "- 取小值(0~1之間)、同值性(都壓縮到同個range)  --->  容易收斂  <span style='color:red'>by keras作者</span>\n",
    "- 目的要讓每個特徵所對應的weight都縮放到同一個標準，min_max是讓weight都變成0~1之間"
   ]
  },
  {
   "cell_type": "code",
   "execution_count": 31,
   "metadata": {},
   "outputs": [],
   "source": [
    "from sklearn.preprocessing import MinMaxScaler"
   ]
  },
  {
   "cell_type": "code",
   "execution_count": 32,
   "metadata": {},
   "outputs": [],
   "source": [
    "scaler = MinMaxScaler()\n",
    "X_train = X_train.astype(np.float32)\n",
    "X_train = scaler.fit_transform(X_train)"
   ]
  },
  {
   "cell_type": "markdown",
   "metadata": {},
   "source": [
    "## one-hot encoding"
   ]
  },
  {
   "cell_type": "code",
   "execution_count": 33,
   "metadata": {},
   "outputs": [],
   "source": [
    "num_classes = len(np.unique(y_train))\n",
    "## shift 1格 , 讓範圍變到0~6\n",
    "y_train = y_train - 1"
   ]
  },
  {
   "cell_type": "code",
   "execution_count": 34,
   "metadata": {},
   "outputs": [],
   "source": [
    "num_classes = len(np.unique(y_train))\n",
    "## shift 1格 , 讓範圍變到0~6\n",
    "y_train = y_train - 1\n",
    "y_train = np.eye(num_classes)[y_train]"
   ]
  },
  {
   "cell_type": "markdown",
   "metadata": {},
   "source": [
    "## train val split"
   ]
  },
  {
   "cell_type": "code",
   "execution_count": 36,
   "metadata": {},
   "outputs": [],
   "source": [
    "from sklearn.model_selection import train_test_split"
   ]
  },
  {
   "cell_type": "code",
   "execution_count": 37,
   "metadata": {},
   "outputs": [],
   "source": [
    "train_x , val_x , train_y , val_y = train_test_split(X_train , y_train , test_size=.2 , random_state=42 )\n",
    "\n"
   ]
  },
  {
   "cell_type": "markdown",
   "metadata": {},
   "source": [
    "# 2. build model"
   ]
  },
  {
   "cell_type": "code",
   "execution_count": 38,
   "metadata": {},
   "outputs": [],
   "source": [
    "## parameters\n",
    "epochs = 10\n",
    "batch_size = 32 \n",
    "lr = 1e-4\n",
    "every_print = 5\n"
   ]
  },
  {
   "cell_type": "code",
   "execution_count": 41,
   "metadata": {},
   "outputs": [],
   "source": [
    "tf.reset_default_graph()\n",
    "\n",
    "with tf.name_scope('input'):\n",
    "    x_input = tf.placeholder(dtype=tf.float32 , shape=(None,)+train_x.shape[1:],name = 'x_input')\n",
    "    y_out = tf.placeholder(dtype=tf.float32 , shape=(None,)+train_y.shape[1:],name = 'y_out')\n",
    "    \n",
    "    "
   ]
  },
  {
   "cell_type": "code",
   "execution_count": 42,
   "metadata": {},
   "outputs": [],
   "source": [
    "def dense_layer(input_tensor , units ):\n",
    "    \n",
    "    x = tf.layers.dense(input_tensor,units = units,\n",
    "                        activation = tf.nn.relu , \n",
    "                        kernel_initializer = tf.truncated_normal_initializer())\n",
    "    return x\n",
    "\n"
   ]
  },
  {
   "cell_type": "code",
   "execution_count": 43,
   "metadata": {},
   "outputs": [],
   "source": [
    "with tf.variable_scope('hidden') as scope:\n",
    "    x_1 = dense_layer(x_input,512)\n",
    "    x_2 = dense_layer(x_1,256)\n",
    "    x_3 = dense_layer(x_2,128)\n",
    "\n",
    "with tf.variable_scope('output_layer') as scope:\n",
    "    output = tf.layers.dense(x_3,num_classes,name='output')\n",
    "\n"
   ]
  },
  {
   "cell_type": "markdown",
   "metadata": {},
   "source": [
    "\n",
    "## build loss function"
   ]
  },
  {
   "cell_type": "code",
   "execution_count": 44,
   "metadata": {},
   "outputs": [],
   "source": [
    "with tf.name_scope('loss') as scope:\n",
    "    avg_loss = tf.reduce_mean(\n",
    "        tf.nn.softmax_cross_entropy_with_logits_v2(\n",
    "            labels = y_out ,logits = output,name = 'loss'))\n",
    "   \n",
    "    \n",
    "    "
   ]
  },
  {
   "cell_type": "markdown",
   "metadata": {},
   "source": [
    "## build optimizer"
   ]
  },
  {
   "cell_type": "code",
   "execution_count": 46,
   "metadata": {},
   "outputs": [],
   "source": [
    "with tf.name_scope('opt') as scope:\n",
    "    train_step = tf.train.AdamOptimizer(learning_rate = lr).minimize(avg_loss)\n",
    "    \n",
    "    "
   ]
  },
  {
   "cell_type": "markdown",
   "metadata": {},
   "source": [
    "## compute accuracy"
   ]
  },
  {
   "cell_type": "code",
   "execution_count": 47,
   "metadata": {},
   "outputs": [],
   "source": [
    "with tf.name_scope('acc') as scope:\n",
    "    predict_class = tf.argmax(output,axis=1)\n",
    "    y_class = tf.argmax(y_out,axis=1)\n",
    "    acc = tf.reduce_mean(tf.cast(tf.equal(predict_class,y_class),dtype=tf.float32))\n",
    "    \n",
    "    \n",
    "    "
   ]
  },
  {
   "cell_type": "markdown",
   "metadata": {},
   "source": [
    "# 3.train model"
   ]
  },
  {
   "cell_type": "code",
   "execution_count": 51,
   "metadata": {
    "scrolled": true
   },
   "outputs": [
    {
     "data": {
      "application/vnd.jupyter.widget-view+json": {
       "model_id": "ef1b23045e3c4fe59502ccea78d1bbff",
       "version_major": 2,
       "version_minor": 0
      },
      "text/plain": [
       "HBox(children=(IntProgress(value=0, max=10), HTML(value='')))"
      ]
     },
     "metadata": {},
     "output_type": "display_data"
    },
    {
     "name": "stdout",
     "output_type": "stream",
     "text": [
      "\n",
      "epoch: 1/10 \n",
      "\n",
      "step  1: acc:     6.25% \tloss:  342.939\n",
      "step  2: acc:    25.00% \tloss:  125.212\n",
      "step  3: acc:    28.12% \tloss:   74.462\n",
      "step  4: acc:    34.38% \tloss:   79.741\n",
      "step  5: acc:    28.12% \tloss:   54.296\n",
      "epoch 1: acc:   30.57%\tloss:  97.824\n",
      "time per epoch: 0.7259 sec \n",
      "\n",
      "\n",
      "epoch: 2/10 \n",
      "\n",
      "step  1: acc:    43.75% \tloss:   30.658\n",
      "step  2: acc:    37.50% \tloss:   37.240\n",
      "step  3: acc:    43.75% \tloss:   31.669\n",
      "step  4: acc:    56.25% \tloss:   27.669\n",
      "step  5: acc:    46.88% \tloss:   24.527\n",
      "epoch 2: acc:   49.16%\tloss:  30.625\n",
      "time per epoch: 0.4841 sec \n",
      "\n",
      "\n",
      "epoch: 3/10 \n",
      "\n",
      "step  1: acc:    50.00% \tloss:   14.424\n",
      "step  2: acc:    65.62% \tloss:   12.936\n",
      "step  3: acc:    71.88% \tloss:    6.721\n",
      "step  4: acc:    50.00% \tloss:   19.674\n",
      "step  5: acc:    59.38% \tloss:   13.868\n",
      "epoch 3: acc:   55.64%\tloss:  17.749\n",
      "time per epoch: 0.4745 sec \n",
      "\n",
      "\n",
      "epoch: 4/10 \n",
      "\n",
      "step  1: acc:    46.88% \tloss:   20.693\n",
      "step  2: acc:    56.25% \tloss:   10.422\n",
      "step  3: acc:    50.00% \tloss:   10.251\n",
      "step  4: acc:    65.62% \tloss:   10.028\n",
      "step  5: acc:    68.75% \tloss:   18.053\n",
      "epoch 4: acc:   58.77%\tloss:  13.405\n",
      "time per epoch: 0.4776 sec \n",
      "\n",
      "\n",
      "epoch: 5/10 \n",
      "\n",
      "step  1: acc:    71.88% \tloss:    5.840\n",
      "step  2: acc:    50.00% \tloss:   13.187\n",
      "step  3: acc:    53.12% \tloss:    8.405\n",
      "step  4: acc:    75.00% \tloss:    5.158\n",
      "step  5: acc:    71.88% \tloss:    4.989\n",
      "epoch 5: acc:   60.64%\tloss:  10.919\n",
      "time per epoch: 0.4812 sec \n",
      "\n",
      "\n",
      "epoch: 6/10 \n",
      "\n",
      "step  1: acc:    65.62% \tloss:    6.241\n",
      "step  2: acc:    43.75% \tloss:   10.823\n",
      "step  3: acc:    68.75% \tloss:    7.798\n",
      "step  4: acc:    65.62% \tloss:    5.183\n",
      "step  5: acc:    53.12% \tloss:   13.356\n",
      "epoch 6: acc:   61.66%\tloss:   9.071\n",
      "time per epoch: 0.4814 sec \n",
      "\n",
      "\n",
      "epoch: 7/10 \n",
      "\n",
      "step  1: acc:    62.50% \tloss:   10.516\n",
      "step  2: acc:    71.88% \tloss:    3.498\n",
      "step  3: acc:    53.12% \tloss:   14.322\n",
      "step  4: acc:    56.25% \tloss:    9.565\n",
      "step  5: acc:    68.75% \tloss:    4.753\n",
      "epoch 7: acc:   63.28%\tloss:   7.889\n",
      "time per epoch: 0.4879 sec \n",
      "\n",
      "\n",
      "epoch: 8/10 \n",
      "\n",
      "step  1: acc:    65.62% \tloss:    8.528\n",
      "step  2: acc:    62.50% \tloss:    8.564\n",
      "step  3: acc:    65.62% \tloss:    7.786\n",
      "step  4: acc:    65.62% \tloss:    6.009\n",
      "step  5: acc:    56.25% \tloss:    7.600\n",
      "epoch 8: acc:   64.64%\tloss:   6.950\n",
      "time per epoch: 0.4822 sec \n",
      "\n",
      "\n",
      "epoch: 9/10 \n",
      "\n",
      "step  1: acc:    56.25% \tloss:   13.174\n",
      "step  2: acc:    59.38% \tloss:    8.174\n",
      "step  3: acc:    56.25% \tloss:    6.717\n",
      "step  4: acc:    75.00% \tloss:    3.435\n",
      "step  5: acc:    75.00% \tloss:    3.844\n",
      "epoch 9: acc:   65.32%\tloss:   6.228\n",
      "time per epoch: 0.4843 sec \n",
      "\n",
      "\n",
      "epoch: 10/10 \n",
      "\n",
      "step  1: acc:    65.62% \tloss:    5.401\n",
      "step  2: acc:    56.25% \tloss:   11.669\n",
      "step  3: acc:    65.62% \tloss:    8.172\n",
      "step  4: acc:    62.50% \tloss:    7.454\n",
      "step  5: acc:    65.62% \tloss:    7.814\n",
      "epoch 10: acc:   66.52%\tloss:   5.624\n",
      "time per epoch: 0.4933 sec \n",
      "\n",
      "\n"
     ]
    }
   ],
   "source": [
    "from sklearn.utils import shuffle\n",
    "\n",
    "sess = tf.Session()\n",
    "sess.run(tf.global_variables_initializer())\n",
    "\n",
    "\n",
    "\n",
    "train_loss_epoch = []\n",
    "train_acc_epoch = []\n",
    "\n",
    "for i in tqdm_notebook(range(epochs)):\n",
    "    start_time = time.time()\n",
    "    print(f\"\\nepoch: {i+1}/{epochs} \\n\")\n",
    "    \n",
    "    train_batch_loss = []\n",
    "    train_batch_acc =[]\n",
    "\n",
    "    #####\n",
    "    batch_num = int(np.ceil(len(train_x)/batch_size))\n",
    "    #####\n",
    "    \n",
    "    split_step = batch_num // every_print\n",
    "    train_x , train_y = shuffle(train_x , train_y)\n",
    "    \n",
    "    for j in range(batch_num):\n",
    "        \n",
    "        #########\n",
    "        \n",
    "        \n",
    "        x_batch = train_x[j*batch_size : min((j+1)*batch_size , len(train_x)) ]\n",
    "        y_batch = train_y[j*batch_size : min((j+1)*batch_size , len(train_y)) ]\n",
    "        \n",
    "        _ , train_loss , train_acc = sess.run([train_step , avg_loss , acc],\n",
    "                                            feed_dict={\n",
    "                                                x_input : x_batch, \n",
    "                                                y_out : y_batch\n",
    "                                            })\n",
    "        ##########\n",
    "        \n",
    "        train_batch_loss.append(train_loss)\n",
    "        train_batch_acc.append(train_acc)\n",
    "        \n",
    "        \n",
    "        if j%split_step == 0: \n",
    "            print( f\"step{(j//split_step)+1:>3}: acc: {train_acc*100:8.2f}% \\tloss: {train_loss:8.3f}\" )\n",
    "            \n",
    "            \n",
    "    \n",
    "    duration = time.time() - start_time\n",
    "    print(f'epoch {i+1}: acc:{np.mean(train_batch_acc)*100:8.2f}%\\tloss:{np.mean(train_batch_loss):8.3f}')\n",
    "    print( f\"time per epoch: {duration:4.4f} sec \\n\") \n",
    "    train_loss_epoch.append(np.mean(train_batch_loss))\n",
    "    train_acc_epoch.append(np.mean(train_batch_acc))\n",
    "    \n",
    "    \n"
   ]
  },
  {
   "cell_type": "code",
   "execution_count": 54,
   "metadata": {},
   "outputs": [
    {
     "data": {
      "image/png": "[encoded data removed]",
      "text/plain": [
       "<Figure size 864x576 with 2 Axes>"
      ]
     },
     "metadata": {
      "needs_background": "light"
     },
     "output_type": "display_data"
    }
   ],
   "source": [
    "\n",
    "fig = plt.figure(figsize=(12,8))\n",
    "\n",
    "plt.subplot(211)\n",
    "plt.plot(train_loss_epoch)\n",
    "plt.title(\"model loss\")\n",
    "plt.xlabel(\"epoch\")\n",
    "plt.ylabel(\"loss\")\n",
    "\n",
    "plt.subplot(212)\n",
    "plt.plot(train_acc_epoch)\n",
    "plt.title(\"model accuracy\")\n",
    "plt.xlabel(\"epoch\")\n",
    "plt.ylabel(\"accuracy\")\n",
    "plt.tight_layout()\n",
    "plt.show()"
   ]
  },
  {
   "cell_type": "markdown",
   "metadata": {},
   "source": [
    "# 4. batch predict"
   ]
  },
  {
   "cell_type": "code",
   "execution_count": 56,
   "metadata": {},
   "outputs": [],
   "source": [
    "def predict( x , batch_size=batch_size):\n",
    "    \n",
    "    ## 先給predict的空間\n",
    "    predicted_class = np.zeros(len(x), dtype=np.int)\n",
    "\n",
    "\n",
    "    for i in range(0 , len(x) , batch_size):\n",
    "        j = i + batch_size\n",
    "        batch_xs = x[i:min(len(x),j)]\n",
    "        predicted_class[i:min(len(x),j)] = sess.run(predict_class,feed_dict={\n",
    "            x_input:batch_xs\n",
    "        }) \n",
    "\n",
    "    return predicted_class\n",
    "# predict(val_x)\n",
    "    "
   ]
  },
  {
   "cell_type": "markdown",
   "metadata": {},
   "source": [
    "# 5. compute accuracy"
   ]
  },
  {
   "cell_type": "code",
   "execution_count": 57,
   "metadata": {},
   "outputs": [],
   "source": [
    "def compute_loss_acc(x , y , batch_size=batch_size):\n",
    "    \n",
    "    losses_val = []\n",
    "    accuracy_val = []\n",
    "    \n",
    "    for i in range(0,len(x),batch_size):\n",
    "        x_val_batch = x[i:min(i+batch_size , len(x))]\n",
    "        y_val_batch = y[i:min(i+batch_size , len(y))]\n",
    "        \n",
    "        #######\n",
    "        val_loss,val_acc = sess.run([avg_loss,acc] , feed_dict={\n",
    "            x_input: x_val_batch,\n",
    "            y_out: y_val_batch\n",
    "        })\n",
    "        #######\n",
    "        \n",
    "        losses_val.append(val_loss)\n",
    "        accuracy_val.append(val_acc)\n",
    "    return (np.mean(losses_val) , np.mean(accuracy_val))\n",
    "        \n",
    "    \n",
    "    \n",
    "    \n",
    "# compute_loss_acc(val_x,val_y)"
   ]
  },
  {
   "cell_type": "markdown",
   "metadata": {},
   "source": [
    "# 6. call backs"
   ]
  },
  {
   "cell_type": "code",
   "execution_count": 58,
   "metadata": {},
   "outputs": [],
   "source": [
    "\n",
    "save_dir = './checkpoint/'\n",
    "os.makedirs(save_dir,exist_ok=True)\n",
    "save_path = save_dir + 'checkpoint.ckpt'\n",
    "\n",
    "saver = tf.train.Saver()\n"
   ]
  },
  {
   "cell_type": "markdown",
   "metadata": {},
   "source": [
    "## checkpoint"
   ]
  },
  {
   "cell_type": "code",
   "execution_count": 59,
   "metadata": {},
   "outputs": [],
   "source": [
    "global_accuracy = 0\n",
    "global_non_progress = 0"
   ]
  },
  {
   "cell_type": "code",
   "execution_count": 60,
   "metadata": {},
   "outputs": [],
   "source": [
    "def test_and_save(epoch):\n",
    "    global global_accuracy\n",
    "    val_loss , val_acc = compute_loss_acc(val_x,val_y)\n",
    "    print(f'\\nepoch {epoch+1}:  loss:{val_loss:.3f} \\taccuracy:{val_acc*100:.2f}%')\n",
    "    \n",
    "    if global_accuracy < val_acc:\n",
    "        \n",
    "        saver.save(sess , save_path=save_path , global_step=epoch)\n",
    "        \n",
    "        print(f\" This epoch is receive better accuracy: {val_acc*100:.2f}% > {global_accuracy*100:.2f}%\",\n",
    "             f\"save session...\")\n",
    "        global_accuracy = val_acc\n",
    "    \n",
    "    return val_loss , val_acc\n",
    "# test_and_save(1)"
   ]
  },
  {
   "cell_type": "markdown",
   "metadata": {},
   "source": [
    "## early stop"
   ]
  },
  {
   "cell_type": "code",
   "execution_count": 61,
   "metadata": {},
   "outputs": [],
   "source": [
    "def early_stop(val_acc , steps=50):\n",
    "#     global global_accuracy\n",
    "    global global_non_progress\n",
    "    \n",
    "    if global_accuracy > val_acc:\n",
    "        global_non_progress+=1\n",
    "    else:\n",
    "        global_non_progress=0\n",
    "    \n",
    "    if global_non_progress>steps:\n",
    "        print(f\"Didn't receive better accuracy after {global_accuracy:.2f} epochs. stop training...\")\n",
    "        return True\n",
    "    \n",
    "    return False\n",
    "    \n",
    "    \n",
    "    "
   ]
  },
  {
   "cell_type": "markdown",
   "metadata": {},
   "source": [
    "## weight decay"
   ]
  },
  {
   "cell_type": "code",
   "execution_count": 62,
   "metadata": {},
   "outputs": [],
   "source": [
    "\n",
    "with tf.name_scope(\"lr\") as scope:\n",
    "    learning_rate_decay = tf.placeholder(dtype=tf.float32 , shape = [] ,name=\"learning_rate\")\n",
    "    \n",
    "def weight_decay(epoch):\n",
    "    learning_rate = 1e-3\n",
    "    if epoch >400:\n",
    "        learning_rate *= 1e-3\n",
    "        \n",
    "    elif epoch >200:\n",
    "        learning_rate *= 1e-2\n",
    "        \n",
    "    elif epoch >100:\n",
    "        learning_rate *= 1e-1\n",
    "        \n",
    "    return learning_rate\n",
    "    \n",
    "    \n",
    "    "
   ]
  },
  {
   "cell_type": "markdown",
   "metadata": {},
   "source": [
    "## exponential decay"
   ]
  },
  {
   "cell_type": "markdown",
   "metadata": {},
   "source": [
    "$$ decayed\\_learning\\_rate = learning\\_rate *\n",
    "                        decay\\_rate ^{ (global\\_step \\; / \\; decay\\_steps)} $$"
   ]
  },
  {
   "cell_type": "markdown",
   "metadata": {},
   "source": [
    "由 tensorflow 控制的 lr\n",
    "https://www.tensorflow.org/api_docs/python/tf/train/exponential_decay"
   ]
  },
  {
   "cell_type": "code",
   "execution_count": 63,
   "metadata": {},
   "outputs": [],
   "source": [
    "learning_rate_decay = tf.train.exponential_decay(1e-2, epochs, 100, 0.96, staircase=True)\n",
    "with tf.name_scope('train_with_ed'):\n",
    "    train_step_with_ed = tf.train.AdamOptimizer(learning_rate=learning_rate_decay).minimize(avg_loss)\n",
    "    \n",
    "    "
   ]
  },
  {
   "cell_type": "markdown",
   "metadata": {},
   "source": [
    "# 7. train again"
   ]
  },
  {
   "cell_type": "code",
   "execution_count": 64,
   "metadata": {},
   "outputs": [
    {
     "data": {
      "application/vnd.jupyter.widget-view+json": {
       "model_id": "cd5617ecb705405d8a3c1c234d19ef37",
       "version_major": 2,
       "version_minor": 0
      },
      "text/plain": [
       "HBox(children=(IntProgress(value=0, max=20), HTML(value='')))"
      ]
     },
     "metadata": {},
     "output_type": "display_data"
    },
    {
     "name": "stdout",
     "output_type": "stream",
     "text": [
      "\n",
      "epoch: 1/20 \n",
      "\n",
      "step  1: acc:     9.38% \tloss:  323.198\n",
      "step  2: acc:    15.62% \tloss:  137.116\n",
      "step  3: acc:    25.00% \tloss:  118.058\n",
      "step  4: acc:    28.12% \tloss:   69.696\n",
      "step  5: acc:    25.00% \tloss:   60.176\n",
      "\n",
      "epoch 1:  loss:41.336 \taccuracy:40.33%\n",
      " This epoch is receive better accuracy: 40.33% > 0.00% save session...\n",
      "time per epoch: 1.1372 sec \n",
      "\n",
      "\n",
      "epoch: 2/20 \n",
      "\n",
      "step  1: acc:    50.00% \tloss:   36.323\n",
      "step  2: acc:    56.25% \tloss:   25.122\n",
      "step  3: acc:    50.00% \tloss:   28.876\n",
      "step  4: acc:    56.25% \tloss:   21.520\n",
      "step  5: acc:    53.12% \tloss:   23.455\n",
      "\n",
      "epoch 2:  loss:21.993 \taccuracy:51.59%\n",
      " This epoch is receive better accuracy: 51.59% > 40.33% save session...\n",
      "time per epoch: 0.9908 sec \n",
      "\n",
      "\n",
      "epoch: 3/20 \n",
      "\n",
      "step  1: acc:    50.00% \tloss:   18.524\n",
      "step  2: acc:    37.50% \tloss:   16.934\n",
      "step  3: acc:    53.12% \tloss:   16.079\n",
      "step  4: acc:    46.88% \tloss:   22.710\n",
      "step  5: acc:    59.38% \tloss:    9.332\n",
      "\n",
      "epoch 3:  loss:15.568 \taccuracy:53.48%\n",
      " This epoch is receive better accuracy: 53.48% > 51.59% save session...\n",
      "time per epoch: 1.0082 sec \n",
      "\n",
      "\n",
      "epoch: 4/20 \n",
      "\n",
      "step  1: acc:    71.88% \tloss:    8.255\n",
      "step  2: acc:    46.88% \tloss:   14.158\n",
      "step  3: acc:    56.25% \tloss:   20.487\n",
      "step  4: acc:    59.38% \tloss:   11.167\n",
      "step  5: acc:    59.38% \tloss:   11.895\n",
      "\n",
      "epoch 4:  loss:11.989 \taccuracy:57.61%\n",
      " This epoch is receive better accuracy: 57.61% > 53.48% save session...\n",
      "time per epoch: 0.9952 sec \n",
      "\n",
      "\n",
      "epoch: 5/20 \n",
      "\n",
      "step  1: acc:    43.75% \tloss:   20.498\n",
      "step  2: acc:    59.38% \tloss:   11.237\n",
      "step  3: acc:    56.25% \tloss:    8.605\n",
      "step  4: acc:    65.62% \tloss:    8.086\n",
      "step  5: acc:    62.50% \tloss:   10.182\n",
      "\n",
      "epoch 5:  loss:10.048 \taccuracy:58.72%\n",
      " This epoch is receive better accuracy: 58.72% > 57.61% save session...\n",
      "time per epoch: 0.9861 sec \n",
      "\n",
      "\n",
      "epoch: 6/20 \n",
      "\n",
      "step  1: acc:    53.12% \tloss:    8.147\n",
      "step  2: acc:    56.25% \tloss:    5.942\n",
      "step  3: acc:    65.62% \tloss:    6.873\n",
      "step  4: acc:    59.38% \tloss:    9.870\n",
      "step  5: acc:    46.88% \tloss:   11.107\n",
      "\n",
      "epoch 6:  loss:8.520 \taccuracy:61.00%\n",
      " This epoch is receive better accuracy: 61.00% > 58.72% save session...\n",
      "time per epoch: 1.1133 sec \n",
      "\n",
      "\n",
      "epoch: 7/20 \n",
      "\n",
      "step  1: acc:    62.50% \tloss:    4.384\n",
      "step  2: acc:    68.75% \tloss:    6.074\n",
      "step  3: acc:    68.75% \tloss:   11.345\n",
      "step  4: acc:    71.88% \tloss:    5.524\n",
      "step  5: acc:    68.75% \tloss:    5.338\n",
      "\n",
      "epoch 7:  loss:7.627 \taccuracy:62.72%\n",
      " This epoch is receive better accuracy: 62.72% > 61.00% save session...\n",
      "time per epoch: 1.1365 sec \n",
      "\n",
      "\n",
      "epoch: 8/20 \n",
      "\n",
      "step  1: acc:    62.50% \tloss:    9.446\n",
      "step  2: acc:    75.00% \tloss:    4.385\n",
      "step  3: acc:    59.38% \tloss:    9.111\n",
      "step  4: acc:    50.00% \tloss:   11.606\n",
      "step  5: acc:    62.50% \tloss:   11.364\n",
      "\n",
      "epoch 8:  loss:6.978 \taccuracy:62.25%\n",
      "time per epoch: 0.6468 sec \n",
      "\n",
      "\n",
      "epoch: 9/20 \n",
      "\n",
      "step  1: acc:    78.12% \tloss:    1.659\n",
      "step  2: acc:    53.12% \tloss:    8.096\n",
      "step  3: acc:    62.50% \tloss:    4.034\n",
      "step  4: acc:    59.38% \tloss:    5.855\n",
      "step  5: acc:    71.88% \tloss:    3.799\n",
      "\n",
      "epoch 9:  loss:6.890 \taccuracy:61.99%\n",
      "time per epoch: 0.6482 sec \n",
      "\n",
      "\n",
      "epoch: 10/20 \n",
      "\n",
      "step  1: acc:    46.88% \tloss:   11.168\n",
      "step  2: acc:    68.75% \tloss:    3.163\n",
      "step  3: acc:    53.12% \tloss:    8.898\n",
      "step  4: acc:    75.00% \tloss:    2.229\n",
      "step  5: acc:    68.75% \tloss:    3.875\n",
      "\n",
      "epoch 10:  loss:5.985 \taccuracy:62.17%\n",
      "time per epoch: 0.6352 sec \n",
      "\n",
      "\n",
      "epoch: 11/20 \n",
      "\n",
      "step  1: acc:    62.50% \tloss:    5.906\n",
      "step  2: acc:    68.75% \tloss:    2.546\n",
      "step  3: acc:    59.38% \tloss:    3.436\n",
      "step  4: acc:    65.62% \tloss:    3.092\n",
      "step  5: acc:    62.50% \tloss:   12.580\n",
      "\n",
      "epoch 11:  loss:5.408 \taccuracy:65.12%\n",
      " This epoch is receive better accuracy: 65.12% > 62.72% save session...\n",
      "time per epoch: 1.0574 sec \n",
      "\n",
      "\n",
      "epoch: 12/20 \n",
      "\n",
      "step  1: acc:    65.62% \tloss:    3.524\n",
      "step  2: acc:    59.38% \tloss:    9.908\n",
      "step  3: acc:    59.38% \tloss:    4.652\n",
      "step  4: acc:    56.25% \tloss:    3.863\n",
      "step  5: acc:    65.62% \tloss:    3.620\n",
      "\n",
      "epoch 12:  loss:5.111 \taccuracy:65.32%\n",
      " This epoch is receive better accuracy: 65.32% > 65.12% save session...\n",
      "time per epoch: 1.0591 sec \n",
      "\n",
      "\n",
      "epoch: 13/20 \n",
      "\n",
      "step  1: acc:    59.38% \tloss:    5.687\n",
      "step  2: acc:    78.12% \tloss:    2.783\n",
      "step  3: acc:    53.12% \tloss:    9.215\n",
      "step  4: acc:    68.75% \tloss:    3.867\n",
      "step  5: acc:    75.00% \tloss:    4.750\n",
      "\n",
      "epoch 13:  loss:4.821 \taccuracy:66.15%\n",
      " This epoch is receive better accuracy: 66.15% > 65.32% save session...\n",
      "time per epoch: 1.1088 sec \n",
      "\n",
      "\n",
      "epoch: 14/20 \n",
      "\n",
      "step  1: acc:    62.50% \tloss:    4.269\n",
      "step  2: acc:    62.50% \tloss:    3.995\n",
      "step  3: acc:    65.62% \tloss:    2.693\n",
      "step  4: acc:    75.00% \tloss:    2.261\n",
      "step  5: acc:    53.12% \tloss:    6.204\n",
      "\n",
      "epoch 14:  loss:4.842 \taccuracy:67.30%\n",
      " This epoch is receive better accuracy: 67.30% > 66.15% save session...\n",
      "time per epoch: 1.0174 sec \n",
      "\n",
      "\n",
      "epoch: 15/20 \n",
      "\n",
      "step  1: acc:    75.00% \tloss:    1.470\n",
      "step  2: acc:    71.88% \tloss:    2.546\n",
      "step  3: acc:    75.00% \tloss:    3.672\n",
      "step  4: acc:    62.50% \tloss:    4.629\n",
      "step  5: acc:    53.12% \tloss:    4.317\n",
      "\n",
      "epoch 15:  loss:4.364 \taccuracy:67.53%\n",
      " This epoch is receive better accuracy: 67.53% > 67.30% save session...\n",
      "time per epoch: 1.0915 sec \n",
      "\n",
      "\n",
      "epoch: 16/20 \n",
      "\n",
      "step  1: acc:    59.38% \tloss:    3.333\n",
      "step  2: acc:    71.88% \tloss:    2.272\n",
      "step  3: acc:    75.00% \tloss:    1.384\n",
      "step  4: acc:    59.38% \tloss:    3.971\n",
      "step  5: acc:    78.12% \tloss:    4.347\n",
      "\n",
      "epoch 16:  loss:4.104 \taccuracy:68.27%\n",
      " This epoch is receive better accuracy: 68.27% > 67.53% save session...\n",
      "time per epoch: 1.1038 sec \n",
      "\n",
      "\n",
      "epoch: 17/20 \n",
      "\n",
      "step  1: acc:    56.25% \tloss:   10.269\n",
      "step  2: acc:    75.00% \tloss:    2.430\n",
      "step  3: acc:    71.88% \tloss:    2.109\n",
      "step  4: acc:    68.75% \tloss:    3.131\n",
      "step  5: acc:    62.50% \tloss:    6.624\n",
      "\n",
      "epoch 17:  loss:4.211 \taccuracy:66.83%\n",
      "time per epoch: 0.7790 sec \n",
      "\n",
      "\n",
      "epoch: 18/20 \n",
      "\n",
      "step  1: acc:    59.38% \tloss:    1.975\n",
      "step  2: acc:    81.25% \tloss:    1.333\n",
      "step  3: acc:    71.88% \tloss:    1.897\n",
      "step  4: acc:    62.50% \tloss:    5.362\n",
      "step  5: acc:    84.38% \tloss:    0.983\n",
      "\n",
      "epoch 18:  loss:3.934 \taccuracy:69.66%\n",
      " This epoch is receive better accuracy: 69.66% > 68.27% save session...\n",
      "time per epoch: 1.2390 sec \n",
      "\n",
      "\n",
      "epoch: 19/20 \n",
      "\n",
      "step  1: acc:    78.12% \tloss:    2.104\n",
      "step  2: acc:    68.75% \tloss:    5.357\n",
      "step  3: acc:    62.50% \tloss:    4.987\n",
      "step  4: acc:    68.75% \tloss:    1.831\n",
      "step  5: acc:    65.62% \tloss:    4.542\n",
      "\n",
      "epoch 19:  loss:3.815 \taccuracy:67.72%\n",
      "time per epoch: 0.6502 sec \n",
      "\n",
      "\n",
      "epoch: 20/20 \n",
      "\n",
      "step  1: acc:    71.88% \tloss:    3.638\n",
      "step  2: acc:    78.12% \tloss:    0.785\n",
      "step  3: acc:    81.25% \tloss:    1.202\n",
      "step  4: acc:    71.88% \tloss:    2.888\n",
      "step  5: acc:    87.50% \tloss:    1.983\n",
      "\n",
      "epoch 20:  loss:3.609 \taccuracy:69.23%\n",
      "time per epoch: 0.6400 sec \n",
      "\n",
      "\n"
     ]
    }
   ],
   "source": [
    "from sklearn.utils import shuffle\n",
    "\n",
    "sess = tf.Session()\n",
    "sess.run(tf.global_variables_initializer())\n",
    "\n",
    "train_loss_epoch,train_acc_epoch = [] , []\n",
    "test_loss_epoch , test_acc_epoch = [] , []\n",
    "\n",
    "use_step_decay = True\n",
    "use_exponential = False\n",
    "\n",
    "epochs = 20\n",
    "\n",
    "\n",
    "for i in tqdm_notebook(range(epochs)):\n",
    "    start_time = time.time()\n",
    "    print(f\"\\nepoch: {i+1}/{epochs} \\n\")\n",
    "    \n",
    "    train_batch_loss = []\n",
    "    train_batch_acc = []\n",
    "\n",
    "    \n",
    "    batch_num = int(np.ceil(len(train_x)/batch_size))\n",
    "    split_step = batch_num // every_print\n",
    "    train_x , train_y = shuffle(train_x , train_y)\n",
    "    \n",
    "    for j in range(batch_num):\n",
    "        \n",
    "        x_batch = train_x[j*batch_size : min((j+1)*batch_size , len(train_x)) ]\n",
    "        y_batch = train_y[j*batch_size : min((j+1)*batch_size , len(train_y)) ]\n",
    "        \n",
    "        if use_step_decay:\n",
    "            _ , train_loss , train_acc =sess.run([train_step , avg_loss , acc],\n",
    "                                                feed_dict={\n",
    "                                                    x_input : x_batch, \n",
    "                                                    y_out : y_batch,\n",
    "                                                    learning_rate_decay:weight_decay(i)\n",
    "                                                })\n",
    "        elif use_exponential:\n",
    "            _ , train_loss , train_acc =sess.run([train_step_with_ed , avg_loss , acc],\n",
    "                                                feed_dict={\n",
    "                                                    x_input : x_batch, \n",
    "                                                    y_out : y_batch\n",
    "                                                    \n",
    "                                                })\n",
    "        else:\n",
    "            _ , train_loss , train_acc =sess.run([train_step , avg_loss , acc],\n",
    "                                                feed_dict={\n",
    "                                                    x_input : x_batch, \n",
    "                                                    y_out : y_batch\n",
    "                                                    \n",
    "                                                })\n",
    "        \n",
    "        \n",
    "        \n",
    "        train_batch_loss.append(train_loss)\n",
    "        train_batch_acc.append(train_acc)\n",
    "        \n",
    "        \n",
    "        if j%split_step == 0: \n",
    "            print( f\"step{(j//split_step)+1:>3}: acc: {train_acc*100:8.2f}% \\tloss: {train_loss:8.3f}\" )\n",
    "    val_loss , val_acc = test_and_save(i)\n",
    "    \n",
    "    test_loss_epoch.append(val_loss)\n",
    "    test_acc_epoch.append(val_acc)\n",
    "    \n",
    "    duration = time.time() - start_time\n",
    "    print( f\"time per epoch: {duration:4.4f} sec \\n\") \n",
    "    train_loss_epoch.append(np.mean(train_batch_loss))\n",
    "    train_acc_epoch.append(np.mean(train_batch_acc))\n",
    "    \n",
    "    if early_stop(val_acc):\n",
    "        break\n",
    "    \n"
   ]
  },
  {
   "cell_type": "code",
   "execution_count": 65,
   "metadata": {},
   "outputs": [
    {
     "data": {
      "image/png": "[encoded data removed]",
      "text/plain": [
       "<Figure size 576x576 with 2 Axes>"
      ]
     },
     "metadata": {
      "needs_background": "light"
     },
     "output_type": "display_data"
    }
   ],
   "source": [
    "fig = plt.figure(figsize=(8,8))\n",
    "\n",
    "plt.subplot(211)\n",
    "plt.plot(train_loss_epoch)\n",
    "plt.plot(test_loss_epoch)\n",
    "plt.legend(['train','test'],loc='upper right')\n",
    "plt.title(\"model loss\")\n",
    "plt.xlabel(\"epoch\")\n",
    "plt.ylabel(\"loss\")\n",
    "\n",
    "plt.subplot(212)\n",
    "plt.plot(train_acc_epoch)\n",
    "plt.plot(test_acc_epoch)\n",
    "plt.legend(['train','test'],loc='upper right')\n",
    "plt.title(\"model accuracy\")\n",
    "plt.xlabel(\"epoch\")\n",
    "plt.ylabel(\"accuracy\")\n",
    "plt.tight_layout()\n",
    "plt.show()"
   ]
  },
  {
   "cell_type": "code",
   "execution_count": null,
   "metadata": {},
   "outputs": [],
   "source": []
  },
  {
   "cell_type": "code",
   "execution_count": null,
   "metadata": {},
   "outputs": [],
   "source": []
  }
 ],
 "metadata": {
  "kernelspec": {
   "display_name": "Python 3",
   "language": "python",
   "name": "python3"
  },
  "language_info": {
   "codemirror_mode": {
    "name": "ipython",
    "version": 3
   },
   "file_extension": ".py",
   "mimetype": "text/x-python",
   "name": "python",
   "nbconvert_exporter": "python",
   "pygments_lexer": "ipython3",
   "version": "3.6.6"
  }
 },
 "nbformat": 4,
 "nbformat_minor": 2
}
