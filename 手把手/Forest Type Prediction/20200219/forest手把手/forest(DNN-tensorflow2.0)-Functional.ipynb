{
 "cells": [
  {
   "cell_type": "code",
   "execution_count": 1,
   "metadata": {},
   "outputs": [],
   "source": [
    "import warnings\n",
    "warnings.filterwarnings(\"ignore\")"
   ]
  },
  {
   "cell_type": "code",
   "execution_count": 2,
   "metadata": {},
   "outputs": [],
   "source": [
    "import pandas as pd\n",
    "import numpy as np\n",
    "import matplotlib.pyplot as plt"
   ]
  },
  {
   "cell_type": "markdown",
   "metadata": {},
   "source": [
    "## 1) 載入資料集"
   ]
  },
  {
   "cell_type": "code",
   "execution_count": 3,
   "metadata": {},
   "outputs": [],
   "source": [
    "df_train = pd.read_csv('./data/train.csv')\n",
    "df_train = df_train.drop(labels=['Id'],axis=1) # 移除Id"
   ]
  },
  {
   "cell_type": "markdown",
   "metadata": {},
   "source": [
    "## 2) 檢查缺失值\n",
    "使用 numpy 所提供的函式來檢查是否有 NA 缺失值，假設有缺失值使用dropna()來移除。使用的時機在於當只有少量的缺失值適用，若遇到有大量缺失值的情況，或是本身的資料量就很少的情況下建議可以透過機器學習的方法補值來預測缺失值。\n",
    "\n",
    "```python\n",
    "# 移除缺失值\n",
    "train=train.dropna()\n",
    "```"
   ]
  },
  {
   "cell_type": "code",
   "execution_count": 4,
   "metadata": {},
   "outputs": [
    {
     "name": "stdout",
     "output_type": "stream",
     "text": [
      "Before data clean(NAN mount): 0\n"
     ]
    }
   ],
   "source": [
    "# checked missing data\n",
    "print(\"Before data clean(NAN mount):\",len(np.where(np.isnan(df_train))[0]))"
   ]
  },
  {
   "cell_type": "markdown",
   "metadata": {},
   "source": [
    "## 3) 資料前處理\n",
    "\n",
    "#### **特徵標準化**\n",
    "通常有兩種標準化的方法：\n",
    "- min max normalization：\n",
    "    - 會將特徵數據按比例縮放到0到1的區間，（或是-1到1）。\n",
    "- standard deviation normalization：\n",
    "    - 會將所有特徵數據縮放成平均為0、平方差為1。\n",
    "    \n",
    "#### **特徵組合**\n",
    "特徵需要適當地增加和減少，以提升精確度並減少計算時間。\n",
    "- 增加特徵：特徵組合 (Feature Combination)、群聚編碼 (GroupBy Encoding)、產生合成樣本(Oversampling)\n",
    "- 減少特徵：特徵篩選(Feature Selection)、剔除一些樣本(Undersampling)"
   ]
  },
  {
   "cell_type": "code",
   "execution_count": 5,
   "metadata": {},
   "outputs": [],
   "source": [
    "from sklearn.preprocessing import StandardScaler\n",
    "from sklearn.preprocessing import MinMaxScaler\n",
    "\n",
    "def data_preprocessing(df_input):\n",
    "    # numeric feature standardization\n",
    "    sc = StandardScaler()    \n",
    "#     sc = MinMaxScaler()\n",
    "    df=sc.fit_transform(df_input.iloc[:,0:54])\n",
    "    return df"
   ]
  },
  {
   "cell_type": "code",
   "execution_count": 6,
   "metadata": {},
   "outputs": [],
   "source": [
    "X = data_preprocessing(df_train)"
   ]
  },
  {
   "cell_type": "code",
   "execution_count": 7,
   "metadata": {},
   "outputs": [
    {
     "data": {
      "text/plain": [
       "(14364, 54)"
      ]
     },
     "execution_count": 7,
     "metadata": {},
     "output_type": "execute_result"
    }
   ],
   "source": [
    "X.shape"
   ]
  },
  {
   "cell_type": "markdown",
   "metadata": {},
   "source": [
    "## 3) One hot encoding\n",
    "對`Cover Type`輸出欄位的資料做 one-hot encoding，使用 Keras 提供的工具函式 to_categorical 將每筆資料的輸出值 y 轉換成一個向量。"
   ]
  },
  {
   "cell_type": "code",
   "execution_count": 8,
   "metadata": {},
   "outputs": [],
   "source": [
    "y = df_train['Cover_Type'].values"
   ]
  },
  {
   "cell_type": "code",
   "execution_count": 9,
   "metadata": {},
   "outputs": [],
   "source": [
    "from tensorflow.keras.utils import to_categorical\n",
    "y = to_categorical(y-1)"
   ]
  },
  {
   "cell_type": "markdown",
   "metadata": {},
   "source": [
    "## 4) 切割訓練集與測試集"
   ]
  },
  {
   "cell_type": "code",
   "execution_count": 10,
   "metadata": {},
   "outputs": [],
   "source": [
    "from sklearn.model_selection import train_test_split\n",
    "X_train , X_test , y_train , y_test = train_test_split(X,y , test_size=.3 , random_state=42)"
   ]
  },
  {
   "cell_type": "code",
   "execution_count": 11,
   "metadata": {},
   "outputs": [
    {
     "name": "stdout",
     "output_type": "stream",
     "text": [
      "訓練資料:  (10054, 54)\n",
      "測試資料:  (4310, 54)\n"
     ]
    }
   ],
   "source": [
    "print('訓練資料: ',X_train.shape)\n",
    "print('測試資料: ',X_test.shape)"
   ]
  },
  {
   "cell_type": "markdown",
   "metadata": {},
   "source": [
    "## 5) 建立網路模型"
   ]
  },
  {
   "cell_type": "code",
   "execution_count": 12,
   "metadata": {},
   "outputs": [
    {
     "name": "stdout",
     "output_type": "stream",
     "text": [
      "1.14.0\n"
     ]
    }
   ],
   "source": [
    "import tensorflow as tf\n",
    "from tensorflow import keras\n",
    "from tensorflow.keras import layers\n",
    "from tensorflow.keras.utils import Sequence\n",
    "from tensorflow.keras.models import Model\n",
    "from tensorflow.keras.optimizers import Adam\n",
    "\n",
    "print(tf.__version__)"
   ]
  },
  {
   "cell_type": "code",
   "execution_count": 13,
   "metadata": {},
   "outputs": [],
   "source": [
    "# 此範例使用 Tensorflow2.0 Functional API 支援多個輸入、多個輸出，利用傳遞的方式搭建神經網路。\n",
    "def build_model():\n",
    "    model_input = layers.Input(shape=X.shape[-1])\n",
    "    x = layers.Dense(256,activation='relu')(model_input)\n",
    "    x = layers.Dense(128,activation='relu')(x)\n",
    "    x = layers.Dense(64,activation='relu')(x)\n",
    "    x = layers.Dense(32,activation='relu')(x)\n",
    "    x = layers.Dense(16,activation='relu')(x)\n",
    "    x = layers.Dense(8,activation='relu')(x)\n",
    "    model_output = layers.Dense(7,activation='softmax')(x)\n",
    "    \n",
    "    return Model(model_input ,model_output)"
   ]
  },
  {
   "cell_type": "code",
   "execution_count": 14,
   "metadata": {},
   "outputs": [
    {
     "name": "stdout",
     "output_type": "stream",
     "text": [
      "WARNING:tensorflow:From C:\\Users\\User\\Anaconda3\\lib\\site-packages\\tensorflow\\python\\ops\\init_ops.py:1251: calling VarianceScaling.__init__ (from tensorflow.python.ops.init_ops) with dtype is deprecated and will be removed in a future version.\n",
      "Instructions for updating:\n",
      "Call initializer instance with the dtype argument instead of passing it to the constructor\n",
      "Model: \"model\"\n",
      "_________________________________________________________________\n",
      "Layer (type)                 Output Shape              Param #   \n",
      "=================================================================\n",
      "input_1 (InputLayer)         [(None, 54)]              0         \n",
      "_________________________________________________________________\n",
      "dense (Dense)                (None, 256)               14080     \n",
      "_________________________________________________________________\n",
      "dense_1 (Dense)              (None, 128)               32896     \n",
      "_________________________________________________________________\n",
      "dense_2 (Dense)              (None, 64)                8256      \n",
      "_________________________________________________________________\n",
      "dense_3 (Dense)              (None, 32)                2080      \n",
      "_________________________________________________________________\n",
      "dense_4 (Dense)              (None, 16)                528       \n",
      "_________________________________________________________________\n",
      "dense_5 (Dense)              (None, 8)                 136       \n",
      "_________________________________________________________________\n",
      "dense_6 (Dense)              (None, 7)                 63        \n",
      "=================================================================\n",
      "Total params: 58,039\n",
      "Trainable params: 58,039\n",
      "Non-trainable params: 0\n",
      "_________________________________________________________________\n"
     ]
    }
   ],
   "source": [
    "model = build_model()\n",
    "model.summary()   # Weights = (54+1)*256+(256+1)*128+(128+1)*64+(64+1)*32+(32+1)*16+(16+1)*8+(8+1)*7"
   ]
  },
  {
   "cell_type": "code",
   "execution_count": 15,
   "metadata": {},
   "outputs": [
    {
     "name": "stdout",
     "output_type": "stream",
     "text": [
      "Train on 9048 samples, validate on 1006 samples\n",
      "Epoch 1/50\n",
      "9048/9048 [==============================] - 1s 79us/sample - loss: 1.2796 - acc: 0.5008 - val_loss: 0.9058 - val_acc: 0.6501\n",
      "Epoch 2/50\n",
      "9048/9048 [==============================] - 0s 41us/sample - loss: 0.8229 - acc: 0.6750 - val_loss: 0.7571 - val_acc: 0.6938\n",
      "Epoch 3/50\n",
      "9048/9048 [==============================] - 0s 42us/sample - loss: 0.7030 - acc: 0.7078 - val_loss: 0.6491 - val_acc: 0.7525\n",
      "Epoch 4/50\n",
      "9048/9048 [==============================] - 0s 43us/sample - loss: 0.6316 - acc: 0.7412 - val_loss: 0.6210 - val_acc: 0.7555\n",
      "Epoch 5/50\n",
      "9048/9048 [==============================] - 0s 42us/sample - loss: 0.6101 - acc: 0.7454 - val_loss: 0.5858 - val_acc: 0.7604\n",
      "Epoch 6/50\n",
      "9048/9048 [==============================] - 0s 41us/sample - loss: 0.5825 - acc: 0.7536 - val_loss: 0.5789 - val_acc: 0.7565\n",
      "Epoch 7/50\n",
      "9048/9048 [==============================] - 0s 40us/sample - loss: 0.5463 - acc: 0.7721 - val_loss: 0.5759 - val_acc: 0.7734\n",
      "Epoch 8/50\n",
      "9048/9048 [==============================] - 0s 41us/sample - loss: 0.5367 - acc: 0.7770 - val_loss: 0.5685 - val_acc: 0.7714\n",
      "Epoch 9/50\n",
      "9048/9048 [==============================] - 0s 41us/sample - loss: 0.5201 - acc: 0.7872 - val_loss: 0.5706 - val_acc: 0.7674\n",
      "Epoch 10/50\n",
      "9048/9048 [==============================] - 0s 42us/sample - loss: 0.5051 - acc: 0.7916 - val_loss: 0.5511 - val_acc: 0.7873\n",
      "Epoch 11/50\n",
      "9048/9048 [==============================] - 0s 42us/sample - loss: 0.4966 - acc: 0.7929 - val_loss: 0.5235 - val_acc: 0.7823\n",
      "Epoch 12/50\n",
      "9048/9048 [==============================] - 0s 43us/sample - loss: 0.4795 - acc: 0.8031 - val_loss: 0.5123 - val_acc: 0.7913\n",
      "Epoch 13/50\n",
      "9048/9048 [==============================] - 0s 41us/sample - loss: 0.4646 - acc: 0.8058 - val_loss: 0.5154 - val_acc: 0.7962\n",
      "Epoch 14/50\n",
      "9048/9048 [==============================] - 0s 42us/sample - loss: 0.4535 - acc: 0.8100 - val_loss: 0.5400 - val_acc: 0.7803\n",
      "Epoch 15/50\n",
      "9048/9048 [==============================] - 0s 42us/sample - loss: 0.4371 - acc: 0.8227 - val_loss: 0.5221 - val_acc: 0.7992\n",
      "Epoch 16/50\n",
      "9048/9048 [==============================] - 0s 41us/sample - loss: 0.4345 - acc: 0.8204 - val_loss: 0.5232 - val_acc: 0.7853\n",
      "Epoch 17/50\n",
      "9048/9048 [==============================] - 0s 41us/sample - loss: 0.4188 - acc: 0.8257 - val_loss: 0.5309 - val_acc: 0.7833\n",
      "Epoch 18/50\n",
      "9048/9048 [==============================] - 0s 46us/sample - loss: 0.4046 - acc: 0.8349 - val_loss: 0.4993 - val_acc: 0.7942\n",
      "Epoch 19/50\n",
      "9048/9048 [==============================] - 0s 42us/sample - loss: 0.3973 - acc: 0.8386 - val_loss: 0.5723 - val_acc: 0.7803\n",
      "Epoch 20/50\n",
      "9048/9048 [==============================] - 0s 42us/sample - loss: 0.3888 - acc: 0.8458 - val_loss: 0.5067 - val_acc: 0.8042\n",
      "Epoch 21/50\n",
      "9048/9048 [==============================] - 0s 44us/sample - loss: 0.3718 - acc: 0.8480 - val_loss: 0.4953 - val_acc: 0.8131\n",
      "Epoch 22/50\n",
      "9048/9048 [==============================] - 0s 42us/sample - loss: 0.3629 - acc: 0.8504 - val_loss: 0.4979 - val_acc: 0.8101\n",
      "Epoch 23/50\n",
      "9048/9048 [==============================] - 0s 41us/sample - loss: 0.3600 - acc: 0.8540 - val_loss: 0.4859 - val_acc: 0.8131\n",
      "Epoch 24/50\n",
      "9048/9048 [==============================] - 0s 41us/sample - loss: 0.3535 - acc: 0.8580 - val_loss: 0.4843 - val_acc: 0.8161\n",
      "Epoch 25/50\n",
      "9048/9048 [==============================] - 0s 41us/sample - loss: 0.3386 - acc: 0.8603 - val_loss: 0.5024 - val_acc: 0.8211\n",
      "Epoch 26/50\n",
      "9048/9048 [==============================] - 0s 40us/sample - loss: 0.3327 - acc: 0.8646 - val_loss: 0.4822 - val_acc: 0.8131\n",
      "Epoch 27/50\n",
      "9048/9048 [==============================] - 0s 42us/sample - loss: 0.3253 - acc: 0.8679 - val_loss: 0.4909 - val_acc: 0.8231\n",
      "Epoch 28/50\n",
      "9048/9048 [==============================] - 0s 41us/sample - loss: 0.3173 - acc: 0.8743 - val_loss: 0.4698 - val_acc: 0.8141\n",
      "Epoch 29/50\n",
      "9048/9048 [==============================] - 0s 41us/sample - loss: 0.3090 - acc: 0.8793 - val_loss: 0.4727 - val_acc: 0.8360\n",
      "Epoch 30/50\n",
      "9048/9048 [==============================] - 0s 42us/sample - loss: 0.2964 - acc: 0.8821 - val_loss: 0.5151 - val_acc: 0.8151\n",
      "Epoch 31/50\n",
      "9048/9048 [==============================] - 0s 42us/sample - loss: 0.3018 - acc: 0.8816 - val_loss: 0.4814 - val_acc: 0.8141\n",
      "Epoch 32/50\n",
      "9048/9048 [==============================] - 0s 41us/sample - loss: 0.2928 - acc: 0.8804 - val_loss: 0.5015 - val_acc: 0.8250\n",
      "Epoch 33/50\n",
      "9048/9048 [==============================] - 0s 41us/sample - loss: 0.2765 - acc: 0.8952 - val_loss: 0.5118 - val_acc: 0.8290\n",
      "Epoch 34/50\n",
      "9048/9048 [==============================] - 0s 41us/sample - loss: 0.2786 - acc: 0.8890 - val_loss: 0.4903 - val_acc: 0.8290\n",
      "Epoch 35/50\n",
      "9048/9048 [==============================] - 0s 42us/sample - loss: 0.2649 - acc: 0.8956 - val_loss: 0.5022 - val_acc: 0.8340\n",
      "Epoch 36/50\n",
      "9048/9048 [==============================] - 0s 41us/sample - loss: 0.2574 - acc: 0.8951 - val_loss: 0.4823 - val_acc: 0.8201\n",
      "Epoch 37/50\n",
      "9048/9048 [==============================] - 0s 41us/sample - loss: 0.2507 - acc: 0.9014 - val_loss: 0.5123 - val_acc: 0.8290\n",
      "Epoch 38/50\n",
      "9048/9048 [==============================] - 0s 42us/sample - loss: 0.2543 - acc: 0.9009 - val_loss: 0.4810 - val_acc: 0.8400\n",
      "Epoch 39/50\n",
      "9048/9048 [==============================] - 0s 41us/sample - loss: 0.2444 - acc: 0.9054 - val_loss: 0.5055 - val_acc: 0.8320\n",
      "Epoch 40/50\n",
      "9048/9048 [==============================] - 0s 47us/sample - loss: 0.2442 - acc: 0.9017 - val_loss: 0.5430 - val_acc: 0.8260\n",
      "Epoch 41/50\n",
      "9048/9048 [==============================] - 0s 41us/sample - loss: 0.2277 - acc: 0.9114 - val_loss: 0.4791 - val_acc: 0.8419\n",
      "Epoch 42/50\n",
      "9048/9048 [==============================] - 0s 42us/sample - loss: 0.2218 - acc: 0.9143 - val_loss: 0.5035 - val_acc: 0.8429\n",
      "Epoch 43/50\n",
      "9048/9048 [==============================] - 0s 41us/sample - loss: 0.2222 - acc: 0.9124 - val_loss: 0.4677 - val_acc: 0.8469\n",
      "Epoch 44/50\n",
      "9048/9048 [==============================] - 0s 41us/sample - loss: 0.2088 - acc: 0.9187 - val_loss: 0.5178 - val_acc: 0.8439\n",
      "Epoch 45/50\n",
      "9048/9048 [==============================] - 0s 41us/sample - loss: 0.2010 - acc: 0.9209 - val_loss: 0.5471 - val_acc: 0.8380\n",
      "Epoch 46/50\n",
      "9048/9048 [==============================] - 0s 41us/sample - loss: 0.2127 - acc: 0.9177 - val_loss: 0.4938 - val_acc: 0.8429\n",
      "Epoch 47/50\n",
      "9048/9048 [==============================] - 0s 41us/sample - loss: 0.2307 - acc: 0.9119 - val_loss: 0.5392 - val_acc: 0.8320\n",
      "Epoch 48/50\n",
      "9048/9048 [==============================] - 0s 43us/sample - loss: 0.2158 - acc: 0.9174 - val_loss: 0.4985 - val_acc: 0.8479\n",
      "Epoch 49/50\n",
      "9048/9048 [==============================] - 0s 43us/sample - loss: 0.1796 - acc: 0.9310 - val_loss: 0.4939 - val_acc: 0.8489\n",
      "Epoch 50/50\n",
      "9048/9048 [==============================] - 0s 41us/sample - loss: 0.1849 - acc: 0.9268 - val_loss: 0.5380 - val_acc: 0.8459\n"
     ]
    }
   ],
   "source": [
    "# 編譯模型\n",
    "optim = Adam(lr=0.001)\n",
    "model.compile(loss='categorical_crossentropy',\n",
    "              optimizer=optim,\n",
    "              metrics=['acc'])\n",
    "\n",
    "batch_size=64\n",
    "epochs = 50\n",
    "\n",
    "# 訓練模型\n",
    "history = model.fit(X_train, y_train,\n",
    "                    batch_size=batch_size,\n",
    "                    epochs=epochs,\n",
    "                    verbose=1,\n",
    "                    shuffle=True,\n",
    "                    validation_split=0.1)\n"
   ]
  },
  {
   "cell_type": "markdown",
   "metadata": {},
   "source": [
    "## 6) 觀察訓練結果"
   ]
  },
  {
   "cell_type": "code",
   "execution_count": 16,
   "metadata": {},
   "outputs": [
    {
     "data": {
      "text/plain": [
       "dict_keys(['loss', 'acc', 'val_loss', 'val_acc'])"
      ]
     },
     "execution_count": 16,
     "metadata": {},
     "output_type": "execute_result"
    }
   ],
   "source": [
    "history_dict = history.history\n",
    "history_dict.keys()"
   ]
  },
  {
   "cell_type": "code",
   "execution_count": 17,
   "metadata": {},
   "outputs": [],
   "source": [
    "import matplotlib.pyplot as plt\n",
    "\n",
    "acc = history_dict['acc']\n",
    "val_acc = history_dict['val_acc']\n",
    "loss = history_dict['loss']\n",
    "val_loss = history_dict['val_loss']\n",
    "epochs_ = range(1,len(acc)+1)"
   ]
  },
  {
   "cell_type": "code",
   "execution_count": 18,
   "metadata": {},
   "outputs": [
    {
     "data": {
      "image/png": "[encoded data removed]",
      "text/plain": [
       "<Figure size 432x288 with 1 Axes>"
      ]
     },
     "metadata": {
      "needs_background": "light"
     },
     "output_type": "display_data"
    }
   ],
   "source": [
    "plt.plot(epochs_ , loss , label = 'training loss')\n",
    "plt.plot(epochs_ , val_loss , label = 'val los')\n",
    "plt.title('training and val loss')\n",
    "plt.xlabel('epochs')\n",
    "plt.ylabel('loss')\n",
    "plt.legend()\n",
    "plt.show()"
   ]
  },
  {
   "cell_type": "code",
   "execution_count": 19,
   "metadata": {},
   "outputs": [
    {
     "data": {
      "image/png": "[encoded data removed]",
      "text/plain": [
       "<Figure size 432x288 with 1 Axes>"
      ]
     },
     "metadata": {
      "needs_background": "light"
     },
     "output_type": "display_data"
    }
   ],
   "source": [
    "plt.clf()\n",
    "plt.plot(epochs_ , acc , label='train accuracy')\n",
    "plt.plot(epochs_ , val_acc , label = 'val accuracy')\n",
    "plt.title('train and val acc')\n",
    "plt.xlabel('epochs')\n",
    "plt.ylabel('acc')\n",
    "plt.legend()\n",
    "plt.show()"
   ]
  },
  {
   "cell_type": "markdown",
   "metadata": {},
   "source": [
    "## 測試集預測"
   ]
  },
  {
   "cell_type": "code",
   "execution_count": 20,
   "metadata": {},
   "outputs": [
    {
     "data": {
      "text/plain": [
       "0.8187935034802785"
      ]
     },
     "execution_count": 20,
     "metadata": {},
     "output_type": "execute_result"
    }
   ],
   "source": [
    "from sklearn.metrics import accuracy_score\n",
    "label=np.argmax(y_test,axis=1)\n",
    "pred =  np.argmax(model.predict(X_test), axis=1)\n",
    "accuracy_score(label, pred)"
   ]
  },
  {
   "cell_type": "markdown",
   "metadata": {},
   "source": [
    "## 預測 test.csv"
   ]
  },
  {
   "cell_type": "code",
   "execution_count": 22,
   "metadata": {},
   "outputs": [],
   "source": [
    "df_test = pd.read_csv('./data/test.csv')\n",
    "df_test = df_test.drop(labels=['Id'],axis=1)\n",
    "test =data_preprocessing(df_test)\n",
    "\n",
    "pred =  np.argmax(model.predict(test), axis=1)\n",
    "predict_class = pred+1"
   ]
  },
  {
   "cell_type": "code",
   "execution_count": 23,
   "metadata": {},
   "outputs": [],
   "source": [
    "submission=pd.read_csv('./data/sampleSubmission.csv')\n",
    "df_test = pd.read_csv('./data/test.csv')\n",
    "ans=pd.DataFrame(np.empty([len(df_test),2]), columns=['Id','class'], dtype='int32')"
   ]
  },
  {
   "cell_type": "code",
   "execution_count": 24,
   "metadata": {},
   "outputs": [],
   "source": [
    "ans['Id']=df_test['Id']\n",
    "ans['class']=predict_class\n",
    "ans.to_csv('./submission.csv',header=['Id','class'],index=False)"
   ]
  },
  {
   "cell_type": "code",
   "execution_count": null,
   "metadata": {},
   "outputs": [],
   "source": []
  }
 ],
 "metadata": {
  "kernelspec": {
   "display_name": "Python 3",
   "language": "python",
   "name": "python3"
  },
  "language_info": {
   "codemirror_mode": {
    "name": "ipython",
    "version": 3
   },
   "file_extension": ".py",
   "mimetype": "text/x-python",
   "name": "python",
   "nbconvert_exporter": "python",
   "pygments_lexer": "ipython3",
   "version": "3.7.3"
  }
 },
 "nbformat": 4,
 "nbformat_minor": 4
}
