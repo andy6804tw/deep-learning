{
 "cells": [
  {
   "cell_type": "code",
   "execution_count": 1,
   "metadata": {},
   "outputs": [],
   "source": [
    "import warnings\n",
    "warnings.filterwarnings(\"ignore\")"
   ]
  },
  {
   "cell_type": "code",
   "execution_count": 2,
   "metadata": {},
   "outputs": [],
   "source": [
    "import pandas as pd\n",
    "import numpy as np\n",
    "import matplotlib.pyplot as plt"
   ]
  },
  {
   "cell_type": "markdown",
   "metadata": {},
   "source": [
    "## 1) 載入資料集"
   ]
  },
  {
   "cell_type": "code",
   "execution_count": 3,
   "metadata": {},
   "outputs": [],
   "source": [
    "df_train = pd.read_csv('./data/train.csv')\n",
    "df_train = df_train.drop(labels=['Id'],axis=1) # 移除Id"
   ]
  },
  {
   "cell_type": "markdown",
   "metadata": {},
   "source": [
    "## 2) 檢查缺失值\n",
    "使用 numpy 所提供的函式來檢查是否有 NA 缺失值，假設有缺失值使用dropna()來移除。使用的時機在於當只有少量的缺失值適用，若遇到有大量缺失值的情況，或是本身的資料量就很少的情況下建議可以透過機器學習的方法補值來預測缺失值。\n",
    "\n",
    "```python\n",
    "# 移除缺失值\n",
    "train=train.dropna()\n",
    "```"
   ]
  },
  {
   "cell_type": "code",
   "execution_count": 4,
   "metadata": {},
   "outputs": [
    {
     "name": "stdout",
     "output_type": "stream",
     "text": [
      "Before data clean(NAN mount): 0\n"
     ]
    }
   ],
   "source": [
    "# checked missing data\n",
    "print(\"Before data clean(NAN mount):\",len(np.where(np.isnan(df_train))[0]))"
   ]
  },
  {
   "cell_type": "markdown",
   "metadata": {},
   "source": [
    "## 3) 資料前處理\n",
    "\n",
    "#### **特徵標準化**\n",
    "通常有兩種標準化的方法：\n",
    "- min max normalization：\n",
    "    - 會將特徵數據按比例縮放到0到1的區間，（或是-1到1）。\n",
    "- standard deviation normalization：\n",
    "    - 會將所有特徵數據縮放成平均為0、平方差為1。\n",
    "    \n",
    "#### **特徵組合**\n",
    "特徵需要適當地增加和減少，以提升精確度並減少計算時間。\n",
    "- 增加特徵：特徵組合 (Feature Combination)、群聚編碼 (GroupBy Encoding)、產生合成樣本(Oversampling)\n",
    "- 減少特徵：特徵篩選(Feature Selection)、剔除一些樣本(Undersampling)"
   ]
  },
  {
   "cell_type": "code",
   "execution_count": 5,
   "metadata": {},
   "outputs": [],
   "source": [
    "from sklearn.preprocessing import StandardScaler\n",
    "from sklearn.preprocessing import MinMaxScaler\n",
    "\n",
    "def data_preprocessing(df_input):\n",
    "    # numeric feature standardization\n",
    "    sc = StandardScaler()    \n",
    "#     sc = MinMaxScaler()\n",
    "    df=sc.fit_transform(df_input.iloc[:,0:54])\n",
    "    return df"
   ]
  },
  {
   "cell_type": "code",
   "execution_count": 6,
   "metadata": {},
   "outputs": [],
   "source": [
    "X = data_preprocessing(df_train)"
   ]
  },
  {
   "cell_type": "code",
   "execution_count": 7,
   "metadata": {},
   "outputs": [
    {
     "data": {
      "text/plain": [
       "(14364, 54)"
      ]
     },
     "execution_count": 7,
     "metadata": {},
     "output_type": "execute_result"
    }
   ],
   "source": [
    "X.shape"
   ]
  },
  {
   "cell_type": "markdown",
   "metadata": {},
   "source": [
    "## 3) One hot encoding\n",
    "對`Cover Type`輸出欄位的資料做 one-hot encoding，使用 Keras 提供的工具函式 to_categorical 將每筆資料的輸出值 y 轉換成一個向量。"
   ]
  },
  {
   "cell_type": "code",
   "execution_count": 8,
   "metadata": {},
   "outputs": [],
   "source": [
    "y = df_train['Cover_Type'].values"
   ]
  },
  {
   "cell_type": "code",
   "execution_count": 9,
   "metadata": {},
   "outputs": [],
   "source": [
    "from tensorflow.keras.utils import to_categorical\n",
    "y = to_categorical(y-1)"
   ]
  },
  {
   "cell_type": "markdown",
   "metadata": {},
   "source": [
    "## 4) 切割訓練集與測試集"
   ]
  },
  {
   "cell_type": "code",
   "execution_count": 10,
   "metadata": {},
   "outputs": [],
   "source": [
    "from sklearn.model_selection import train_test_split\n",
    "X_train , X_test , y_train , y_test = train_test_split(X,y , test_size=.3 , random_state=42)"
   ]
  },
  {
   "cell_type": "code",
   "execution_count": 11,
   "metadata": {},
   "outputs": [
    {
     "name": "stdout",
     "output_type": "stream",
     "text": [
      "訓練資料:  (10054, 54)\n",
      "測試資料:  (4310, 54)\n"
     ]
    }
   ],
   "source": [
    "print('訓練資料: ',X_train.shape)\n",
    "print('測試資料: ',X_test.shape)"
   ]
  },
  {
   "cell_type": "markdown",
   "metadata": {},
   "source": [
    "## 5) 建立網路模型"
   ]
  },
  {
   "cell_type": "code",
   "execution_count": 12,
   "metadata": {},
   "outputs": [
    {
     "name": "stdout",
     "output_type": "stream",
     "text": [
      "2.0.0\n"
     ]
    }
   ],
   "source": [
    "import tensorflow as tf\n",
    "from tensorflow import keras\n",
    "from tensorflow.keras import layers\n",
    "from tensorflow.keras.utils import Sequence\n",
    "from tensorflow.keras.models import Model\n",
    "from tensorflow.keras.optimizers import Adam\n",
    "\n",
    "print(tf.__version__)"
   ]
  },
  {
   "cell_type": "code",
   "execution_count": 13,
   "metadata": {},
   "outputs": [],
   "source": [
    "# 此範例使用 Tensorflow2.0 Functional API 支援多個輸入、多個輸出，利用傳遞的方式搭建神經網路。\n",
    "def build_model():\n",
    "    model_input = layers.Input(shape=X.shape[-1])\n",
    "    x = layers.Dense(256,activation='relu')(model_input)\n",
    "    x = layers.Dense(128,activation='relu')(x)\n",
    "    x = layers.Dense(64,activation='relu')(x)\n",
    "    x = layers.Dense(32,activation='relu')(x)\n",
    "    x = layers.Dense(16,activation='relu')(x)\n",
    "    x = layers.Dense(8,activation='relu')(x)\n",
    "    model_output = layers.Dense(7,activation='softmax')(x)\n",
    "    \n",
    "    return Model(model_input ,model_output)"
   ]
  },
  {
   "cell_type": "code",
   "execution_count": 14,
   "metadata": {},
   "outputs": [
    {
     "name": "stdout",
     "output_type": "stream",
     "text": [
      "Model: \"model\"\n",
      "_________________________________________________________________\n",
      "Layer (type)                 Output Shape              Param #   \n",
      "=================================================================\n",
      "input_1 (InputLayer)         [(None, 54)]              0         \n",
      "_________________________________________________________________\n",
      "dense (Dense)                (None, 256)               14080     \n",
      "_________________________________________________________________\n",
      "dense_1 (Dense)              (None, 128)               32896     \n",
      "_________________________________________________________________\n",
      "dense_2 (Dense)              (None, 64)                8256      \n",
      "_________________________________________________________________\n",
      "dense_3 (Dense)              (None, 32)                2080      \n",
      "_________________________________________________________________\n",
      "dense_4 (Dense)              (None, 16)                528       \n",
      "_________________________________________________________________\n",
      "dense_5 (Dense)              (None, 8)                 136       \n",
      "_________________________________________________________________\n",
      "dense_6 (Dense)              (None, 7)                 63        \n",
      "=================================================================\n",
      "Total params: 58,039\n",
      "Trainable params: 58,039\n",
      "Non-trainable params: 0\n",
      "_________________________________________________________________\n"
     ]
    }
   ],
   "source": [
    "model = build_model()\n",
    "model.summary()   # Weights = (54+1)*256+(256+1)*128+(128+1)*64+(64+1)*32+(32+1)*16+(16+1)*8+(8+1)*7"
   ]
  },
  {
   "cell_type": "code",
   "execution_count": 15,
   "metadata": {},
   "outputs": [
    {
     "name": "stdout",
     "output_type": "stream",
     "text": [
      "Train on 9048 samples, validate on 1006 samples\n",
      "Epoch 1/50\n",
      "9048/9048 [==============================] - 2s 188us/sample - loss: 1.3510 - acc: 0.5139 - val_loss: 1.0319 - val_acc: 0.6402\n",
      "Epoch 2/50\n",
      "9048/9048 [==============================] - 1s 63us/sample - loss: 0.9131 - acc: 0.6553 - val_loss: 0.7880 - val_acc: 0.6928\n",
      "Epoch 3/50\n",
      "9048/9048 [==============================] - 1s 64us/sample - loss: 0.7098 - acc: 0.7131 - val_loss: 0.6574 - val_acc: 0.7495\n",
      "Epoch 4/50\n",
      "9048/9048 [==============================] - 1s 66us/sample - loss: 0.6356 - acc: 0.7361 - val_loss: 0.6172 - val_acc: 0.7495\n",
      "Epoch 5/50\n",
      "9048/9048 [==============================] - 1s 75us/sample - loss: 0.5883 - acc: 0.7531 - val_loss: 0.5672 - val_acc: 0.7903\n",
      "Epoch 6/50\n",
      "9048/9048 [==============================] - 1s 62us/sample - loss: 0.5736 - acc: 0.7616 - val_loss: 0.5409 - val_acc: 0.7932\n",
      "Epoch 7/50\n",
      "9048/9048 [==============================] - 1s 71us/sample - loss: 0.5478 - acc: 0.7681 - val_loss: 0.5426 - val_acc: 0.7853\n",
      "Epoch 8/50\n",
      "9048/9048 [==============================] - 1s 60us/sample - loss: 0.5262 - acc: 0.7787 - val_loss: 0.5454 - val_acc: 0.7932\n",
      "Epoch 9/50\n",
      "9048/9048 [==============================] - 1s 70us/sample - loss: 0.5177 - acc: 0.7840 - val_loss: 0.5366 - val_acc: 0.7863\n",
      "Epoch 10/50\n",
      "9048/9048 [==============================] - 1s 66us/sample - loss: 0.4957 - acc: 0.7963 - val_loss: 0.5238 - val_acc: 0.7823\n",
      "Epoch 11/50\n",
      "9048/9048 [==============================] - 1s 66us/sample - loss: 0.4843 - acc: 0.7989 - val_loss: 0.5463 - val_acc: 0.7922\n",
      "Epoch 12/50\n",
      "9048/9048 [==============================] - 1s 65us/sample - loss: 0.4670 - acc: 0.8049 - val_loss: 0.5372 - val_acc: 0.7863\n",
      "Epoch 13/50\n",
      "9048/9048 [==============================] - 1s 69us/sample - loss: 0.4549 - acc: 0.8112 - val_loss: 0.5059 - val_acc: 0.8062\n",
      "Epoch 14/50\n",
      "9048/9048 [==============================] - 1s 69us/sample - loss: 0.4469 - acc: 0.8110 - val_loss: 0.5364 - val_acc: 0.7982\n",
      "Epoch 15/50\n",
      "9048/9048 [==============================] - 1s 68us/sample - loss: 0.4309 - acc: 0.8194 - val_loss: 0.4965 - val_acc: 0.8091\n",
      "Epoch 16/50\n",
      "9048/9048 [==============================] - 1s 83us/sample - loss: 0.4264 - acc: 0.8249 - val_loss: 0.4965 - val_acc: 0.8072\n",
      "Epoch 17/50\n",
      "9048/9048 [==============================] - 1s 64us/sample - loss: 0.4097 - acc: 0.8306 - val_loss: 0.4778 - val_acc: 0.8141\n",
      "Epoch 18/50\n",
      "9048/9048 [==============================] - 1s 66us/sample - loss: 0.3981 - acc: 0.8376 - val_loss: 0.4909 - val_acc: 0.8131\n",
      "Epoch 19/50\n",
      "9048/9048 [==============================] - 1s 79us/sample - loss: 0.3934 - acc: 0.8357 - val_loss: 0.4791 - val_acc: 0.8221\n",
      "Epoch 20/50\n",
      "9048/9048 [==============================] - 1s 72us/sample - loss: 0.3796 - acc: 0.8447 - val_loss: 0.4857 - val_acc: 0.8201\n",
      "Epoch 21/50\n",
      "9048/9048 [==============================] - 1s 79us/sample - loss: 0.3760 - acc: 0.8436 - val_loss: 0.4778 - val_acc: 0.8211\n",
      "Epoch 22/50\n",
      "9048/9048 [==============================] - 1s 75us/sample - loss: 0.3750 - acc: 0.8458 - val_loss: 0.5725 - val_acc: 0.7883\n",
      "Epoch 23/50\n",
      "9048/9048 [==============================] - 1s 67us/sample - loss: 0.3612 - acc: 0.8498 - val_loss: 0.4755 - val_acc: 0.8290\n",
      "Epoch 24/50\n",
      "9048/9048 [==============================] - 1s 61us/sample - loss: 0.3496 - acc: 0.8592 - val_loss: 0.4967 - val_acc: 0.8181\n",
      "Epoch 25/50\n",
      "9048/9048 [==============================] - 1s 72us/sample - loss: 0.3411 - acc: 0.8636 - val_loss: 0.4922 - val_acc: 0.8320\n",
      "Epoch 26/50\n",
      "9048/9048 [==============================] - 0s 53us/sample - loss: 0.3346 - acc: 0.8668 - val_loss: 0.4746 - val_acc: 0.8221\n",
      "Epoch 27/50\n",
      "9048/9048 [==============================] - 1s 66us/sample - loss: 0.3210 - acc: 0.8687 - val_loss: 0.4820 - val_acc: 0.8241\n",
      "Epoch 28/50\n",
      "9048/9048 [==============================] - 1s 72us/sample - loss: 0.3144 - acc: 0.8738 - val_loss: 0.5440 - val_acc: 0.8211\n",
      "Epoch 29/50\n",
      "9048/9048 [==============================] - 1s 83us/sample - loss: 0.3039 - acc: 0.8771 - val_loss: 0.5648 - val_acc: 0.8072\n",
      "Epoch 30/50\n",
      "9048/9048 [==============================] - 1s 75us/sample - loss: 0.3082 - acc: 0.8748 - val_loss: 0.5149 - val_acc: 0.8221\n",
      "Epoch 31/50\n",
      "9048/9048 [==============================] - 1s 76us/sample - loss: 0.2945 - acc: 0.8826 - val_loss: 0.5435 - val_acc: 0.8201\n",
      "Epoch 32/50\n",
      "9048/9048 [==============================] - 1s 74us/sample - loss: 0.2986 - acc: 0.8804 - val_loss: 0.4702 - val_acc: 0.8390\n",
      "Epoch 33/50\n",
      "9048/9048 [==============================] - 1s 75us/sample - loss: 0.2853 - acc: 0.8851 - val_loss: 0.5319 - val_acc: 0.8062\n",
      "Epoch 34/50\n",
      "9048/9048 [==============================] - 1s 74us/sample - loss: 0.2966 - acc: 0.8813 - val_loss: 0.5185 - val_acc: 0.8350\n",
      "Epoch 35/50\n",
      "9048/9048 [==============================] - 1s 76us/sample - loss: 0.2783 - acc: 0.8906 - val_loss: 0.5246 - val_acc: 0.8330\n",
      "Epoch 36/50\n",
      "9048/9048 [==============================] - 1s 71us/sample - loss: 0.2620 - acc: 0.8946 - val_loss: 0.5168 - val_acc: 0.8429\n",
      "Epoch 37/50\n",
      "9048/9048 [==============================] - 1s 68us/sample - loss: 0.2620 - acc: 0.8945 - val_loss: 0.5100 - val_acc: 0.8439\n",
      "Epoch 38/50\n",
      "9048/9048 [==============================] - 1s 77us/sample - loss: 0.2516 - acc: 0.8987 - val_loss: 0.5485 - val_acc: 0.8290\n",
      "Epoch 39/50\n",
      "9048/9048 [==============================] - 1s 75us/sample - loss: 0.2518 - acc: 0.8983 - val_loss: 0.5340 - val_acc: 0.8340\n",
      "Epoch 40/50\n",
      "9048/9048 [==============================] - 1s 66us/sample - loss: 0.2395 - acc: 0.9023 - val_loss: 0.5366 - val_acc: 0.8330\n",
      "Epoch 41/50\n",
      "9048/9048 [==============================] - 1s 67us/sample - loss: 0.2406 - acc: 0.9043 - val_loss: 0.5207 - val_acc: 0.8260\n",
      "Epoch 42/50\n",
      "9048/9048 [==============================] - 1s 60us/sample - loss: 0.2291 - acc: 0.9090 - val_loss: 0.5760 - val_acc: 0.8509\n",
      "Epoch 43/50\n",
      "9048/9048 [==============================] - 1s 76us/sample - loss: 0.2275 - acc: 0.9097 - val_loss: 0.5304 - val_acc: 0.8380\n",
      "Epoch 44/50\n",
      "9048/9048 [==============================] - 1s 67us/sample - loss: 0.2165 - acc: 0.9153 - val_loss: 0.5836 - val_acc: 0.8320\n",
      "Epoch 45/50\n",
      "9048/9048 [==============================] - 1s 65us/sample - loss: 0.2139 - acc: 0.9159 - val_loss: 0.5730 - val_acc: 0.8360\n",
      "Epoch 46/50\n",
      "9048/9048 [==============================] - 1s 66us/sample - loss: 0.2176 - acc: 0.9141 - val_loss: 0.5899 - val_acc: 0.8241\n",
      "Epoch 47/50\n",
      "9048/9048 [==============================] - 1s 67us/sample - loss: 0.2043 - acc: 0.9187 - val_loss: 0.5896 - val_acc: 0.8400\n",
      "Epoch 48/50\n",
      "9048/9048 [==============================] - 1s 65us/sample - loss: 0.2063 - acc: 0.9185 - val_loss: 0.6444 - val_acc: 0.8340\n",
      "Epoch 49/50\n",
      "9048/9048 [==============================] - 1s 68us/sample - loss: 0.1971 - acc: 0.9219 - val_loss: 0.5814 - val_acc: 0.8459\n",
      "Epoch 50/50\n",
      "9048/9048 [==============================] - 1s 62us/sample - loss: 0.2044 - acc: 0.9190 - val_loss: 0.5717 - val_acc: 0.8439\n"
     ]
    }
   ],
   "source": [
    "# 編譯模型\n",
    "optim = Adam(lr=0.001)\n",
    "model.compile(loss='categorical_crossentropy',\n",
    "              optimizer=optim,\n",
    "              metrics=['acc'])\n",
    "\n",
    "batch_size=64\n",
    "epochs = 50\n",
    "\n",
    "# 訓練模型\n",
    "history = model.fit(X_train, y_train,\n",
    "                    batch_size=batch_size,\n",
    "                    epochs=epochs,\n",
    "                    verbose=1,\n",
    "                    shuffle=True,\n",
    "                    validation_split=0.1)\n"
   ]
  },
  {
   "cell_type": "markdown",
   "metadata": {},
   "source": [
    "## 6) 觀察訓練結果"
   ]
  },
  {
   "cell_type": "code",
   "execution_count": 16,
   "metadata": {},
   "outputs": [
    {
     "data": {
      "text/plain": [
       "dict_keys(['loss', 'acc', 'val_loss', 'val_acc'])"
      ]
     },
     "execution_count": 16,
     "metadata": {},
     "output_type": "execute_result"
    }
   ],
   "source": [
    "history_dict = history.history\n",
    "history_dict.keys()"
   ]
  },
  {
   "cell_type": "code",
   "execution_count": 17,
   "metadata": {},
   "outputs": [],
   "source": [
    "import matplotlib.pyplot as plt\n",
    "\n",
    "acc = history_dict['acc']\n",
    "val_acc = history_dict['val_acc']\n",
    "loss = history_dict['loss']\n",
    "val_loss = history_dict['val_loss']\n",
    "epochs_ = range(1,len(acc)+1)"
   ]
  },
  {
   "cell_type": "code",
   "execution_count": 18,
   "metadata": {},
   "outputs": [
    {
     "data": {
      "image/png": "[encoded data removed]",
      "text/plain": [
       "<Figure size 432x288 with 1 Axes>"
      ]
     },
     "metadata": {
      "needs_background": "light"
     },
     "output_type": "display_data"
    }
   ],
   "source": [
    "plt.plot(epochs_ , loss , label = 'training loss')\n",
    "plt.plot(epochs_ , val_loss , label = 'val los')\n",
    "plt.title('training and val loss')\n",
    "plt.xlabel('epochs')\n",
    "plt.ylabel('loss')\n",
    "plt.legend()\n",
    "plt.show()"
   ]
  },
  {
   "cell_type": "code",
   "execution_count": 19,
   "metadata": {},
   "outputs": [
    {
     "data": {
      "image/png": "[encoded data removed]",
      "text/plain": [
       "<Figure size 432x288 with 1 Axes>"
      ]
     },
     "metadata": {
      "needs_background": "light"
     },
     "output_type": "display_data"
    }
   ],
   "source": [
    "plt.clf()\n",
    "plt.plot(epochs_ , acc , label='train accuracy')\n",
    "plt.plot(epochs_ , val_acc , label = 'val accuracy')\n",
    "plt.title('train and val acc')\n",
    "plt.xlabel('epochs')\n",
    "plt.ylabel('acc')\n",
    "plt.legend()\n",
    "plt.show()"
   ]
  },
  {
   "cell_type": "markdown",
   "metadata": {},
   "source": [
    "## 測試集預測"
   ]
  },
  {
   "cell_type": "code",
   "execution_count": 20,
   "metadata": {},
   "outputs": [
    {
     "data": {
      "text/plain": [
       "0.8278422273781902"
      ]
     },
     "execution_count": 20,
     "metadata": {},
     "output_type": "execute_result"
    }
   ],
   "source": [
    "from sklearn.metrics import accuracy_score\n",
    "label=np.argmax(y_test,axis=1)\n",
    "pred =  np.argmax(model.predict(X_test), axis=1)\n",
    "accuracy_score(label, pred)"
   ]
  },
  {
   "cell_type": "markdown",
   "metadata": {},
   "source": [
    "## 預測 test.csv"
   ]
  },
  {
   "cell_type": "code",
   "execution_count": 21,
   "metadata": {},
   "outputs": [],
   "source": [
    "df_val = pd.read_csv('./data/test.csv')\n",
    "df_val = df_val.drop(labels=['Id'],axis=1)\n",
    "X_val =data_preprocessing(df_val)\n",
    "pred =  np.argmax(model.predict(X_val), axis=1)\n",
    "predict_class = pred+1"
   ]
  },
  {
   "cell_type": "code",
   "execution_count": 22,
   "metadata": {},
   "outputs": [],
   "source": [
    "submission=pd.read_csv('./data/sampleSubmission.csv')\n",
    "df_test = pd.read_csv('./data/test.csv')\n",
    "ans=pd.DataFrame(np.empty([len(df_test),2]), dtype='int32')"
   ]
  },
  {
   "cell_type": "code",
   "execution_count": 23,
   "metadata": {},
   "outputs": [],
   "source": [
    "for i in range(0,len(ans)):\n",
    "    index=df_test[df_test['Id'] == submission.iloc[i,0]].index[0]\n",
    "    ans.iloc[i]=[submission.iloc[i,0],predict_class[index]]"
   ]
  },
  {
   "cell_type": "code",
   "execution_count": 23,
   "metadata": {},
   "outputs": [],
   "source": [
    "ans.to_csv('./submission.csv',header=['Id','class'],index=False)"
   ]
  },
  {
   "cell_type": "code",
   "execution_count": null,
   "metadata": {},
   "outputs": [],
   "source": []
  }
 ],
 "metadata": {
  "kernelspec": {
   "display_name": "Python 3",
   "language": "python",
   "name": "python3"
  },
  "language_info": {
   "codemirror_mode": {
    "name": "ipython",
    "version": 3
   },
   "file_extension": ".py",
   "mimetype": "text/x-python",
   "name": "python",
   "nbconvert_exporter": "python",
   "pygments_lexer": "ipython3",
   "version": "3.7.3"
  }
 },
 "nbformat": 4,
 "nbformat_minor": 4
}
