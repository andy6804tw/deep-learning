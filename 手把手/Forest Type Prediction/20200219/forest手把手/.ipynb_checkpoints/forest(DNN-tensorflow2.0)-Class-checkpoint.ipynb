{
 "cells": [
  {
   "cell_type": "code",
   "execution_count": 1,
   "metadata": {},
   "outputs": [],
   "source": [
    "import warnings\n",
    "warnings.filterwarnings(\"ignore\")"
   ]
  },
  {
   "cell_type": "code",
   "execution_count": 2,
   "metadata": {},
   "outputs": [],
   "source": [
    "import pandas as pd\n",
    "import numpy as np\n",
    "import matplotlib.pyplot as plt"
   ]
  },
  {
   "cell_type": "markdown",
   "metadata": {},
   "source": [
    "## 1) 載入資料集"
   ]
  },
  {
   "cell_type": "code",
   "execution_count": 3,
   "metadata": {},
   "outputs": [],
   "source": [
    "df_train = pd.read_csv('./data/train.csv')\n",
    "df_train = df_train.drop(labels=['Id'],axis=1) # 移除Id"
   ]
  },
  {
   "cell_type": "markdown",
   "metadata": {},
   "source": [
    "## 2) 檢查缺失值\n",
    "使用 numpy 所提供的函式來檢查是否有 NA 缺失值，假設有缺失值使用dropna()來移除。使用的時機在於當只有少量的缺失值適用，若遇到有大量缺失值的情況，或是本身的資料量就很少的情況下建議可以透過機器學習的方法補值來預測缺失值。\n",
    "\n",
    "```python\n",
    "# 移除缺失值\n",
    "train=train.dropna()\n",
    "```"
   ]
  },
  {
   "cell_type": "code",
   "execution_count": 4,
   "metadata": {},
   "outputs": [
    {
     "name": "stdout",
     "output_type": "stream",
     "text": [
      "Before data clean(NAN mount): 0\n"
     ]
    }
   ],
   "source": [
    "# checked missing data\n",
    "print(\"Before data clean(NAN mount):\",len(np.where(np.isnan(df_train))[0]))"
   ]
  },
  {
   "cell_type": "markdown",
   "metadata": {},
   "source": [
    "## 3) 資料前處理\n",
    "\n",
    "#### **特徵標準化**\n",
    "通常有兩種標準化的方法：\n",
    "- min max normalization：\n",
    "    - 會將特徵數據按比例縮放到0到1的區間，（或是-1到1）。\n",
    "- standard deviation normalization：\n",
    "    - 會將所有特徵數據縮放成平均為0、平方差為1。\n",
    "    \n",
    "#### **特徵組合**\n",
    "特徵需要適當地增加和減少，以提升精確度並減少計算時間。\n",
    "- 增加特徵：特徵組合 (Feature Combination)、群聚編碼 (GroupBy Encoding)、產生合成樣本(Oversampling)\n",
    "- 減少特徵：特徵篩選(Feature Selection)、剔除一些樣本(Undersampling)"
   ]
  },
  {
   "cell_type": "code",
   "execution_count": 5,
   "metadata": {},
   "outputs": [],
   "source": [
    "from sklearn.preprocessing import StandardScaler\n",
    "from sklearn.preprocessing import MinMaxScaler\n",
    "\n",
    "def data_preprocessing(df_input):\n",
    "    # numeric feature standardization\n",
    "    sc = StandardScaler()    \n",
    "#     sc = MinMaxScaler()\n",
    "    df=sc.fit_transform(df_input.iloc[:,0:54])\n",
    "    return df"
   ]
  },
  {
   "cell_type": "code",
   "execution_count": 6,
   "metadata": {},
   "outputs": [],
   "source": [
    "X = data_preprocessing(df_train)"
   ]
  },
  {
   "cell_type": "code",
   "execution_count": 7,
   "metadata": {},
   "outputs": [
    {
     "data": {
      "text/plain": [
       "(14364, 54)"
      ]
     },
     "execution_count": 7,
     "metadata": {},
     "output_type": "execute_result"
    }
   ],
   "source": [
    "X.shape"
   ]
  },
  {
   "cell_type": "markdown",
   "metadata": {},
   "source": [
    "## 3) One hot encoding\n",
    "對`Cover Type`欄位的資料做 one-hot encoding，使用 Keras 提供的工具函式 to_categorical 將每筆資料的輸出值 y 轉換成一個向量。"
   ]
  },
  {
   "cell_type": "code",
   "execution_count": 8,
   "metadata": {},
   "outputs": [],
   "source": [
    "y = df_train['Cover_Type'].values"
   ]
  },
  {
   "cell_type": "code",
   "execution_count": 9,
   "metadata": {},
   "outputs": [],
   "source": [
    "from tensorflow.keras.utils import to_categorical\n",
    "y = to_categorical(y-1)"
   ]
  },
  {
   "cell_type": "markdown",
   "metadata": {},
   "source": [
    "## 4) 切割訓練集與測試集"
   ]
  },
  {
   "cell_type": "code",
   "execution_count": 10,
   "metadata": {},
   "outputs": [],
   "source": [
    "from sklearn.model_selection import train_test_split\n",
    "X_train , X_test , y_train , y_test = train_test_split(X,y , test_size=.3 , random_state=42)"
   ]
  },
  {
   "cell_type": "code",
   "execution_count": 11,
   "metadata": {},
   "outputs": [
    {
     "name": "stdout",
     "output_type": "stream",
     "text": [
      "訓練資料:  (10054, 54)\n",
      "測試資料:  (4310, 54)\n"
     ]
    }
   ],
   "source": [
    "print('訓練資料: ',X_train.shape)\n",
    "print('測試資料: ',X_test.shape)"
   ]
  },
  {
   "cell_type": "markdown",
   "metadata": {},
   "source": [
    "## 5) 建立網路模型"
   ]
  },
  {
   "cell_type": "code",
   "execution_count": 12,
   "metadata": {},
   "outputs": [
    {
     "name": "stdout",
     "output_type": "stream",
     "text": [
      "2.0.0\n"
     ]
    }
   ],
   "source": [
    "import tensorflow as tf\n",
    "from tensorflow import keras\n",
    "from tensorflow.keras import layers\n",
    "from tensorflow.keras.utils import Sequence\n",
    "from tensorflow.keras.models import Model\n",
    "from tensorflow.keras.optimizers import Adam\n",
    "\n",
    "print(tf.__version__)"
   ]
  },
  {
   "cell_type": "code",
   "execution_count": 13,
   "metadata": {},
   "outputs": [],
   "source": [
    "# 使用 class 客製化 Models\n",
    "class network(keras.Model):\n",
    "    def __init__(self):\n",
    "        super(network,self).__init__()\n",
    "        self.layer_1 = layers.Dense(256 , activation='relu')\n",
    "        self.layer_2 = layers.Dense(128 , activation='relu')\n",
    "        self.layer_3 = layers.Dense(64 , activation='relu')\n",
    "        self.layer_4 = layers.Dense(32 , activation='relu')\n",
    "        self.layer_5 = layers.Dense(16 , activation='relu')\n",
    "        self.layer_6 = layers.Dense(8 , activation='relu')\n",
    "        self.output_layer = layers.Dense(7 , activation='softmax')\n",
    "        \n",
    "    def call(self,x):\n",
    "        x_1 = self.layer_1(x)\n",
    "        x_2 = self.layer_2(x_1)\n",
    "        x_3 = self.layer_3(x_2)\n",
    "        x_4 = self.layer_4(x_3)\n",
    "        x_5 = self.layer_5(x_4)\n",
    "        x_6 = self.layer_6(x_5)\n",
    "        predict = self.output_layer(x_6)\n",
    "        return predict"
   ]
  },
  {
   "cell_type": "code",
   "execution_count": 14,
   "metadata": {},
   "outputs": [],
   "source": [
    "model = network()"
   ]
  },
  {
   "cell_type": "code",
   "execution_count": 15,
   "metadata": {},
   "outputs": [
    {
     "name": "stdout",
     "output_type": "stream",
     "text": [
      "Train on 9048 samples, validate on 1006 samples\n",
      "Epoch 1/50\n",
      "9048/9048 [==============================] - 2s 193us/sample - loss: 1.3969 - acc: 0.4655 - val_loss: 1.0430 - val_acc: 0.6332\n",
      "Epoch 2/50\n",
      "9048/9048 [==============================] - 1s 58us/sample - loss: 0.8962 - acc: 0.6541 - val_loss: 0.7931 - val_acc: 0.6799\n",
      "Epoch 3/50\n",
      "9048/9048 [==============================] - 1s 88us/sample - loss: 0.7202 - acc: 0.7090 - val_loss: 0.6919 - val_acc: 0.7256\n",
      "Epoch 4/50\n",
      "9048/9048 [==============================] - 1s 80us/sample - loss: 0.6566 - acc: 0.7318 - val_loss: 0.6150 - val_acc: 0.7485\n",
      "Epoch 5/50\n",
      "9048/9048 [==============================] - 1s 72us/sample - loss: 0.6242 - acc: 0.7386 - val_loss: 0.5835 - val_acc: 0.7684\n",
      "Epoch 6/50\n",
      "9048/9048 [==============================] - 1s 71us/sample - loss: 0.5880 - acc: 0.7545 - val_loss: 0.5735 - val_acc: 0.7674\n",
      "Epoch 7/50\n",
      "9048/9048 [==============================] - 1s 58us/sample - loss: 0.5735 - acc: 0.7606 - val_loss: 0.5663 - val_acc: 0.7644\n",
      "Epoch 8/50\n",
      "9048/9048 [==============================] - 1s 73us/sample - loss: 0.5564 - acc: 0.7687 - val_loss: 0.5860 - val_acc: 0.7684\n",
      "Epoch 9/50\n",
      "9048/9048 [==============================] - 1s 73us/sample - loss: 0.5321 - acc: 0.7798 - val_loss: 0.5383 - val_acc: 0.7694\n",
      "Epoch 10/50\n",
      "9048/9048 [==============================] - 1s 75us/sample - loss: 0.5155 - acc: 0.7884 - val_loss: 0.5466 - val_acc: 0.7813\n",
      "Epoch 11/50\n",
      "9048/9048 [==============================] - 1s 67us/sample - loss: 0.4952 - acc: 0.7977 - val_loss: 0.5271 - val_acc: 0.7833\n",
      "Epoch 12/50\n",
      "9048/9048 [==============================] - 1s 82us/sample - loss: 0.4899 - acc: 0.7972 - val_loss: 0.5394 - val_acc: 0.7843\n",
      "Epoch 13/50\n",
      "9048/9048 [==============================] - 1s 70us/sample - loss: 0.4810 - acc: 0.7995 - val_loss: 0.5190 - val_acc: 0.7883\n",
      "Epoch 14/50\n",
      "9048/9048 [==============================] - 1s 72us/sample - loss: 0.4670 - acc: 0.8096 - val_loss: 0.5395 - val_acc: 0.7913\n",
      "Epoch 15/50\n",
      "9048/9048 [==============================] - 1s 70us/sample - loss: 0.4535 - acc: 0.8131 - val_loss: 0.5038 - val_acc: 0.8052\n",
      "Epoch 16/50\n",
      "9048/9048 [==============================] - 1s 77us/sample - loss: 0.4442 - acc: 0.8171 - val_loss: 0.5060 - val_acc: 0.7992\n",
      "Epoch 17/50\n",
      "9048/9048 [==============================] - 1s 68us/sample - loss: 0.4411 - acc: 0.8166 - val_loss: 0.5369 - val_acc: 0.7903\n",
      "Epoch 18/50\n",
      "9048/9048 [==============================] - 1s 68us/sample - loss: 0.4172 - acc: 0.8263 - val_loss: 0.5116 - val_acc: 0.8082\n",
      "Epoch 19/50\n",
      "9048/9048 [==============================] - 1s 69us/sample - loss: 0.4137 - acc: 0.8319 - val_loss: 0.4956 - val_acc: 0.8072\n",
      "Epoch 20/50\n",
      "9048/9048 [==============================] - 1s 70us/sample - loss: 0.4041 - acc: 0.8328 - val_loss: 0.5231 - val_acc: 0.8131\n",
      "Epoch 21/50\n",
      "9048/9048 [==============================] - 1s 78us/sample - loss: 0.3925 - acc: 0.8402 - val_loss: 0.5277 - val_acc: 0.8012\n",
      "Epoch 22/50\n",
      "9048/9048 [==============================] - 1s 71us/sample - loss: 0.3856 - acc: 0.8424 - val_loss: 0.5184 - val_acc: 0.8002\n",
      "Epoch 23/50\n",
      "9048/9048 [==============================] - 1s 70us/sample - loss: 0.3819 - acc: 0.8437 - val_loss: 0.4931 - val_acc: 0.8201\n",
      "Epoch 24/50\n",
      "9048/9048 [==============================] - 1s 65us/sample - loss: 0.3725 - acc: 0.8498 - val_loss: 0.4930 - val_acc: 0.8161\n",
      "Epoch 25/50\n",
      "9048/9048 [==============================] - 1s 71us/sample - loss: 0.3615 - acc: 0.8560 - val_loss: 0.5041 - val_acc: 0.8181\n",
      "Epoch 26/50\n",
      "9048/9048 [==============================] - 1s 74us/sample - loss: 0.3530 - acc: 0.8518 - val_loss: 0.4974 - val_acc: 0.8131\n",
      "Epoch 27/50\n",
      "9048/9048 [==============================] - 1s 70us/sample - loss: 0.3516 - acc: 0.8589 - val_loss: 0.4965 - val_acc: 0.8300\n",
      "Epoch 28/50\n",
      "9048/9048 [==============================] - 1s 85us/sample - loss: 0.3396 - acc: 0.8616 - val_loss: 0.5052 - val_acc: 0.8181\n",
      "Epoch 29/50\n",
      "9048/9048 [==============================] - 1s 72us/sample - loss: 0.3463 - acc: 0.8630 - val_loss: 0.4938 - val_acc: 0.8221\n",
      "Epoch 30/50\n",
      "9048/9048 [==============================] - 1s 83us/sample - loss: 0.3304 - acc: 0.8668 - val_loss: 0.5119 - val_acc: 0.8171\n",
      "Epoch 31/50\n",
      "9048/9048 [==============================] - 1s 77us/sample - loss: 0.3237 - acc: 0.8704 - val_loss: 0.4839 - val_acc: 0.8241\n",
      "Epoch 32/50\n",
      "9048/9048 [==============================] - 1s 70us/sample - loss: 0.3075 - acc: 0.8785 - val_loss: 0.4844 - val_acc: 0.8280\n",
      "Epoch 33/50\n",
      "9048/9048 [==============================] - 1s 69us/sample - loss: 0.3076 - acc: 0.8760 - val_loss: 0.5236 - val_acc: 0.8370\n",
      "Epoch 34/50\n",
      "9048/9048 [==============================] - 1s 78us/sample - loss: 0.3008 - acc: 0.8814 - val_loss: 0.5403 - val_acc: 0.8250\n",
      "Epoch 35/50\n",
      "9048/9048 [==============================] - 1s 76us/sample - loss: 0.2979 - acc: 0.8807 - val_loss: 0.5248 - val_acc: 0.8241\n",
      "Epoch 36/50\n",
      "9048/9048 [==============================] - 1s 74us/sample - loss: 0.2920 - acc: 0.8882 - val_loss: 0.4921 - val_acc: 0.8360\n",
      "Epoch 37/50\n",
      "9048/9048 [==============================] - 1s 71us/sample - loss: 0.2701 - acc: 0.8970 - val_loss: 0.5299 - val_acc: 0.8211\n",
      "Epoch 38/50\n",
      "9048/9048 [==============================] - 1s 72us/sample - loss: 0.2696 - acc: 0.8972 - val_loss: 0.5138 - val_acc: 0.8360\n",
      "Epoch 39/50\n",
      "9048/9048 [==============================] - 1s 72us/sample - loss: 0.2629 - acc: 0.8964 - val_loss: 0.5420 - val_acc: 0.8201\n",
      "Epoch 40/50\n",
      "9048/9048 [==============================] - 1s 70us/sample - loss: 0.2688 - acc: 0.8932 - val_loss: 0.5371 - val_acc: 0.8290\n",
      "Epoch 41/50\n",
      "9048/9048 [==============================] - 1s 74us/sample - loss: 0.2646 - acc: 0.8953 - val_loss: 0.5297 - val_acc: 0.8201\n",
      "Epoch 42/50\n",
      "9048/9048 [==============================] - 1s 72us/sample - loss: 0.2607 - acc: 0.8977 - val_loss: 0.4880 - val_acc: 0.8429\n",
      "Epoch 43/50\n",
      "9048/9048 [==============================] - 1s 77us/sample - loss: 0.2385 - acc: 0.9064 - val_loss: 0.4825 - val_acc: 0.8499\n",
      "Epoch 44/50\n",
      "9048/9048 [==============================] - 1s 69us/sample - loss: 0.2423 - acc: 0.9062 - val_loss: 0.5527 - val_acc: 0.8151\n",
      "Epoch 45/50\n",
      "9048/9048 [==============================] - 1s 84us/sample - loss: 0.2370 - acc: 0.9079 - val_loss: 0.5009 - val_acc: 0.8429\n",
      "Epoch 46/50\n",
      "9048/9048 [==============================] - 1s 58us/sample - loss: 0.2342 - acc: 0.9067 - val_loss: 0.5242 - val_acc: 0.8588\n",
      "Epoch 47/50\n",
      "9048/9048 [==============================] - 1s 72us/sample - loss: 0.2161 - acc: 0.9159 - val_loss: 0.5339 - val_acc: 0.8479\n",
      "Epoch 48/50\n",
      "9048/9048 [==============================] - 1s 75us/sample - loss: 0.2120 - acc: 0.9163 - val_loss: 0.5505 - val_acc: 0.8330\n",
      "Epoch 49/50\n",
      "9048/9048 [==============================] - 1s 63us/sample - loss: 0.2110 - acc: 0.9173 - val_loss: 0.5837 - val_acc: 0.8270\n",
      "Epoch 50/50\n",
      "9048/9048 [==============================] - 1s 66us/sample - loss: 0.2166 - acc: 0.9137 - val_loss: 0.5252 - val_acc: 0.8439\n"
     ]
    }
   ],
   "source": [
    "# 編譯模型\n",
    "optim = Adam(lr=0.001)\n",
    "model.compile(loss='categorical_crossentropy',\n",
    "              optimizer=optim,\n",
    "              metrics=['acc'])\n",
    "\n",
    "batch_size=64\n",
    "epochs = 50\n",
    "\n",
    "# 訓練模型\n",
    "history = model.fit(X_train, y_train,\n",
    "                    batch_size=batch_size,\n",
    "                    epochs=epochs,\n",
    "                    verbose=1,\n",
    "                    shuffle=True,\n",
    "                    validation_split=0.1)\n"
   ]
  },
  {
   "cell_type": "markdown",
   "metadata": {},
   "source": [
    "## 6) 觀察訓練結果"
   ]
  },
  {
   "cell_type": "code",
   "execution_count": 16,
   "metadata": {},
   "outputs": [
    {
     "data": {
      "text/plain": [
       "dict_keys(['loss', 'acc', 'val_loss', 'val_acc'])"
      ]
     },
     "execution_count": 16,
     "metadata": {},
     "output_type": "execute_result"
    }
   ],
   "source": [
    "history_dict = history.history\n",
    "history_dict.keys()"
   ]
  },
  {
   "cell_type": "code",
   "execution_count": 17,
   "metadata": {},
   "outputs": [],
   "source": [
    "import matplotlib.pyplot as plt\n",
    "\n",
    "acc = history_dict['acc']\n",
    "val_acc = history_dict['val_acc']\n",
    "loss = history_dict['loss']\n",
    "val_loss = history_dict['val_loss']\n",
    "epochs_ = range(1,len(acc)+1)"
   ]
  },
  {
   "cell_type": "code",
   "execution_count": 18,
   "metadata": {},
   "outputs": [
    {
     "data": {
      "image/png": "[encoded data removed]",
      "text/plain": [
       "<Figure size 432x288 with 1 Axes>"
      ]
     },
     "metadata": {
      "needs_background": "light"
     },
     "output_type": "display_data"
    }
   ],
   "source": [
    "plt.plot(epochs_ , loss , label = 'training loss')\n",
    "plt.plot(epochs_ , val_loss , label = 'val los')\n",
    "plt.title('training and val loss')\n",
    "plt.xlabel('epochs')\n",
    "plt.ylabel('loss')\n",
    "plt.legend()\n",
    "plt.show()"
   ]
  },
  {
   "cell_type": "code",
   "execution_count": 19,
   "metadata": {},
   "outputs": [
    {
     "data": {
      "image/png": "[encoded data removed]",
      "text/plain": [
       "<Figure size 432x288 with 1 Axes>"
      ]
     },
     "metadata": {
      "needs_background": "light"
     },
     "output_type": "display_data"
    }
   ],
   "source": [
    "plt.clf()\n",
    "plt.plot(epochs_ , acc , label='train accuracy')\n",
    "plt.plot(epochs_ , val_acc , label = 'val accuracy')\n",
    "plt.title('train and val acc')\n",
    "plt.xlabel('epochs')\n",
    "plt.ylabel('acc')\n",
    "plt.legend()\n",
    "plt.show()"
   ]
  },
  {
   "cell_type": "markdown",
   "metadata": {},
   "source": [
    "## 測試集預測"
   ]
  },
  {
   "cell_type": "code",
   "execution_count": 20,
   "metadata": {},
   "outputs": [
    {
     "data": {
      "text/plain": [
       "0.8150812064965197"
      ]
     },
     "execution_count": 20,
     "metadata": {},
     "output_type": "execute_result"
    }
   ],
   "source": [
    "from sklearn.metrics import accuracy_score\n",
    "label=np.argmax(y_test,axis=1)\n",
    "pred =  np.argmax(model.predict(X_test), axis=1)\n",
    "accuracy_score(label, pred)"
   ]
  },
  {
   "cell_type": "markdown",
   "metadata": {},
   "source": [
    "## 預測 test.csv"
   ]
  },
  {
   "cell_type": "code",
   "execution_count": 21,
   "metadata": {},
   "outputs": [],
   "source": [
    "df_val = pd.read_csv('./data/test.csv')\n",
    "df_val = df_val.drop(labels=['Id'],axis=1)\n",
    "X_val =data_preprocessing(df_val)\n",
    "pred =  np.argmax(model.predict(X_val), axis=1)\n",
    "predict_class = pred+1"
   ]
  },
  {
   "cell_type": "code",
   "execution_count": 22,
   "metadata": {},
   "outputs": [],
   "source": [
    "submission=pd.read_csv('./data/sampleSubmission.csv')\n",
    "df_test = pd.read_csv('./data/test.csv')\n",
    "ans=pd.DataFrame(np.empty([len(df_test),2]), dtype='int32')"
   ]
  },
  {
   "cell_type": "code",
   "execution_count": 23,
   "metadata": {},
   "outputs": [],
   "source": [
    "for i in range(0,len(ans)):\n",
    "    index=df_test[df_test['Id'] == submission.iloc[i,0]].index[0]\n",
    "    ans.iloc[i]=[submission.iloc[i,0],predict_class[index]]"
   ]
  },
  {
   "cell_type": "code",
   "execution_count": 24,
   "metadata": {},
   "outputs": [],
   "source": [
    "ans.to_csv('./submission.csv',header=['Id','class'],index=False)"
   ]
  }
 ],
 "metadata": {
  "kernelspec": {
   "display_name": "Python 3",
   "language": "python",
   "name": "python3"
  },
  "language_info": {
   "codemirror_mode": {
    "name": "ipython",
    "version": 3
   },
   "file_extension": ".py",
   "mimetype": "text/x-python",
   "name": "python",
   "nbconvert_exporter": "python",
   "pygments_lexer": "ipython3",
   "version": "3.7.3"
  }
 },
 "nbformat": 4,
 "nbformat_minor": 4
}
