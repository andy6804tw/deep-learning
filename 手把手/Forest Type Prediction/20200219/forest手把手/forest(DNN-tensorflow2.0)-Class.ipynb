{
 "cells": [
  {
   "cell_type": "code",
   "execution_count": 1,
   "metadata": {},
   "outputs": [],
   "source": [
    "import warnings\n",
    "warnings.filterwarnings(\"ignore\")"
   ]
  },
  {
   "cell_type": "code",
   "execution_count": 2,
   "metadata": {},
   "outputs": [],
   "source": [
    "import pandas as pd\n",
    "import numpy as np\n",
    "import matplotlib.pyplot as plt"
   ]
  },
  {
   "cell_type": "markdown",
   "metadata": {},
   "source": [
    "## 1) 載入資料集"
   ]
  },
  {
   "cell_type": "code",
   "execution_count": 3,
   "metadata": {},
   "outputs": [],
   "source": [
    "df_train = pd.read_csv('./data/train.csv')\n",
    "df_train = df_train.drop(labels=['Id'],axis=1) # 移除Id"
   ]
  },
  {
   "cell_type": "markdown",
   "metadata": {},
   "source": [
    "## 2) 檢查缺失值\n",
    "使用 numpy 所提供的函式來檢查是否有 NA 缺失值，假設有缺失值使用dropna()來移除。使用的時機在於當只有少量的缺失值適用，若遇到有大量缺失值的情況，或是本身的資料量就很少的情況下建議可以透過機器學習的方法補值來預測缺失值。\n",
    "\n",
    "```python\n",
    "# 移除缺失值\n",
    "train=train.dropna()\n",
    "```"
   ]
  },
  {
   "cell_type": "code",
   "execution_count": 4,
   "metadata": {},
   "outputs": [
    {
     "name": "stdout",
     "output_type": "stream",
     "text": [
      "Before data clean(NAN mount): 0\n"
     ]
    }
   ],
   "source": [
    "# checked missing data\n",
    "print(\"Before data clean(NAN mount):\",len(np.where(np.isnan(df_train))[0]))"
   ]
  },
  {
   "cell_type": "markdown",
   "metadata": {},
   "source": [
    "## 3) 資料前處理\n",
    "\n",
    "#### **特徵標準化**\n",
    "通常有兩種標準化的方法：\n",
    "- min max normalization：\n",
    "    - 會將特徵數據按比例縮放到0到1的區間，（或是-1到1）。\n",
    "- standard deviation normalization：\n",
    "    - 會將所有特徵數據縮放成平均為0、平方差為1。\n",
    "    \n",
    "#### **特徵組合**\n",
    "特徵需要適當地增加和減少，以提升精確度並減少計算時間。\n",
    "- 增加特徵：特徵組合 (Feature Combination)、群聚編碼 (GroupBy Encoding)、產生合成樣本(Oversampling)\n",
    "- 減少特徵：特徵篩選(Feature Selection)、剔除一些樣本(Undersampling)"
   ]
  },
  {
   "cell_type": "code",
   "execution_count": 5,
   "metadata": {},
   "outputs": [],
   "source": [
    "from sklearn.preprocessing import StandardScaler\n",
    "from sklearn.preprocessing import MinMaxScaler\n",
    "\n",
    "def data_preprocessing(df_input):\n",
    "    # numeric feature standardization\n",
    "    sc = StandardScaler()    \n",
    "#     sc = MinMaxScaler()\n",
    "    df=sc.fit_transform(df_input.iloc[:,0:54])\n",
    "    return df"
   ]
  },
  {
   "cell_type": "code",
   "execution_count": 6,
   "metadata": {},
   "outputs": [],
   "source": [
    "X = data_preprocessing(df_train)"
   ]
  },
  {
   "cell_type": "code",
   "execution_count": 7,
   "metadata": {},
   "outputs": [
    {
     "data": {
      "text/plain": [
       "(14364, 54)"
      ]
     },
     "execution_count": 7,
     "metadata": {},
     "output_type": "execute_result"
    }
   ],
   "source": [
    "X.shape"
   ]
  },
  {
   "cell_type": "markdown",
   "metadata": {},
   "source": [
    "## 3) One hot encoding\n",
    "對`Cover Type`欄位的資料做 one-hot encoding，使用 Keras 提供的工具函式 to_categorical 將每筆資料的輸出值 y 轉換成一個向量。"
   ]
  },
  {
   "cell_type": "code",
   "execution_count": 8,
   "metadata": {},
   "outputs": [],
   "source": [
    "y = df_train['Cover_Type'].values"
   ]
  },
  {
   "cell_type": "code",
   "execution_count": 9,
   "metadata": {},
   "outputs": [],
   "source": [
    "from tensorflow.keras.utils import to_categorical\n",
    "y = to_categorical(y-1)"
   ]
  },
  {
   "cell_type": "markdown",
   "metadata": {},
   "source": [
    "## 4) 切割訓練集與測試集"
   ]
  },
  {
   "cell_type": "code",
   "execution_count": 10,
   "metadata": {},
   "outputs": [],
   "source": [
    "from sklearn.model_selection import train_test_split\n",
    "X_train , X_test , y_train , y_test = train_test_split(X,y , test_size=.3 , random_state=42)"
   ]
  },
  {
   "cell_type": "code",
   "execution_count": 11,
   "metadata": {},
   "outputs": [
    {
     "name": "stdout",
     "output_type": "stream",
     "text": [
      "訓練資料:  (10054, 54)\n",
      "測試資料:  (4310, 54)\n"
     ]
    }
   ],
   "source": [
    "print('訓練資料: ',X_train.shape)\n",
    "print('測試資料: ',X_test.shape)"
   ]
  },
  {
   "cell_type": "markdown",
   "metadata": {},
   "source": [
    "## 5) 建立網路模型"
   ]
  },
  {
   "cell_type": "code",
   "execution_count": 12,
   "metadata": {},
   "outputs": [
    {
     "name": "stdout",
     "output_type": "stream",
     "text": [
      "1.14.0\n"
     ]
    }
   ],
   "source": [
    "import tensorflow as tf\n",
    "from tensorflow import keras\n",
    "from tensorflow.keras import layers\n",
    "from tensorflow.keras.utils import Sequence\n",
    "from tensorflow.keras.models import Model\n",
    "from tensorflow.keras.optimizers import Adam\n",
    "\n",
    "print(tf.__version__)"
   ]
  },
  {
   "cell_type": "code",
   "execution_count": 13,
   "metadata": {},
   "outputs": [],
   "source": [
    "# 使用 class 客製化 Models\n",
    "class network(keras.Model):\n",
    "    def __init__(self):\n",
    "        super(network,self).__init__()\n",
    "        self.layer_1 = layers.Dense(256 , activation='relu')\n",
    "        self.layer_2 = layers.Dense(128 , activation='relu')\n",
    "        self.layer_3 = layers.Dense(64 , activation='relu')\n",
    "        self.layer_4 = layers.Dense(32 , activation='relu')\n",
    "        self.layer_5 = layers.Dense(16 , activation='relu')\n",
    "        self.layer_6 = layers.Dense(8 , activation='relu')\n",
    "        self.output_layer = layers.Dense(7 , activation='softmax')\n",
    "        \n",
    "    def call(self,x):\n",
    "        x_1 = self.layer_1(x)\n",
    "        x_2 = self.layer_2(x_1)\n",
    "        x_3 = self.layer_3(x_2)\n",
    "        x_4 = self.layer_4(x_3)\n",
    "        x_5 = self.layer_5(x_4)\n",
    "        x_6 = self.layer_6(x_5)\n",
    "        predict = self.output_layer(x_6)\n",
    "        return predict"
   ]
  },
  {
   "cell_type": "code",
   "execution_count": 14,
   "metadata": {},
   "outputs": [
    {
     "name": "stdout",
     "output_type": "stream",
     "text": [
      "WARNING:tensorflow:From C:\\Users\\User\\Anaconda3\\lib\\site-packages\\tensorflow\\python\\ops\\init_ops.py:1251: calling VarianceScaling.__init__ (from tensorflow.python.ops.init_ops) with dtype is deprecated and will be removed in a future version.\n",
      "Instructions for updating:\n",
      "Call initializer instance with the dtype argument instead of passing it to the constructor\n"
     ]
    }
   ],
   "source": [
    "model = network()"
   ]
  },
  {
   "cell_type": "code",
   "execution_count": 15,
   "metadata": {},
   "outputs": [
    {
     "name": "stdout",
     "output_type": "stream",
     "text": [
      "WARNING:tensorflow:Entity <bound method network.call of <__main__.network object at 0x000001D4DCF77978>> could not be transformed and will be executed as-is. Please report this to the AutgoGraph team. When filing the bug, set the verbosity to 10 (on Linux, `export AUTOGRAPH_VERBOSITY=10`) and attach the full output. Cause: converting <bound method network.call of <__main__.network object at 0x000001D4DCF77978>>: AssertionError: Bad argument number for Name: 3, expecting 4\n",
      "WARNING: Entity <bound method network.call of <__main__.network object at 0x000001D4DCF77978>> could not be transformed and will be executed as-is. Please report this to the AutgoGraph team. When filing the bug, set the verbosity to 10 (on Linux, `export AUTOGRAPH_VERBOSITY=10`) and attach the full output. Cause: converting <bound method network.call of <__main__.network object at 0x000001D4DCF77978>>: AssertionError: Bad argument number for Name: 3, expecting 4\n",
      "Train on 9048 samples, validate on 1006 samples\n",
      "Epoch 1/50\n",
      "9048/9048 [==============================] - 1s 80us/sample - loss: 1.4308 - acc: 0.3733 - val_loss: 1.0612 - val_acc: 0.6093\n",
      "Epoch 2/50\n",
      "9048/9048 [==============================] - 0s 43us/sample - loss: 0.9315 - acc: 0.6551 - val_loss: 0.8039 - val_acc: 0.6839\n",
      "Epoch 3/50\n",
      "9048/9048 [==============================] - 0s 43us/sample - loss: 0.7464 - acc: 0.6937 - val_loss: 0.6820 - val_acc: 0.7247\n",
      "Epoch 4/50\n",
      "9048/9048 [==============================] - 0s 46us/sample - loss: 0.6801 - acc: 0.7189 - val_loss: 0.6587 - val_acc: 0.7296\n",
      "Epoch 5/50\n",
      "9048/9048 [==============================] - 0s 46us/sample - loss: 0.6330 - acc: 0.7352 - val_loss: 0.6135 - val_acc: 0.7624\n",
      "Epoch 6/50\n",
      "9048/9048 [==============================] - 0s 45us/sample - loss: 0.6028 - acc: 0.7465 - val_loss: 0.5829 - val_acc: 0.7644\n",
      "Epoch 7/50\n",
      "9048/9048 [==============================] - 0s 42us/sample - loss: 0.5714 - acc: 0.7553 - val_loss: 0.5813 - val_acc: 0.7584\n",
      "Epoch 8/50\n",
      "9048/9048 [==============================] - 0s 42us/sample - loss: 0.5554 - acc: 0.7637 - val_loss: 0.5604 - val_acc: 0.7803\n",
      "Epoch 9/50\n",
      "9048/9048 [==============================] - 0s 43us/sample - loss: 0.5394 - acc: 0.7729 - val_loss: 0.5778 - val_acc: 0.7604\n",
      "Epoch 10/50\n",
      "9048/9048 [==============================] - 0s 47us/sample - loss: 0.5131 - acc: 0.7872 - val_loss: 0.5394 - val_acc: 0.7903\n",
      "Epoch 11/50\n",
      "9048/9048 [==============================] - 0s 42us/sample - loss: 0.4911 - acc: 0.7953 - val_loss: 0.5559 - val_acc: 0.7694\n",
      "Epoch 12/50\n",
      "9048/9048 [==============================] - 0s 42us/sample - loss: 0.4779 - acc: 0.8023 - val_loss: 0.5518 - val_acc: 0.7853\n",
      "Epoch 13/50\n",
      "9048/9048 [==============================] - 0s 42us/sample - loss: 0.4722 - acc: 0.8037 - val_loss: 0.5562 - val_acc: 0.7793\n",
      "Epoch 14/50\n",
      "9048/9048 [==============================] - 0s 42us/sample - loss: 0.4540 - acc: 0.8120 - val_loss: 0.5058 - val_acc: 0.7932\n",
      "Epoch 15/50\n",
      "9048/9048 [==============================] - 0s 42us/sample - loss: 0.4390 - acc: 0.8186 - val_loss: 0.4942 - val_acc: 0.8151\n",
      "Epoch 16/50\n",
      "9048/9048 [==============================] - 0s 41us/sample - loss: 0.4261 - acc: 0.8214 - val_loss: 0.5307 - val_acc: 0.7982\n",
      "Epoch 17/50\n",
      "9048/9048 [==============================] - 0s 42us/sample - loss: 0.4202 - acc: 0.8270 - val_loss: 0.4874 - val_acc: 0.8141\n",
      "Epoch 18/50\n",
      "9048/9048 [==============================] - 0s 41us/sample - loss: 0.4084 - acc: 0.8340 - val_loss: 0.5224 - val_acc: 0.8002\n",
      "Epoch 19/50\n",
      "9048/9048 [==============================] - 0s 41us/sample - loss: 0.4000 - acc: 0.8370 - val_loss: 0.4767 - val_acc: 0.8191\n",
      "Epoch 20/50\n",
      "9048/9048 [==============================] - 0s 41us/sample - loss: 0.3919 - acc: 0.8411 - val_loss: 0.4701 - val_acc: 0.8131\n",
      "Epoch 21/50\n",
      "9048/9048 [==============================] - 0s 41us/sample - loss: 0.3842 - acc: 0.8403 - val_loss: 0.4873 - val_acc: 0.8211\n",
      "Epoch 22/50\n",
      "9048/9048 [==============================] - 0s 41us/sample - loss: 0.3816 - acc: 0.8454 - val_loss: 0.4609 - val_acc: 0.8231\n",
      "Epoch 23/50\n",
      "9048/9048 [==============================] - 0s 41us/sample - loss: 0.3587 - acc: 0.8537 - val_loss: 0.5042 - val_acc: 0.8151\n",
      "Epoch 24/50\n",
      "9048/9048 [==============================] - 0s 42us/sample - loss: 0.3565 - acc: 0.8564 - val_loss: 0.4992 - val_acc: 0.8241\n",
      "Epoch 25/50\n",
      "9048/9048 [==============================] - 0s 41us/sample - loss: 0.3563 - acc: 0.8579 - val_loss: 0.5029 - val_acc: 0.8330\n",
      "Epoch 26/50\n",
      "9048/9048 [==============================] - 0s 41us/sample - loss: 0.3432 - acc: 0.8585 - val_loss: 0.5072 - val_acc: 0.8161\n",
      "Epoch 27/50\n",
      "9048/9048 [==============================] - 0s 42us/sample - loss: 0.3325 - acc: 0.8673 - val_loss: 0.4625 - val_acc: 0.8270\n",
      "Epoch 28/50\n",
      "9048/9048 [==============================] - 0s 43us/sample - loss: 0.3260 - acc: 0.8712 - val_loss: 0.4754 - val_acc: 0.8250\n",
      "Epoch 29/50\n",
      "9048/9048 [==============================] - 0s 42us/sample - loss: 0.3251 - acc: 0.8729 - val_loss: 0.4805 - val_acc: 0.8330\n",
      "Epoch 30/50\n",
      "9048/9048 [==============================] - 0s 42us/sample - loss: 0.3102 - acc: 0.8737 - val_loss: 0.5292 - val_acc: 0.8211\n",
      "Epoch 31/50\n",
      "9048/9048 [==============================] - 0s 42us/sample - loss: 0.3072 - acc: 0.8770 - val_loss: 0.4959 - val_acc: 0.8270\n",
      "Epoch 32/50\n",
      "9048/9048 [==============================] - 0s 50us/sample - loss: 0.2950 - acc: 0.8821 - val_loss: 0.4750 - val_acc: 0.8330\n",
      "Epoch 33/50\n",
      "9048/9048 [==============================] - 0s 48us/sample - loss: 0.2912 - acc: 0.8873 - val_loss: 0.4981 - val_acc: 0.8260\n",
      "Epoch 34/50\n",
      "9048/9048 [==============================] - 0s 43us/sample - loss: 0.2780 - acc: 0.8912 - val_loss: 0.5310 - val_acc: 0.8211\n",
      "Epoch 35/50\n",
      "9048/9048 [==============================] - 0s 48us/sample - loss: 0.2753 - acc: 0.8910 - val_loss: 0.5274 - val_acc: 0.8280\n",
      "Epoch 36/50\n",
      "9048/9048 [==============================] - 0s 45us/sample - loss: 0.2695 - acc: 0.8959 - val_loss: 0.4983 - val_acc: 0.8350\n",
      "Epoch 37/50\n",
      "9048/9048 [==============================] - 0s 44us/sample - loss: 0.2729 - acc: 0.8932 - val_loss: 0.5377 - val_acc: 0.8151\n",
      "Epoch 38/50\n",
      "9048/9048 [==============================] - ETA: 0s - loss: 0.2709 - acc: 0.890 - 0s 44us/sample - loss: 0.2702 - acc: 0.8910 - val_loss: 0.4959 - val_acc: 0.8439\n",
      "Epoch 39/50\n",
      "9048/9048 [==============================] - 0s 42us/sample - loss: 0.2554 - acc: 0.8985 - val_loss: 0.5146 - val_acc: 0.8449\n",
      "Epoch 40/50\n",
      "9048/9048 [==============================] - 0s 42us/sample - loss: 0.2422 - acc: 0.9042 - val_loss: 0.4861 - val_acc: 0.8370\n",
      "Epoch 41/50\n",
      "9048/9048 [==============================] - 0s 42us/sample - loss: 0.2444 - acc: 0.9014 - val_loss: 0.5295 - val_acc: 0.8579\n",
      "Epoch 42/50\n",
      "9048/9048 [==============================] - 0s 44us/sample - loss: 0.2351 - acc: 0.9073 - val_loss: 0.5050 - val_acc: 0.8419\n",
      "Epoch 43/50\n",
      "9048/9048 [==============================] - 0s 45us/sample - loss: 0.2340 - acc: 0.9059 - val_loss: 0.5495 - val_acc: 0.8390\n",
      "Epoch 44/50\n",
      "9048/9048 [==============================] - 0s 42us/sample - loss: 0.2315 - acc: 0.9090 - val_loss: 0.5101 - val_acc: 0.8410\n",
      "Epoch 45/50\n",
      "9048/9048 [==============================] - 0s 42us/sample - loss: 0.2271 - acc: 0.9118 - val_loss: 0.5321 - val_acc: 0.8429\n",
      "Epoch 46/50\n",
      "9048/9048 [==============================] - 0s 41us/sample - loss: 0.2136 - acc: 0.9170 - val_loss: 0.4976 - val_acc: 0.8429\n",
      "Epoch 47/50\n",
      "9048/9048 [==============================] - 0s 44us/sample - loss: 0.2196 - acc: 0.9120 - val_loss: 0.5133 - val_acc: 0.8380\n",
      "Epoch 48/50\n",
      "9048/9048 [==============================] - 0s 42us/sample - loss: 0.1977 - acc: 0.9224 - val_loss: 0.5801 - val_acc: 0.8310\n",
      "Epoch 49/50\n",
      "9048/9048 [==============================] - 0s 42us/sample - loss: 0.2008 - acc: 0.9233 - val_loss: 0.5543 - val_acc: 0.8519\n",
      "Epoch 50/50\n",
      "9048/9048 [==============================] - 0s 43us/sample - loss: 0.2057 - acc: 0.9171 - val_loss: 0.5451 - val_acc: 0.8459\n"
     ]
    }
   ],
   "source": [
    "# 編譯模型\n",
    "optim = Adam(lr=0.001)\n",
    "model.compile(loss='categorical_crossentropy',\n",
    "              optimizer=optim,\n",
    "              metrics=['acc'])\n",
    "\n",
    "batch_size=64\n",
    "epochs = 50\n",
    "\n",
    "# 訓練模型\n",
    "history = model.fit(X_train, y_train,\n",
    "                    batch_size=batch_size,\n",
    "                    epochs=epochs,\n",
    "                    verbose=1,\n",
    "                    shuffle=True,\n",
    "                    validation_split=0.1)\n"
   ]
  },
  {
   "cell_type": "markdown",
   "metadata": {},
   "source": [
    "## 6) 觀察訓練結果"
   ]
  },
  {
   "cell_type": "code",
   "execution_count": 16,
   "metadata": {},
   "outputs": [
    {
     "data": {
      "text/plain": [
       "dict_keys(['loss', 'acc', 'val_loss', 'val_acc'])"
      ]
     },
     "execution_count": 16,
     "metadata": {},
     "output_type": "execute_result"
    }
   ],
   "source": [
    "history_dict = history.history\n",
    "history_dict.keys()"
   ]
  },
  {
   "cell_type": "code",
   "execution_count": 17,
   "metadata": {},
   "outputs": [],
   "source": [
    "import matplotlib.pyplot as plt\n",
    "\n",
    "acc = history_dict['acc']\n",
    "val_acc = history_dict['val_acc']\n",
    "loss = history_dict['loss']\n",
    "val_loss = history_dict['val_loss']\n",
    "epochs_ = range(1,len(acc)+1)"
   ]
  },
  {
   "cell_type": "code",
   "execution_count": 18,
   "metadata": {},
   "outputs": [
    {
     "data": {
      "image/png": "[encoded data removed]",
      "text/plain": [
       "<Figure size 432x288 with 1 Axes>"
      ]
     },
     "metadata": {
      "needs_background": "light"
     },
     "output_type": "display_data"
    }
   ],
   "source": [
    "plt.plot(epochs_ , loss , label = 'training loss')\n",
    "plt.plot(epochs_ , val_loss , label = 'val los')\n",
    "plt.title('training and val loss')\n",
    "plt.xlabel('epochs')\n",
    "plt.ylabel('loss')\n",
    "plt.legend()\n",
    "plt.show()"
   ]
  },
  {
   "cell_type": "code",
   "execution_count": 19,
   "metadata": {},
   "outputs": [
    {
     "data": {
      "image/png": "[encoded data removed]",
      "text/plain": [
       "<Figure size 432x288 with 1 Axes>"
      ]
     },
     "metadata": {
      "needs_background": "light"
     },
     "output_type": "display_data"
    }
   ],
   "source": [
    "plt.clf()\n",
    "plt.plot(epochs_ , acc , label='train accuracy')\n",
    "plt.plot(epochs_ , val_acc , label = 'val accuracy')\n",
    "plt.title('train and val acc')\n",
    "plt.xlabel('epochs')\n",
    "plt.ylabel('acc')\n",
    "plt.legend()\n",
    "plt.show()"
   ]
  },
  {
   "cell_type": "markdown",
   "metadata": {},
   "source": [
    "## 測試集預測"
   ]
  },
  {
   "cell_type": "code",
   "execution_count": 20,
   "metadata": {},
   "outputs": [
    {
     "data": {
      "text/plain": [
       "0.8192575406032483"
      ]
     },
     "execution_count": 20,
     "metadata": {},
     "output_type": "execute_result"
    }
   ],
   "source": [
    "from sklearn.metrics import accuracy_score\n",
    "label=np.argmax(y_test,axis=1)\n",
    "pred =  np.argmax(model.predict(X_test), axis=1)\n",
    "accuracy_score(label, pred)"
   ]
  },
  {
   "cell_type": "markdown",
   "metadata": {},
   "source": [
    "## 預測 test.csv"
   ]
  },
  {
   "cell_type": "code",
   "execution_count": 23,
   "metadata": {},
   "outputs": [],
   "source": [
    "df_test = pd.read_csv('./data/test.csv')\n",
    "df_test = df_test.drop(labels=['Id'],axis=1)\n",
    "test =data_preprocessing(df_test)\n",
    "\n",
    "pred =  np.argmax(model.predict(test), axis=1)\n",
    "predict_class = pred+1"
   ]
  },
  {
   "cell_type": "code",
   "execution_count": 26,
   "metadata": {},
   "outputs": [],
   "source": [
    "submission=pd.read_csv('./data/sampleSubmission.csv')\n",
    "df_test = pd.read_csv('./data/test.csv')\n",
    "ans=pd.DataFrame(np.empty([len(df_test),2]), columns=['Id','class'], dtype='int32')"
   ]
  },
  {
   "cell_type": "code",
   "execution_count": 27,
   "metadata": {},
   "outputs": [],
   "source": [
    "ans['Id']=df_test['Id']\n",
    "ans['class']=predict_class\n",
    "ans.to_csv('./submission.csv',header=['Id','class'],index=False)"
   ]
  }
 ],
 "metadata": {
  "kernelspec": {
   "display_name": "Python 3",
   "language": "python",
   "name": "python3"
  },
  "language_info": {
   "codemirror_mode": {
    "name": "ipython",
    "version": 3
   },
   "file_extension": ".py",
   "mimetype": "text/x-python",
   "name": "python",
   "nbconvert_exporter": "python",
   "pygments_lexer": "ipython3",
   "version": "3.7.3"
  }
 },
 "nbformat": 4,
 "nbformat_minor": 4
}
