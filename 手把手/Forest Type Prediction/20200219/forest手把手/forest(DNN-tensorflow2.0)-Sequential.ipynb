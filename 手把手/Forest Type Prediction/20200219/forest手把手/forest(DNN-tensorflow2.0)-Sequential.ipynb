{
 "cells": [
  {
   "cell_type": "code",
   "execution_count": 25,
   "metadata": {},
   "outputs": [],
   "source": [
    "import warnings\n",
    "warnings.filterwarnings(\"ignore\")"
   ]
  },
  {
   "cell_type": "code",
   "execution_count": 26,
   "metadata": {},
   "outputs": [],
   "source": [
    "import pandas as pd\n",
    "import numpy as np\n",
    "import matplotlib.pyplot as plt"
   ]
  },
  {
   "cell_type": "markdown",
   "metadata": {},
   "source": [
    "## 1) 載入資料集"
   ]
  },
  {
   "cell_type": "code",
   "execution_count": 27,
   "metadata": {},
   "outputs": [],
   "source": [
    "df_train = pd.read_csv('./data/train.csv')\n",
    "df_train = df_train.drop(labels=['Id'],axis=1) # 移除Id"
   ]
  },
  {
   "cell_type": "markdown",
   "metadata": {},
   "source": [
    "## 2) 檢查缺失值\n",
    "使用 numpy 所提供的函式來檢查是否有 NA 缺失值，假設有缺失值使用dropna()來移除。使用的時機在於當只有少量的缺失值適用，若遇到有大量缺失值的情況，或是本身的資料量就很少的情況下建議可以透過機器學習的方法補值來預測缺失值。\n",
    "\n",
    "```python\n",
    "# 移除缺失值\n",
    "train=train.dropna()\n",
    "```"
   ]
  },
  {
   "cell_type": "code",
   "execution_count": 28,
   "metadata": {},
   "outputs": [
    {
     "name": "stdout",
     "output_type": "stream",
     "text": [
      "Before data clean(NAN mount): 0\n"
     ]
    }
   ],
   "source": [
    "# checked missing data\n",
    "print(\"Before data clean(NAN mount):\",len(np.where(np.isnan(df_train))[0]))"
   ]
  },
  {
   "cell_type": "markdown",
   "metadata": {},
   "source": [
    "## 3) 資料前處理\n",
    "\n",
    "#### **特徵標準化**\n",
    "通常有兩種標準化的方法：\n",
    "- min max normalization：\n",
    "    - 會將特徵數據按比例縮放到0到1的區間，（或是-1到1）。\n",
    "- standard deviation normalization：\n",
    "    - 會將所有特徵數據縮放成平均為0、平方差為1。\n",
    "    \n",
    "#### **特徵組合**\n",
    "特徵需要適當地增加和減少，以提升精確度並減少計算時間。\n",
    "- 增加特徵：特徵組合 (Feature Combination)、群聚編碼 (GroupBy Encoding)、產生合成樣本(Oversampling)\n",
    "- 減少特徵：特徵篩選(Feature Selection)、剔除一些樣本(Undersampling)"
   ]
  },
  {
   "cell_type": "code",
   "execution_count": 29,
   "metadata": {},
   "outputs": [],
   "source": [
    "from sklearn.preprocessing import StandardScaler\n",
    "from sklearn.preprocessing import MinMaxScaler\n",
    "\n",
    "def data_preprocessing(df_input):\n",
    "    # numeric feature standardization\n",
    "    sc = StandardScaler()    \n",
    "#     sc = MinMaxScaler()\n",
    "    df=sc.fit_transform(df_input.iloc[:,0:54])\n",
    "    return df"
   ]
  },
  {
   "cell_type": "code",
   "execution_count": 30,
   "metadata": {},
   "outputs": [],
   "source": [
    "X = data_preprocessing(df_train)"
   ]
  },
  {
   "cell_type": "code",
   "execution_count": 31,
   "metadata": {},
   "outputs": [
    {
     "data": {
      "text/plain": [
       "(14364, 54)"
      ]
     },
     "execution_count": 31,
     "metadata": {},
     "output_type": "execute_result"
    }
   ],
   "source": [
    "X.shape"
   ]
  },
  {
   "cell_type": "markdown",
   "metadata": {},
   "source": [
    "## 4) One hot encoding\n",
    "對`Cover Type`輸出欄位的資料做 one-hot encoding，使用 Keras 提供的工具函式 to_categorical 將每筆資料的輸出值 y 轉換成一個向量。"
   ]
  },
  {
   "cell_type": "code",
   "execution_count": 32,
   "metadata": {},
   "outputs": [],
   "source": [
    "y = df_train['Cover_Type'].values"
   ]
  },
  {
   "cell_type": "code",
   "execution_count": 1,
   "metadata": {},
   "outputs": [
    {
     "ename": "NameError",
     "evalue": "name 'y' is not defined",
     "output_type": "error",
     "traceback": [
      "\u001b[1;31m---------------------------------------------------------------------------\u001b[0m",
      "\u001b[1;31mNameError\u001b[0m                                 Traceback (most recent call last)",
      "\u001b[1;32m<ipython-input-1-c4b859403d49>\u001b[0m in \u001b[0;36m<module>\u001b[1;34m\u001b[0m\n\u001b[0;32m      1\u001b[0m \u001b[1;32mfrom\u001b[0m \u001b[0mtensorflow\u001b[0m\u001b[1;33m.\u001b[0m\u001b[0mkeras\u001b[0m\u001b[1;33m.\u001b[0m\u001b[0mutils\u001b[0m \u001b[1;32mimport\u001b[0m \u001b[0mto_categorical\u001b[0m\u001b[1;33m\u001b[0m\u001b[1;33m\u001b[0m\u001b[0m\n\u001b[1;32m----> 2\u001b[1;33m \u001b[0my\u001b[0m \u001b[1;33m=\u001b[0m \u001b[0mto_categorical\u001b[0m\u001b[1;33m(\u001b[0m\u001b[0my\u001b[0m\u001b[1;33m-\u001b[0m\u001b[1;36m1\u001b[0m\u001b[1;33m)\u001b[0m\u001b[1;33m\u001b[0m\u001b[1;33m\u001b[0m\u001b[0m\n\u001b[0m",
      "\u001b[1;31mNameError\u001b[0m: name 'y' is not defined"
     ]
    }
   ],
   "source": [
    "from tensorflow.keras.utils import to_categorical\n",
    "y = to_categorical(y-1)"
   ]
  },
  {
   "cell_type": "markdown",
   "metadata": {},
   "source": [
    "## 4) 切割訓練集與測試集"
   ]
  },
  {
   "cell_type": "code",
   "execution_count": 34,
   "metadata": {},
   "outputs": [],
   "source": [
    "from sklearn.model_selection import train_test_split\n",
    "X_train , X_test , y_train , y_test = train_test_split(X,y , test_size=.3 , random_state=42)"
   ]
  },
  {
   "cell_type": "code",
   "execution_count": 35,
   "metadata": {},
   "outputs": [
    {
     "name": "stdout",
     "output_type": "stream",
     "text": [
      "訓練資料:  (10054, 54)\n",
      "測試資料:  (4310, 54)\n"
     ]
    }
   ],
   "source": [
    "print('訓練資料: ',X_train.shape)\n",
    "print('測試資料: ',X_test.shape)"
   ]
  },
  {
   "cell_type": "markdown",
   "metadata": {},
   "source": [
    "## 5) 建立網路模型"
   ]
  },
  {
   "cell_type": "code",
   "execution_count": 36,
   "metadata": {},
   "outputs": [
    {
     "name": "stdout",
     "output_type": "stream",
     "text": [
      "1.14.0\n"
     ]
    }
   ],
   "source": [
    "import tensorflow as tf\n",
    "from tensorflow import keras\n",
    "from tensorflow.keras.layers import Dense, Activation\n",
    "from tensorflow.keras import Sequential\n",
    "from tensorflow.keras.models import Model\n",
    "from tensorflow.keras.optimizers import Adam\n",
    "\n",
    "print(tf.__version__)"
   ]
  },
  {
   "cell_type": "code",
   "execution_count": 37,
   "metadata": {},
   "outputs": [],
   "source": [
    "# 此範例使用 Tensorflow2.0 Sequential API 搭建神經網路。\n",
    "def build_model():\n",
    "    model = Sequential()\n",
    "    model.add(Dense(256, Activation('relu'), input_dim=X.shape[-1]))\n",
    "    model.add(Dense(128, Activation('relu')))\n",
    "    model.add(Dense(64, Activation('relu')))\n",
    "    model.add(Dense(32, Activation('relu')))\n",
    "    model.add(Dense(16, Activation('relu')))\n",
    "    model.add(Dense(8, Activation('relu')))\n",
    "    model.add(Dense(7, Activation('softmax')))\n",
    "    return model"
   ]
  },
  {
   "cell_type": "code",
   "execution_count": 38,
   "metadata": {},
   "outputs": [
    {
     "name": "stdout",
     "output_type": "stream",
     "text": [
      "Model: \"sequential_1\"\n",
      "_________________________________________________________________\n",
      "Layer (type)                 Output Shape              Param #   \n",
      "=================================================================\n",
      "dense_7 (Dense)              (None, 256)               14080     \n",
      "_________________________________________________________________\n",
      "dense_8 (Dense)              (None, 128)               32896     \n",
      "_________________________________________________________________\n",
      "dense_9 (Dense)              (None, 64)                8256      \n",
      "_________________________________________________________________\n",
      "dense_10 (Dense)             (None, 32)                2080      \n",
      "_________________________________________________________________\n",
      "dense_11 (Dense)             (None, 16)                528       \n",
      "_________________________________________________________________\n",
      "dense_12 (Dense)             (None, 8)                 136       \n",
      "_________________________________________________________________\n",
      "dense_13 (Dense)             (None, 7)                 63        \n",
      "=================================================================\n",
      "Total params: 58,039\n",
      "Trainable params: 58,039\n",
      "Non-trainable params: 0\n",
      "_________________________________________________________________\n"
     ]
    }
   ],
   "source": [
    "model = build_model()\n",
    "model.summary()   # Weights = (54+1)*256+(256+1)*128+(128+1)*64+(64+1)*32+(32+1)*16+(16+1)*8+(8+1)*7"
   ]
  },
  {
   "cell_type": "code",
   "execution_count": 39,
   "metadata": {},
   "outputs": [
    {
     "name": "stdout",
     "output_type": "stream",
     "text": [
      "Train on 9048 samples, validate on 1006 samples\n",
      "Epoch 1/50\n",
      "9048/9048 [==============================] - 1s 82us/sample - loss: 1.3913 - acc: 0.4545 - val_loss: 1.0618 - val_acc: 0.5586\n",
      "Epoch 2/50\n",
      "9048/9048 [==============================] - 0s 44us/sample - loss: 0.9741 - acc: 0.5690 - val_loss: 0.8737 - val_acc: 0.6243\n",
      "Epoch 3/50\n",
      "9048/9048 [==============================] - 0s 43us/sample - loss: 0.8252 - acc: 0.6429 - val_loss: 0.7431 - val_acc: 0.6958\n",
      "Epoch 4/50\n",
      "9048/9048 [==============================] - 0s 44us/sample - loss: 0.7134 - acc: 0.6992 - val_loss: 0.6587 - val_acc: 0.7266\n",
      "Epoch 5/50\n",
      "9048/9048 [==============================] - 0s 47us/sample - loss: 0.6621 - acc: 0.7215 - val_loss: 0.6575 - val_acc: 0.7406\n",
      "Epoch 6/50\n",
      "9048/9048 [==============================] - 0s 44us/sample - loss: 0.6230 - acc: 0.7409 - val_loss: 0.6029 - val_acc: 0.7584\n",
      "Epoch 7/50\n",
      "9048/9048 [==============================] - 0s 45us/sample - loss: 0.5856 - acc: 0.7539 - val_loss: 0.5977 - val_acc: 0.7455\n",
      "Epoch 8/50\n",
      "9048/9048 [==============================] - 0s 44us/sample - loss: 0.5617 - acc: 0.7624 - val_loss: 0.6326 - val_acc: 0.7435\n",
      "Epoch 9/50\n",
      "9048/9048 [==============================] - 0s 44us/sample - loss: 0.5408 - acc: 0.7672 - val_loss: 0.5593 - val_acc: 0.7634\n",
      "Epoch 10/50\n",
      "9048/9048 [==============================] - 0s 42us/sample - loss: 0.5308 - acc: 0.7734 - val_loss: 0.5530 - val_acc: 0.7684\n",
      "Epoch 11/50\n",
      "9048/9048 [==============================] - 0s 45us/sample - loss: 0.5096 - acc: 0.7806 - val_loss: 0.5517 - val_acc: 0.7714\n",
      "Epoch 12/50\n",
      "9048/9048 [==============================] - 0s 45us/sample - loss: 0.5048 - acc: 0.7863 - val_loss: 0.5603 - val_acc: 0.7843\n",
      "Epoch 13/50\n",
      "9048/9048 [==============================] - 0s 42us/sample - loss: 0.4817 - acc: 0.7959 - val_loss: 0.5401 - val_acc: 0.7714\n",
      "Epoch 14/50\n",
      "9048/9048 [==============================] - 0s 42us/sample - loss: 0.4669 - acc: 0.8014 - val_loss: 0.5624 - val_acc: 0.7763\n",
      "Epoch 15/50\n",
      "9048/9048 [==============================] - 0s 43us/sample - loss: 0.4599 - acc: 0.8058 - val_loss: 0.5196 - val_acc: 0.7952\n",
      "Epoch 16/50\n",
      "9048/9048 [==============================] - 0s 43us/sample - loss: 0.4483 - acc: 0.8152 - val_loss: 0.5471 - val_acc: 0.7714\n",
      "Epoch 17/50\n",
      "9048/9048 [==============================] - 0s 43us/sample - loss: 0.4309 - acc: 0.8204 - val_loss: 0.5429 - val_acc: 0.7903\n",
      "Epoch 18/50\n",
      "9048/9048 [==============================] - 0s 43us/sample - loss: 0.4218 - acc: 0.8227 - val_loss: 0.5506 - val_acc: 0.7883\n",
      "Epoch 19/50\n",
      "9048/9048 [==============================] - 0s 44us/sample - loss: 0.4164 - acc: 0.8238 - val_loss: 0.5625 - val_acc: 0.7773\n",
      "Epoch 20/50\n",
      "9048/9048 [==============================] - 0s 43us/sample - loss: 0.4048 - acc: 0.8297 - val_loss: 0.5453 - val_acc: 0.7903\n",
      "Epoch 21/50\n",
      "9048/9048 [==============================] - 0s 43us/sample - loss: 0.3943 - acc: 0.8343 - val_loss: 0.4918 - val_acc: 0.8151\n",
      "Epoch 22/50\n",
      "9048/9048 [==============================] - 0s 44us/sample - loss: 0.3812 - acc: 0.8380 - val_loss: 0.5062 - val_acc: 0.8032\n",
      "Epoch 23/50\n",
      "9048/9048 [==============================] - 0s 48us/sample - loss: 0.3721 - acc: 0.8431 - val_loss: 0.4981 - val_acc: 0.8062\n",
      "Epoch 24/50\n",
      "9048/9048 [==============================] - 0s 43us/sample - loss: 0.3557 - acc: 0.8533 - val_loss: 0.5449 - val_acc: 0.8002\n",
      "Epoch 25/50\n",
      "9048/9048 [==============================] - 0s 47us/sample - loss: 0.3559 - acc: 0.8494 - val_loss: 0.5135 - val_acc: 0.7942\n",
      "Epoch 26/50\n",
      "9048/9048 [==============================] - 0s 45us/sample - loss: 0.3384 - acc: 0.8561 - val_loss: 0.4967 - val_acc: 0.8151\n",
      "Epoch 27/50\n",
      "9048/9048 [==============================] - 0s 42us/sample - loss: 0.3228 - acc: 0.8668 - val_loss: 0.5276 - val_acc: 0.8012\n",
      "Epoch 28/50\n",
      "9048/9048 [==============================] - 0s 42us/sample - loss: 0.3336 - acc: 0.8597 - val_loss: 0.5168 - val_acc: 0.7982\n",
      "Epoch 29/50\n",
      "9048/9048 [==============================] - 0s 43us/sample - loss: 0.3137 - acc: 0.8673 - val_loss: 0.5137 - val_acc: 0.8131\n",
      "Epoch 30/50\n",
      "9048/9048 [==============================] - 0s 42us/sample - loss: 0.3086 - acc: 0.8680 - val_loss: 0.5024 - val_acc: 0.8082\n",
      "Epoch 31/50\n",
      "9048/9048 [==============================] - 0s 42us/sample - loss: 0.3060 - acc: 0.8757 - val_loss: 0.5409 - val_acc: 0.8111\n",
      "Epoch 32/50\n",
      "9048/9048 [==============================] - 0s 43us/sample - loss: 0.2896 - acc: 0.8775 - val_loss: 0.5516 - val_acc: 0.8022\n",
      "Epoch 33/50\n",
      "9048/9048 [==============================] - 0s 42us/sample - loss: 0.2895 - acc: 0.8786 - val_loss: 0.5101 - val_acc: 0.8241\n",
      "Epoch 34/50\n",
      "9048/9048 [==============================] - 0s 43us/sample - loss: 0.2783 - acc: 0.8858 - val_loss: 0.5410 - val_acc: 0.8082\n",
      "Epoch 35/50\n",
      "9048/9048 [==============================] - 0s 43us/sample - loss: 0.2621 - acc: 0.8921 - val_loss: 0.5296 - val_acc: 0.8221\n",
      "Epoch 36/50\n",
      "9048/9048 [==============================] - ETA: 0s - loss: 0.2633 - acc: 0.889 - 0s 43us/sample - loss: 0.2630 - acc: 0.8900 - val_loss: 0.5036 - val_acc: 0.8211\n",
      "Epoch 37/50\n",
      "9048/9048 [==============================] - 0s 42us/sample - loss: 0.2516 - acc: 0.8959 - val_loss: 0.5708 - val_acc: 0.8111\n",
      "Epoch 38/50\n",
      "9048/9048 [==============================] - 0s 43us/sample - loss: 0.2463 - acc: 0.8985 - val_loss: 0.5200 - val_acc: 0.8300\n",
      "Epoch 39/50\n",
      "9048/9048 [==============================] - 0s 45us/sample - loss: 0.2351 - acc: 0.9053 - val_loss: 0.5340 - val_acc: 0.8350\n",
      "Epoch 40/50\n",
      "9048/9048 [==============================] - 0s 43us/sample - loss: 0.2384 - acc: 0.9034 - val_loss: 0.5446 - val_acc: 0.8300\n",
      "Epoch 41/50\n",
      "9048/9048 [==============================] - 0s 42us/sample - loss: 0.2200 - acc: 0.9072 - val_loss: 0.5312 - val_acc: 0.8380\n",
      "Epoch 42/50\n",
      "9048/9048 [==============================] - 0s 45us/sample - loss: 0.2138 - acc: 0.9126 - val_loss: 0.5792 - val_acc: 0.8300\n",
      "Epoch 43/50\n",
      "9048/9048 [==============================] - 0s 43us/sample - loss: 0.2141 - acc: 0.9106 - val_loss: 0.5713 - val_acc: 0.8270\n",
      "Epoch 44/50\n",
      "9048/9048 [==============================] - 0s 42us/sample - loss: 0.2316 - acc: 0.9058 - val_loss: 0.5700 - val_acc: 0.8310\n",
      "Epoch 45/50\n",
      "9048/9048 [==============================] - 0s 43us/sample - loss: 0.2046 - acc: 0.9147 - val_loss: 0.5240 - val_acc: 0.8400\n",
      "Epoch 46/50\n",
      "9048/9048 [==============================] - 0s 42us/sample - loss: 0.1969 - acc: 0.9227 - val_loss: 0.5793 - val_acc: 0.8370\n",
      "Epoch 47/50\n",
      "9048/9048 [==============================] - 0s 45us/sample - loss: 0.2022 - acc: 0.9194 - val_loss: 0.5738 - val_acc: 0.8290\n",
      "Epoch 48/50\n",
      "9048/9048 [==============================] - 0s 47us/sample - loss: 0.1924 - acc: 0.9225 - val_loss: 0.6074 - val_acc: 0.8270\n",
      "Epoch 49/50\n",
      "9048/9048 [==============================] - 0s 44us/sample - loss: 0.1890 - acc: 0.9237 - val_loss: 0.5957 - val_acc: 0.8280\n",
      "Epoch 50/50\n",
      "9048/9048 [==============================] - 0s 43us/sample - loss: 0.1804 - acc: 0.9253 - val_loss: 0.5649 - val_acc: 0.8350\n"
     ]
    }
   ],
   "source": [
    "# 編譯模型\n",
    "optim = Adam(lr=0.001)\n",
    "model.compile(loss='categorical_crossentropy',\n",
    "              optimizer=optim,\n",
    "              metrics=['acc'])\n",
    "\n",
    "batch_size=64\n",
    "epochs = 50\n",
    "\n",
    "# 訓練模型\n",
    "history = model.fit(X_train, y_train,\n",
    "                    batch_size=batch_size,\n",
    "                    epochs=epochs,\n",
    "                    verbose=1,\n",
    "                    shuffle=True,\n",
    "                    validation_split=0.1)\n"
   ]
  },
  {
   "cell_type": "markdown",
   "metadata": {},
   "source": [
    "## 6) 觀察訓練結果"
   ]
  },
  {
   "cell_type": "code",
   "execution_count": 40,
   "metadata": {},
   "outputs": [
    {
     "data": {
      "text/plain": [
       "dict_keys(['loss', 'acc', 'val_loss', 'val_acc'])"
      ]
     },
     "execution_count": 40,
     "metadata": {},
     "output_type": "execute_result"
    }
   ],
   "source": [
    "history_dict = history.history\n",
    "history_dict.keys()"
   ]
  },
  {
   "cell_type": "code",
   "execution_count": 41,
   "metadata": {},
   "outputs": [],
   "source": [
    "import matplotlib.pyplot as plt\n",
    "\n",
    "acc = history_dict['acc']\n",
    "val_acc = history_dict['val_acc']\n",
    "loss = history_dict['loss']\n",
    "val_loss = history_dict['val_loss']\n",
    "epochs_ = range(1,len(acc)+1)"
   ]
  },
  {
   "cell_type": "code",
   "execution_count": 42,
   "metadata": {},
   "outputs": [
    {
     "data": {
      "image/png": "[encoded data removed]",
      "text/plain": [
       "<Figure size 432x288 with 1 Axes>"
      ]
     },
     "metadata": {
      "needs_background": "light"
     },
     "output_type": "display_data"
    }
   ],
   "source": [
    "plt.plot(epochs_ , loss , label = 'training loss')\n",
    "plt.plot(epochs_ , val_loss , label = 'val los')\n",
    "plt.title('training and val loss')\n",
    "plt.xlabel('epochs')\n",
    "plt.ylabel('loss')\n",
    "plt.legend()\n",
    "plt.show()"
   ]
  },
  {
   "cell_type": "code",
   "execution_count": 43,
   "metadata": {},
   "outputs": [
    {
     "data": {
      "image/png": "[encoded data removed]",
      "text/plain": [
       "<Figure size 432x288 with 1 Axes>"
      ]
     },
     "metadata": {
      "needs_background": "light"
     },
     "output_type": "display_data"
    }
   ],
   "source": [
    "plt.clf()\n",
    "plt.plot(epochs_ , acc , label='train accuracy')\n",
    "plt.plot(epochs_ , val_acc , label = 'val accuracy')\n",
    "plt.title('train and val acc')\n",
    "plt.xlabel('epochs')\n",
    "plt.ylabel('acc')\n",
    "plt.legend()\n",
    "plt.show()"
   ]
  },
  {
   "cell_type": "markdown",
   "metadata": {},
   "source": [
    "## 測試集預測"
   ]
  },
  {
   "cell_type": "code",
   "execution_count": 44,
   "metadata": {},
   "outputs": [
    {
     "data": {
      "text/plain": [
       "0.814385150812065"
      ]
     },
     "execution_count": 44,
     "metadata": {},
     "output_type": "execute_result"
    }
   ],
   "source": [
    "from sklearn.metrics import accuracy_score\n",
    "label=np.argmax(y_test,axis=1)\n",
    "pred =  np.argmax(model.predict(X_test), axis=1)\n",
    "accuracy_score(label, pred)"
   ]
  },
  {
   "cell_type": "markdown",
   "metadata": {},
   "source": [
    "## 預測 test.csv"
   ]
  },
  {
   "cell_type": "code",
   "execution_count": 45,
   "metadata": {},
   "outputs": [],
   "source": [
    "df_test = pd.read_csv('./data/test.csv')\n",
    "df_test = df_test.drop(labels=['Id'],axis=1)\n",
    "test =data_preprocessing(df_test)\n",
    "\n",
    "pred =  np.argmax(model.predict(test), axis=1)\n",
    "predict_class = pred+1"
   ]
  },
  {
   "cell_type": "code",
   "execution_count": 46,
   "metadata": {},
   "outputs": [],
   "source": [
    "submission=pd.read_csv('./data/sampleSubmission.csv')\n",
    "df_test = pd.read_csv('./data/test.csv')\n",
    "ans=pd.DataFrame(np.empty([len(df_test),2]), columns=['Id','class'], dtype='int32')"
   ]
  },
  {
   "cell_type": "code",
   "execution_count": 47,
   "metadata": {},
   "outputs": [],
   "source": [
    "ans['Id']=df_test['Id']\n",
    "ans['class']=predict_class\n",
    "ans.to_csv('./submission.csv',header=['Id','class'],index=False)"
   ]
  }
 ],
 "metadata": {
  "kernelspec": {
   "display_name": "Python 3",
   "language": "python",
   "name": "python3"
  },
  "language_info": {
   "codemirror_mode": {
    "name": "ipython",
    "version": 3
   },
   "file_extension": ".py",
   "mimetype": "text/x-python",
   "name": "python",
   "nbconvert_exporter": "python",
   "pygments_lexer": "ipython3",
   "version": "3.7.3"
  }
 },
 "nbformat": 4,
 "nbformat_minor": 4
}
