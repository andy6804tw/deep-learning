{
 "cells": [
  {
   "cell_type": "code",
   "execution_count": 1,
   "metadata": {},
   "outputs": [],
   "source": [
    "import warnings\n",
    "warnings.filterwarnings(\"ignore\")"
   ]
  },
  {
   "cell_type": "code",
   "execution_count": 2,
   "metadata": {},
   "outputs": [],
   "source": [
    "import pandas as pd\n",
    "import numpy as np\n",
    "import matplotlib.pyplot as plt"
   ]
  },
  {
   "cell_type": "markdown",
   "metadata": {},
   "source": [
    "## 1) 載入資料集"
   ]
  },
  {
   "cell_type": "code",
   "execution_count": 3,
   "metadata": {},
   "outputs": [],
   "source": [
    "df_train = pd.read_csv('./data/train.csv')\n",
    "df_train = df_train.drop(labels=['Id'],axis=1) # 移除Id"
   ]
  },
  {
   "cell_type": "markdown",
   "metadata": {},
   "source": [
    "## 2) 檢查缺失值\n",
    "使用 numpy 所提供的函式來檢查是否有 NA 缺失值，假設有缺失值使用dropna()來移除。使用的時機在於當只有少量的缺失值適用，若遇到有大量缺失值的情況，或是本身的資料量就很少的情況下建議可以透過機器學習的方法補值來預測缺失值。\n",
    "\n",
    "```python\n",
    "# 移除缺失值\n",
    "train=train.dropna()\n",
    "```"
   ]
  },
  {
   "cell_type": "code",
   "execution_count": 4,
   "metadata": {},
   "outputs": [
    {
     "name": "stdout",
     "output_type": "stream",
     "text": [
      "Before data clean(NAN mount): 0\n"
     ]
    }
   ],
   "source": [
    "# checked missing data\n",
    "print(\"Before data clean(NAN mount):\",len(np.where(np.isnan(df_train))[0]))"
   ]
  },
  {
   "cell_type": "markdown",
   "metadata": {},
   "source": [
    "## 3) 資料前處理\n",
    "\n",
    "#### **特徵標準化**\n",
    "通常有兩種標準化的方法：\n",
    "- min max normalization：\n",
    "    - 會將特徵數據按比例縮放到0到1的區間，（或是-1到1）。\n",
    "- standard deviation normalization：\n",
    "    - 會將所有特徵數據縮放成平均為0、平方差為1。\n",
    "    \n",
    "#### **特徵組合**\n",
    "特徵需要適當地增加和減少，以提升精確度並減少計算時間。\n",
    "- 增加特徵：特徵組合 (Feature Combination)、群聚編碼 (GroupBy Encoding)、產生合成樣本(Oversampling)\n",
    "- 減少特徵：特徵篩選(Feature Selection)、剔除一些樣本(Undersampling)"
   ]
  },
  {
   "cell_type": "code",
   "execution_count": 5,
   "metadata": {},
   "outputs": [],
   "source": [
    "from sklearn.preprocessing import StandardScaler\n",
    "from sklearn.preprocessing import MinMaxScaler\n",
    "\n",
    "def data_preprocessing(df_input):\n",
    "    # numeric feature standardization\n",
    "    sc = StandardScaler()    \n",
    "#     sc = MinMaxScaler()\n",
    "    df=sc.fit_transform(df_input.iloc[:,0:54])\n",
    "    return df"
   ]
  },
  {
   "cell_type": "code",
   "execution_count": 6,
   "metadata": {},
   "outputs": [],
   "source": [
    "X = data_preprocessing(df_train)"
   ]
  },
  {
   "cell_type": "code",
   "execution_count": 7,
   "metadata": {},
   "outputs": [
    {
     "data": {
      "text/plain": [
       "(14364, 54)"
      ]
     },
     "execution_count": 7,
     "metadata": {},
     "output_type": "execute_result"
    }
   ],
   "source": [
    "X.shape"
   ]
  },
  {
   "cell_type": "markdown",
   "metadata": {},
   "source": [
    "## 3) One hot encoding\n",
    "對`Cover Type`輸出欄位的資料做 one-hot encoding，使用 Keras 提供的工具函式 to_categorical 將每筆資料的輸出值 y 轉換成一個向量。"
   ]
  },
  {
   "cell_type": "code",
   "execution_count": 8,
   "metadata": {},
   "outputs": [],
   "source": [
    "y = df_train['Cover_Type'].values"
   ]
  },
  {
   "cell_type": "code",
   "execution_count": 9,
   "metadata": {},
   "outputs": [],
   "source": [
    "from tensorflow.keras.utils import to_categorical\n",
    "y = to_categorical(y-1)"
   ]
  },
  {
   "cell_type": "markdown",
   "metadata": {},
   "source": [
    "## 4) 切割訓練集與測試集"
   ]
  },
  {
   "cell_type": "code",
   "execution_count": 10,
   "metadata": {},
   "outputs": [],
   "source": [
    "from sklearn.model_selection import train_test_split\n",
    "X_train , X_test , y_train , y_test = train_test_split(X,y , test_size=.3 , random_state=42)"
   ]
  },
  {
   "cell_type": "code",
   "execution_count": 11,
   "metadata": {},
   "outputs": [
    {
     "name": "stdout",
     "output_type": "stream",
     "text": [
      "訓練資料:  (10054, 54)\n",
      "測試資料:  (4310, 54)\n"
     ]
    }
   ],
   "source": [
    "print('訓練資料: ',X_train.shape)\n",
    "print('測試資料: ',X_test.shape)"
   ]
  },
  {
   "cell_type": "markdown",
   "metadata": {},
   "source": [
    "## 5) 建立網路模型"
   ]
  },
  {
   "cell_type": "code",
   "execution_count": 12,
   "metadata": {},
   "outputs": [
    {
     "name": "stdout",
     "output_type": "stream",
     "text": [
      "1.14.0\n"
     ]
    }
   ],
   "source": [
    "import tensorflow as tf\n",
    "from tensorflow import keras\n",
    "from tensorflow.keras.layers import Dense, Activation\n",
    "from tensorflow.keras import Sequential\n",
    "from tensorflow.keras.models import Model\n",
    "from tensorflow.keras.optimizers import Adam\n",
    "\n",
    "print(tf.__version__)"
   ]
  },
  {
   "cell_type": "code",
   "execution_count": 13,
   "metadata": {},
   "outputs": [],
   "source": [
    "# 此範例使用 Tensorflow2.0 Sequential API 搭建神經網路。\n",
    "def build_model():\n",
    "    model = Sequential()\n",
    "    model.add(Dense(256, Activation('relu'), input_dim=X.shape[-1]))\n",
    "    model.add(Dense(128, Activation('relu')))\n",
    "    model.add(Dense(64, Activation('relu')))\n",
    "    model.add(Dense(32, Activation('relu')))\n",
    "    model.add(Dense(16, Activation('relu')))\n",
    "    model.add(Dense(8, Activation('relu')))\n",
    "    model.add(Dense(7, Activation('softmax')))\n",
    "    return model"
   ]
  },
  {
   "cell_type": "code",
   "execution_count": 14,
   "metadata": {},
   "outputs": [
    {
     "name": "stdout",
     "output_type": "stream",
     "text": [
      "WARNING:tensorflow:From C:\\Users\\User\\Anaconda3\\lib\\site-packages\\tensorflow\\python\\ops\\init_ops.py:1251: calling VarianceScaling.__init__ (from tensorflow.python.ops.init_ops) with dtype is deprecated and will be removed in a future version.\n",
      "Instructions for updating:\n",
      "Call initializer instance with the dtype argument instead of passing it to the constructor\n",
      "Model: \"sequential\"\n",
      "_________________________________________________________________\n",
      "Layer (type)                 Output Shape              Param #   \n",
      "=================================================================\n",
      "dense (Dense)                (None, 256)               14080     \n",
      "_________________________________________________________________\n",
      "dense_1 (Dense)              (None, 128)               32896     \n",
      "_________________________________________________________________\n",
      "dense_2 (Dense)              (None, 64)                8256      \n",
      "_________________________________________________________________\n",
      "dense_3 (Dense)              (None, 32)                2080      \n",
      "_________________________________________________________________\n",
      "dense_4 (Dense)              (None, 16)                528       \n",
      "_________________________________________________________________\n",
      "dense_5 (Dense)              (None, 8)                 136       \n",
      "_________________________________________________________________\n",
      "dense_6 (Dense)              (None, 7)                 63        \n",
      "=================================================================\n",
      "Total params: 58,039\n",
      "Trainable params: 58,039\n",
      "Non-trainable params: 0\n",
      "_________________________________________________________________\n"
     ]
    }
   ],
   "source": [
    "model = build_model()\n",
    "model.summary()   # Weights = (54+1)*256+(256+1)*128+(128+1)*64+(64+1)*32+(32+1)*16+(16+1)*8+(8+1)*7"
   ]
  },
  {
   "cell_type": "code",
   "execution_count": 15,
   "metadata": {},
   "outputs": [
    {
     "name": "stdout",
     "output_type": "stream",
     "text": [
      "Train on 9048 samples, validate on 1006 samples\n",
      "Epoch 1/50\n",
      "9048/9048 [==============================] - 1s 98us/sample - loss: 1.2736 - acc: 0.4767 - val_loss: 0.8599 - val_acc: 0.6680\n",
      "Epoch 2/50\n",
      "9048/9048 [==============================] - 0s 45us/sample - loss: 0.7736 - acc: 0.6827 - val_loss: 0.6918 - val_acc: 0.7256\n",
      "Epoch 3/50\n",
      "9048/9048 [==============================] - 0s 44us/sample - loss: 0.6919 - acc: 0.7143 - val_loss: 0.6642 - val_acc: 0.7396\n",
      "Epoch 4/50\n",
      "9048/9048 [==============================] - 0s 44us/sample - loss: 0.6350 - acc: 0.7371 - val_loss: 0.6024 - val_acc: 0.7823\n",
      "Epoch 5/50\n",
      "9048/9048 [==============================] - 0s 43us/sample - loss: 0.6003 - acc: 0.7449 - val_loss: 0.5790 - val_acc: 0.7734\n",
      "Epoch 6/50\n",
      "9048/9048 [==============================] - 0s 43us/sample - loss: 0.5745 - acc: 0.7569 - val_loss: 0.5619 - val_acc: 0.7744\n",
      "Epoch 7/50\n",
      "9048/9048 [==============================] - 0s 46us/sample - loss: 0.5552 - acc: 0.7595 - val_loss: 0.5664 - val_acc: 0.7744\n",
      "Epoch 8/50\n",
      "9048/9048 [==============================] - 0s 45us/sample - loss: 0.5214 - acc: 0.7827 - val_loss: 0.5447 - val_acc: 0.7793\n",
      "Epoch 9/50\n",
      "9048/9048 [==============================] - 0s 44us/sample - loss: 0.5128 - acc: 0.7870 - val_loss: 0.5402 - val_acc: 0.7922\n",
      "Epoch 10/50\n",
      "9048/9048 [==============================] - 0s 44us/sample - loss: 0.5020 - acc: 0.7891 - val_loss: 0.5403 - val_acc: 0.7823\n",
      "Epoch 11/50\n",
      "9048/9048 [==============================] - 0s 51us/sample - loss: 0.4761 - acc: 0.7995 - val_loss: 0.5364 - val_acc: 0.7903\n",
      "Epoch 12/50\n",
      "9048/9048 [==============================] - 0s 42us/sample - loss: 0.4645 - acc: 0.8076 - val_loss: 0.5177 - val_acc: 0.7913\n",
      "Epoch 13/50\n",
      "9048/9048 [==============================] - 0s 48us/sample - loss: 0.4495 - acc: 0.8142 - val_loss: 0.4982 - val_acc: 0.7922\n",
      "Epoch 14/50\n",
      "9048/9048 [==============================] - 0s 43us/sample - loss: 0.4353 - acc: 0.8187 - val_loss: 0.5253 - val_acc: 0.7942\n",
      "Epoch 15/50\n",
      "9048/9048 [==============================] - 0s 42us/sample - loss: 0.4272 - acc: 0.8222 - val_loss: 0.4964 - val_acc: 0.8111\n",
      "Epoch 16/50\n",
      "9048/9048 [==============================] - 0s 42us/sample - loss: 0.4100 - acc: 0.8307 - val_loss: 0.4979 - val_acc: 0.8082\n",
      "Epoch 17/50\n",
      "9048/9048 [==============================] - 0s 42us/sample - loss: 0.4081 - acc: 0.8288 - val_loss: 0.4882 - val_acc: 0.7992\n",
      "Epoch 18/50\n",
      "9048/9048 [==============================] - 0s 41us/sample - loss: 0.4052 - acc: 0.8306 - val_loss: 0.4826 - val_acc: 0.8082\n",
      "Epoch 19/50\n",
      "9048/9048 [==============================] - 0s 41us/sample - loss: 0.3873 - acc: 0.8417 - val_loss: 0.4581 - val_acc: 0.8241\n",
      "Epoch 20/50\n",
      "9048/9048 [==============================] - 0s 41us/sample - loss: 0.3681 - acc: 0.8465 - val_loss: 0.4743 - val_acc: 0.8042\n",
      "Epoch 21/50\n",
      "9048/9048 [==============================] - 0s 41us/sample - loss: 0.3652 - acc: 0.8502 - val_loss: 0.4714 - val_acc: 0.8201\n",
      "Epoch 22/50\n",
      "9048/9048 [==============================] - 0s 42us/sample - loss: 0.3544 - acc: 0.8594 - val_loss: 0.4633 - val_acc: 0.8231\n",
      "Epoch 23/50\n",
      "9048/9048 [==============================] - 0s 41us/sample - loss: 0.3426 - acc: 0.8589 - val_loss: 0.4853 - val_acc: 0.8121\n",
      "Epoch 24/50\n",
      "9048/9048 [==============================] - 0s 41us/sample - loss: 0.3397 - acc: 0.8623 - val_loss: 0.4975 - val_acc: 0.8101\n",
      "Epoch 25/50\n",
      "9048/9048 [==============================] - 0s 41us/sample - loss: 0.3246 - acc: 0.8686 - val_loss: 0.4714 - val_acc: 0.8241\n",
      "Epoch 26/50\n",
      "9048/9048 [==============================] - 0s 42us/sample - loss: 0.3250 - acc: 0.8668 - val_loss: 0.4746 - val_acc: 0.8181\n",
      "Epoch 27/50\n",
      "9048/9048 [==============================] - 0s 40us/sample - loss: 0.3077 - acc: 0.8732 - val_loss: 0.4861 - val_acc: 0.8191\n",
      "Epoch 28/50\n",
      "9048/9048 [==============================] - 0s 41us/sample - loss: 0.3037 - acc: 0.8770 - val_loss: 0.4680 - val_acc: 0.8241\n",
      "Epoch 29/50\n",
      "9048/9048 [==============================] - 0s 41us/sample - loss: 0.2974 - acc: 0.8807 - val_loss: 0.4817 - val_acc: 0.8290\n",
      "Epoch 30/50\n",
      "9048/9048 [==============================] - 0s 41us/sample - loss: 0.2926 - acc: 0.8836 - val_loss: 0.4508 - val_acc: 0.8380\n",
      "Epoch 31/50\n",
      "9048/9048 [==============================] - 0s 40us/sample - loss: 0.2811 - acc: 0.8848 - val_loss: 0.4710 - val_acc: 0.8310\n",
      "Epoch 32/50\n",
      "9048/9048 [==============================] - 0s 41us/sample - loss: 0.2749 - acc: 0.8945 - val_loss: 0.4839 - val_acc: 0.8231\n",
      "Epoch 33/50\n",
      "9048/9048 [==============================] - 0s 43us/sample - loss: 0.2773 - acc: 0.8867 - val_loss: 0.4652 - val_acc: 0.8340\n",
      "Epoch 34/50\n",
      "9048/9048 [==============================] - 0s 53us/sample - loss: 0.2556 - acc: 0.8994 - val_loss: 0.4936 - val_acc: 0.8290\n",
      "Epoch 35/50\n",
      "9048/9048 [==============================] - 0s 46us/sample - loss: 0.2645 - acc: 0.8950 - val_loss: 0.4644 - val_acc: 0.8350\n",
      "Epoch 36/50\n",
      "9048/9048 [==============================] - 0s 42us/sample - loss: 0.2428 - acc: 0.9059 - val_loss: 0.4968 - val_acc: 0.8290\n",
      "Epoch 37/50\n",
      "9048/9048 [==============================] - 0s 42us/sample - loss: 0.2419 - acc: 0.9034 - val_loss: 0.4878 - val_acc: 0.8410\n",
      "Epoch 38/50\n",
      "9048/9048 [==============================] - 0s 46us/sample - loss: 0.2305 - acc: 0.9065 - val_loss: 0.4848 - val_acc: 0.8390\n",
      "Epoch 39/50\n",
      "9048/9048 [==============================] - 1s 64us/sample - loss: 0.2167 - acc: 0.9163 - val_loss: 0.5590 - val_acc: 0.8320\n",
      "Epoch 40/50\n",
      "9048/9048 [==============================] - 0s 48us/sample - loss: 0.2259 - acc: 0.9146 - val_loss: 0.4861 - val_acc: 0.8459\n",
      "Epoch 41/50\n",
      "9048/9048 [==============================] - 0s 40us/sample - loss: 0.2053 - acc: 0.9173 - val_loss: 0.5207 - val_acc: 0.8370\n",
      "Epoch 42/50\n",
      "9048/9048 [==============================] - 0s 43us/sample - loss: 0.2197 - acc: 0.9132 - val_loss: 0.5716 - val_acc: 0.8260\n",
      "Epoch 43/50\n",
      "9048/9048 [==============================] - 0s 42us/sample - loss: 0.2134 - acc: 0.9147 - val_loss: 0.5776 - val_acc: 0.8270\n",
      "Epoch 44/50\n",
      "9048/9048 [==============================] - 0s 42us/sample - loss: 0.2026 - acc: 0.9182 - val_loss: 0.5124 - val_acc: 0.8479\n",
      "Epoch 45/50\n",
      "9048/9048 [==============================] - 0s 40us/sample - loss: 0.1860 - acc: 0.9285 - val_loss: 0.5428 - val_acc: 0.8290\n",
      "Epoch 46/50\n",
      "9048/9048 [==============================] - 0s 41us/sample - loss: 0.1895 - acc: 0.9223 - val_loss: 0.5905 - val_acc: 0.8380\n",
      "Epoch 47/50\n",
      "9048/9048 [==============================] - 0s 41us/sample - loss: 0.1925 - acc: 0.9236 - val_loss: 0.5317 - val_acc: 0.8529\n",
      "Epoch 48/50\n",
      "9048/9048 [==============================] - 0s 40us/sample - loss: 0.1863 - acc: 0.9269 - val_loss: 0.5336 - val_acc: 0.8489\n",
      "Epoch 49/50\n",
      "9048/9048 [==============================] - 0s 42us/sample - loss: 0.1797 - acc: 0.9303 - val_loss: 0.5540 - val_acc: 0.8479\n",
      "Epoch 50/50\n",
      "9048/9048 [==============================] - 0s 42us/sample - loss: 0.1866 - acc: 0.9267 - val_loss: 0.5880 - val_acc: 0.8390\n"
     ]
    }
   ],
   "source": [
    "# 編譯模型\n",
    "optim = Adam(lr=0.001)\n",
    "model.compile(loss='categorical_crossentropy',\n",
    "              optimizer=optim,\n",
    "              metrics=['acc'])\n",
    "\n",
    "batch_size=64\n",
    "epochs = 50\n",
    "\n",
    "# 訓練模型\n",
    "history = model.fit(X_train, y_train,\n",
    "                    batch_size=batch_size,\n",
    "                    epochs=epochs,\n",
    "                    verbose=1,\n",
    "                    shuffle=True,\n",
    "                    validation_split=0.1)\n"
   ]
  },
  {
   "cell_type": "markdown",
   "metadata": {},
   "source": [
    "## 6) 觀察訓練結果"
   ]
  },
  {
   "cell_type": "code",
   "execution_count": 16,
   "metadata": {},
   "outputs": [
    {
     "data": {
      "text/plain": [
       "dict_keys(['loss', 'acc', 'val_loss', 'val_acc'])"
      ]
     },
     "execution_count": 16,
     "metadata": {},
     "output_type": "execute_result"
    }
   ],
   "source": [
    "history_dict = history.history\n",
    "history_dict.keys()"
   ]
  },
  {
   "cell_type": "code",
   "execution_count": 17,
   "metadata": {},
   "outputs": [],
   "source": [
    "import matplotlib.pyplot as plt\n",
    "\n",
    "acc = history_dict['acc']\n",
    "val_acc = history_dict['val_acc']\n",
    "loss = history_dict['loss']\n",
    "val_loss = history_dict['val_loss']\n",
    "epochs_ = range(1,len(acc)+1)"
   ]
  },
  {
   "cell_type": "code",
   "execution_count": 18,
   "metadata": {},
   "outputs": [
    {
     "data": {
      "image/png": "[encoded data removed]",
      "text/plain": [
       "<Figure size 432x288 with 1 Axes>"
      ]
     },
     "metadata": {
      "needs_background": "light"
     },
     "output_type": "display_data"
    }
   ],
   "source": [
    "plt.plot(epochs_ , loss , label = 'training loss')\n",
    "plt.plot(epochs_ , val_loss , label = 'val los')\n",
    "plt.title('training and val loss')\n",
    "plt.xlabel('epochs')\n",
    "plt.ylabel('loss')\n",
    "plt.legend()\n",
    "plt.show()"
   ]
  },
  {
   "cell_type": "code",
   "execution_count": 19,
   "metadata": {},
   "outputs": [
    {
     "data": {
      "image/png": "[encoded data removed]",
      "text/plain": [
       "<Figure size 432x288 with 1 Axes>"
      ]
     },
     "metadata": {
      "needs_background": "light"
     },
     "output_type": "display_data"
    }
   ],
   "source": [
    "plt.clf()\n",
    "plt.plot(epochs_ , acc , label='train accuracy')\n",
    "plt.plot(epochs_ , val_acc , label = 'val accuracy')\n",
    "plt.title('train and val acc')\n",
    "plt.xlabel('epochs')\n",
    "plt.ylabel('acc')\n",
    "plt.legend()\n",
    "plt.show()"
   ]
  },
  {
   "cell_type": "markdown",
   "metadata": {},
   "source": [
    "## 測試集預測"
   ]
  },
  {
   "cell_type": "code",
   "execution_count": 20,
   "metadata": {},
   "outputs": [
    {
     "data": {
      "text/plain": [
       "0.8238979118329466"
      ]
     },
     "execution_count": 20,
     "metadata": {},
     "output_type": "execute_result"
    }
   ],
   "source": [
    "from sklearn.metrics import accuracy_score\n",
    "label=np.argmax(y_test,axis=1)\n",
    "pred =  np.argmax(model.predict(X_test), axis=1)\n",
    "accuracy_score(label, pred)"
   ]
  },
  {
   "cell_type": "markdown",
   "metadata": {},
   "source": [
    "## 預測 test.csv"
   ]
  },
  {
   "cell_type": "code",
   "execution_count": 21,
   "metadata": {},
   "outputs": [],
   "source": [
    "df_val = pd.read_csv('./data/test.csv')\n",
    "df_val = df_val.drop(labels=['Id'],axis=1)\n",
    "X_val =data_preprocessing(df_val)\n",
    "pred =  np.argmax(model.predict(X_val), axis=1)\n",
    "predict_class = pred+1"
   ]
  },
  {
   "cell_type": "code",
   "execution_count": 22,
   "metadata": {},
   "outputs": [],
   "source": [
    "submission=pd.read_csv('./data/sampleSubmission.csv')\n",
    "df_test = pd.read_csv('./data/test.csv')\n",
    "ans=pd.DataFrame(np.empty([len(df_test),2]), dtype='int32')"
   ]
  },
  {
   "cell_type": "code",
   "execution_count": 23,
   "metadata": {},
   "outputs": [],
   "source": [
    "for i in range(0,len(ans)):\n",
    "    index=df_test[df_test['Id'] == submission.iloc[i,0]].index[0]\n",
    "    ans.iloc[i]=[submission.iloc[i,0],predict_class[index]]"
   ]
  },
  {
   "cell_type": "code",
   "execution_count": 24,
   "metadata": {},
   "outputs": [],
   "source": [
    "ans.to_csv('./submission.csv',header=['Id','class'],index=False)"
   ]
  }
 ],
 "metadata": {
  "kernelspec": {
   "display_name": "Python 3",
   "language": "python",
   "name": "python3"
  },
  "language_info": {
   "codemirror_mode": {
    "name": "ipython",
    "version": 3
   },
   "file_extension": ".py",
   "mimetype": "text/x-python",
   "name": "python",
   "nbconvert_exporter": "python",
   "pygments_lexer": "ipython3",
   "version": "3.7.3"
  }
 },
 "nbformat": 4,
 "nbformat_minor": 4
}
