{
 "cells": [
  {
   "cell_type": "code",
   "execution_count": 16,
   "metadata": {},
   "outputs": [],
   "source": [
    "import numpy as np\n",
    "import  math"
   ]
  },
  {
   "cell_type": "code",
   "execution_count": 17,
   "metadata": {},
   "outputs": [],
   "source": [
    "def sigmoid(H):\n",
    "    return 1/(1+math.pow(math.e,-H))"
   ]
  },
  {
   "cell_type": "code",
   "execution_count": 23,
   "metadata": {},
   "outputs": [],
   "source": [
    "# Tranning data\n",
    "X=[[2,-1]]\n",
    "Y=[0.01]\n"
   ]
  },
  {
   "cell_type": "code",
   "execution_count": 26,
   "metadata": {},
   "outputs": [
    {
     "name": "stdout",
     "output_type": "stream",
     "text": [
      "error 0.200918\n",
      "input: [2, -1] -> predict: [0.64390563] target [0.01]\n",
      "--------------------------------------------------\n",
      "Input weights:\n",
      "w1: 0.13669857911694533 w2: 0.23388713183993481 w3: 0.20665071044152736 w4: 0.3080564340800326\n",
      "w5: 0.35307726256753064 w6: 0.45143979995748873\n",
      "--------------------------------------------------\n"
     ]
    }
   ],
   "source": [
    "layer1=np.zeros(2) # hidden layer\n",
    "layer2=np.zeros(1) # output\n",
    "layer1_weight=[[0.15, 0.25],[0.2, 0.3]]\n",
    "layer2_weight=[[0.4], [0.5]]\n",
    "bias=[0.5]\n",
    "learnRate=0.5\n",
    "\n",
    "for echo in range(1):\n",
    "    eTotal=0\n",
    "    for n in range(len(X)):\n",
    "        x=X[n]\n",
    "        y=[Y[n]]\n",
    "        # Forward Pass\n",
    "        ## First layer\n",
    "        for i in range(2):\n",
    "            for j in range(2):\n",
    "                layer1[i] += (x[j]*layer1_weight[j][i])\n",
    "\n",
    "        ### calc first layer active function\n",
    "        for i in range(2):\n",
    "            layer1[i]=sigmoid(layer1[i]+bias[0])\n",
    "            \n",
    "\n",
    "        ## Second layer\n",
    "        for i in range(1):\n",
    "            for j in range(2):\n",
    "                layer2[i] += (layer1[j]*layer2_weight[j][i])\n",
    "        ### calc second layer active function\n",
    "        for i in range(1):\n",
    "            layer2[i]=sigmoid(layer2[i])\n",
    "\n",
    "        ## calculating error\n",
    "        eTotal+=(0.5*math.pow(layer2[0]-y[0],2))\n",
    "\n",
    "#         print(layer1)\n",
    "#         print(layer2)\n",
    "\n",
    "        partial_layer2 = [layer2[0]*(1-layer2[0])*(y[0]-layer2[0])]\n",
    "        partial_layer1 = [layer1[0]*(1-layer1[0])*(partial_layer2[0]*layer2_weight[0][0]), layer1[1]*(1-layer1[1])*(partial_layer2[0]*layer2_weight[1][0])]\n",
    "        \n",
    "#         print('partial_layer1',partial_layer1)\n",
    "#         print('partial_layer2',partial_layer2)\n",
    "\n",
    "        # Bbackward\n",
    "        ## Second layer\n",
    "        for i in range(1):\n",
    "            for j in range(2):\n",
    "                layer2_weight[j][i]+=learnRate*partial_layer2[i]*layer1[j]\n",
    "        ## First layer\n",
    "        for i in range(2):\n",
    "            for j in range(2):\n",
    "                layer1_weight[j][i]+=learnRate*partial_layer1[i]*x[j]\n",
    "#         print('layer1_weight',layer1_weight)      \n",
    "#         print('layer2_weight',layer2_weight)\n",
    "    if(echo%100==0):\n",
    "        print('error %-.6f' % eTotal)\n",
    "\n",
    "\n",
    "print('input:',X[0],'-> predict:',layer2,'target',y)\n",
    "print('--------------------------------------------------')\n",
    "print('Input weights:')\n",
    "print('w1:',layer1_weight[0][0],'w2:',layer1_weight[0][1],'w3:',layer1_weight[1][0],'w4:',layer1_weight[1][1])      \n",
    "print('w5:',layer2_weight[0][0],'w6:',layer2_weight[1][0])\n",
    "print('--------------------------------------------------')\n",
    "\n",
    "\n",
    "\n"
   ]
  },
  {
   "cell_type": "code",
   "execution_count": 27,
   "metadata": {},
   "outputs": [
    {
     "data": {
      "text/plain": [
       "0.6439110416873693"
      ]
     },
     "execution_count": 27,
     "metadata": {},
     "output_type": "execute_result"
    }
   ],
   "source": [
    "sigmoid((0.6457*0.4)+(0.6682*0.5))"
   ]
  },
  {
   "cell_type": "code",
   "execution_count": null,
   "metadata": {},
   "outputs": [],
   "source": []
  }
 ],
 "metadata": {
  "kernelspec": {
   "display_name": "Python 3",
   "language": "python",
   "name": "python3"
  },
  "language_info": {
   "codemirror_mode": {
    "name": "ipython",
    "version": 3
   },
   "file_extension": ".py",
   "mimetype": "text/x-python",
   "name": "python",
   "nbconvert_exporter": "python",
   "pygments_lexer": "ipython3",
   "version": "3.7.4"
  }
 },
 "nbformat": 4,
 "nbformat_minor": 4
}
