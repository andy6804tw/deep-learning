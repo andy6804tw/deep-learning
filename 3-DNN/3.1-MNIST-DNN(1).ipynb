{
 "cells": [
  {
   "cell_type": "markdown",
   "metadata": {},
   "source": [
    "## 1. Import Library"
   ]
  },
  {
   "cell_type": "code",
   "execution_count": 115,
   "metadata": {},
   "outputs": [],
   "source": [
    "from sklearn.model_selection import train_test_split\n",
    "from sklearn.utils import shuffle\n",
    "import numpy as np\n",
    "import tensorflow as tf\n",
    "from tqdm import tqdm_notebook\n",
    "import matplotlib.pyplot as plt"
   ]
  },
  {
   "cell_type": "code",
   "execution_count": 116,
   "metadata": {},
   "outputs": [],
   "source": [
    "# setting hyperparameter\n",
    "batch_size = 32\n",
    "epochs = 200\n",
    "lr = 0.01\n",
    "train_ratio = 0.9"
   ]
  },
  {
   "cell_type": "markdown",
   "metadata": {},
   "source": [
    "## 2. 匯入MINIST手寫辨識數據集以及資料前處理\n",
    "使用sklearn 8x8 的手寫數字數據集"
   ]
  },
  {
   "cell_type": "code",
   "execution_count": 117,
   "metadata": {},
   "outputs": [],
   "source": [
    "from sklearn.datasets import load_digits\n",
    "\n",
    "digits = load_digits()\n",
    "x_, y_ = digits.data, digits.target\n",
    "# min-max normalization\n",
    "x_ = x_ / x_.max() \n",
    "\n",
    "# one hot encoding\n",
    "y_one_hot = np.eye(10)[y_]\n"
   ]
  },
  {
   "cell_type": "markdown",
   "metadata": {},
   "source": [
    "## 3. Split your data into training and validation sets"
   ]
  },
  {
   "cell_type": "code",
   "execution_count": 118,
   "metadata": {},
   "outputs": [
    {
     "name": "stdout",
     "output_type": "stream",
     "text": [
      "training set data dimension\n",
      "(1536, 64)\n",
      "(1536, 10)\n",
      "-----------\n",
      "training set: 1536\n",
      "validation set: 171\n",
      "testing set: 90\n"
     ]
    }
   ],
   "source": [
    "x_train, x_test, y_train, y_test = train_test_split(x_, \n",
    "                                                    y_one_hot, \n",
    "                                                    test_size=0.05, \n",
    "                                                    stratify=y_)\n",
    "\n",
    "x_train, x_valid, y_train, y_valid = train_test_split(x_train, \n",
    "                                                      y_train, \n",
    "                                                      test_size=1.0 - train_ratio,\n",
    "                                                      stratify=y_train.argmax(axis=1))\n",
    "\n",
    "print(\"training set data dimension\")\n",
    "print(x_train.shape)\n",
    "print(y_train.shape)\n",
    "print(\"-----------\")\n",
    "print(\"training set: {}\".format(len(x_train)))\n",
    "print(\"validation set: {}\".format(len(x_valid)))\n",
    "print(\"testing set: {}\".format(len(x_test)))"
   ]
  },
  {
   "cell_type": "code",
   "execution_count": 119,
   "metadata": {},
   "outputs": [
    {
     "data": {
      "image/png": "[encoded data removed]",
      "text/plain": [
       "<Figure size 432x288 with 1 Axes>"
      ]
     },
     "metadata": {
      "needs_background": "light"
     },
     "output_type": "display_data"
    },
    {
     "name": "stdout",
     "output_type": "stream",
     "text": [
      "[0. 0. 0. 1. 0. 0. 0. 0. 0. 0.]\n"
     ]
    }
   ],
   "source": [
    "plt.imshow(x_train[0].reshape(8, 8), cmap='gray')\n",
    "plt.show()\n",
    "print(y_train[0])"
   ]
  },
  {
   "cell_type": "markdown",
   "metadata": {},
   "source": [
    "## 4.Build the network with low-level tensor elements"
   ]
  },
  {
   "cell_type": "code",
   "execution_count": 120,
   "metadata": {},
   "outputs": [],
   "source": [
    "# build the graph\n",
    "tf.reset_default_graph()\n",
    "\n",
    "with tf.name_scope('input'):\n",
    "    x_input = tf.placeholder(shape=(None, 64), name='x_input', dtype=tf.float32)\n",
    "    y_out = tf.placeholder(shape=(None, 10), name='y_label', dtype=tf.float32)\n",
    "\n",
    "with tf.variable_scope('hidden_layer'):\n",
    "    w1 = tf.Variable(tf.truncated_normal(shape=[64, 25], stddev=0.1),\n",
    "                     name='weight1',\n",
    "                     dtype=tf.float32)\n",
    "    b1 = tf.Variable(tf.constant(0.0, shape=[25]),\n",
    "                     name='bias1', \n",
    "                     dtype=tf.float32)\n",
    "    z1 = tf.add(tf.matmul(x_input, w1), b1)  # (None, 64)×(64, 25)+(None, 25) = (None, 25)\n",
    "    a1 = tf.nn.relu(z1, name='h1_out')\n",
    "    \n",
    "with tf.variable_scope('output_layer'):\n",
    "    w2 = tf.Variable(tf.truncated_normal(shape=[25, 10], stddev=0.1), # 這個函數產生的隨機數與均值的差距不會超過兩倍的標準差\n",
    "                     name='weight2',\n",
    "                     dtype=tf.float32)\n",
    "    b2 = tf.Variable(tf.constant(0.0, shape=[10]),\n",
    "                     name='bias2', \n",
    "                     dtype=tf.float32)\n",
    "    output = tf.add(tf.matmul(a1, w2), b2, name='output')\n",
    "\n",
    "with tf.name_scope('cross_entropy'):\n",
    "    loss = tf.reduce_mean(tf.nn.softmax_cross_entropy_with_logits_v2(logits=output, labels=y_out), name='loss')\n",
    "    \n",
    "with tf.name_scope('accuracy'):\n",
    "    correct_prediction = tf.equal(tf.argmax(tf.nn.softmax(output), 1), tf.argmax(y_out, 1)) \n",
    "    compute_acc = tf.reduce_mean(tf.cast(correct_prediction, tf.float32)) \n",
    "\n",
    "with tf.name_scope('train'):\n",
    "    train_step = tf.train.GradientDescentOptimizer(learning_rate=lr).minimize(loss)"
   ]
  },
  {
   "cell_type": "code",
   "execution_count": 121,
   "metadata": {},
   "outputs": [
    {
     "data": {
      "text/plain": [
       "[<tf.Variable 'hidden_layer/weight1:0' shape=(64, 25) dtype=float32_ref>,\n",
       " <tf.Variable 'hidden_layer/bias1:0' shape=(25,) dtype=float32_ref>,\n",
       " <tf.Variable 'output_layer/weight2:0' shape=(25, 10) dtype=float32_ref>,\n",
       " <tf.Variable 'output_layer/bias2:0' shape=(10,) dtype=float32_ref>]"
      ]
     },
     "execution_count": 121,
     "metadata": {},
     "output_type": "execute_result"
    }
   ],
   "source": [
    "tf.global_variables()"
   ]
  },
  {
   "cell_type": "markdown",
   "metadata": {},
   "source": [
    "## 5.Train the model and record the performance"
   ]
  },
  {
   "cell_type": "code",
   "execution_count": 122,
   "metadata": {},
   "outputs": [
    {
     "data": {
      "application/vnd.jupyter.widget-view+json": {
       "model_id": "5f9ceb1eb6a7403a8633cbe07c0bea6c",
       "version_major": 2,
       "version_minor": 0
      },
      "text/plain": [
       "HBox(children=(IntProgress(value=0, max=200), HTML(value='')))"
      ]
     },
     "metadata": {},
     "output_type": "display_data"
    },
    {
     "name": "stdout",
     "output_type": "stream",
     "text": [
      "\n",
      "--- training done ---\n"
     ]
    }
   ],
   "source": [
    "# create a session and train the model\n",
    "train_loss_epoch, valid_loss_epoch = [], []\n",
    "train_acc_epoch, valid_acc_epoch = [], []\n",
    "\n",
    "sess = tf.Session()\n",
    "    \n",
    "sess.run(tf.global_variables_initializer())\n",
    "\n",
    "for i in tqdm_notebook(range(epochs)):\n",
    "\n",
    "    total_batch = len(x_train) // batch_size \n",
    "    train_loss_batch, train_acc_batch = [], []\n",
    "\n",
    "#     training\n",
    "    for j in range(total_batch):\n",
    "\n",
    "        batch_idx_start = j * batch_size\n",
    "        batch_idx_stop = (j+1) * batch_size\n",
    "\n",
    "        x_batch = x_train[batch_idx_start : batch_idx_stop]  # xbatch = xtrain[0:32], xbatch = xtrain[32:64], and so on...\n",
    "        y_batch = y_train[batch_idx_start : batch_idx_stop]\n",
    "\n",
    "        batch_loss, batch_acc, _ = sess.run([loss, compute_acc, train_step], \n",
    "                                            feed_dict={x_input: x_batch, y_out: y_batch})\n",
    "\n",
    "        train_loss_batch.append(batch_loss) \n",
    "        train_acc_batch.append(batch_acc)  \n",
    "\n",
    "#     validation\n",
    "    valid_acc, valid_loss = sess.run([compute_acc, loss],\n",
    "                                     feed_dict={x_input: x_valid, y_out : y_valid})\n",
    "    \n",
    "#     collect loss and accuracy\n",
    "    train_loss_epoch.append(np.mean(train_loss_batch)) \n",
    "    train_acc_epoch.append(np.mean(train_acc_batch))\n",
    "    valid_loss_epoch.append(valid_loss) \n",
    "    valid_acc_epoch.append(valid_acc) \n",
    "\n",
    "    x_train, y_train = shuffle(x_train, y_train)\n",
    "    \n",
    "print('--- training done ---')"
   ]
  },
  {
   "cell_type": "code",
   "execution_count": 123,
   "metadata": {},
   "outputs": [
    {
     "data": {
      "image/png": "[encoded data removed]",
      "text/plain": [
       "<Figure size 432x288 with 1 Axes>"
      ]
     },
     "metadata": {
      "needs_background": "light"
     },
     "output_type": "display_data"
    },
    {
     "data": {
      "image/png": "[encoded data removed]",
      "text/plain": [
       "<Figure size 432x288 with 1 Axes>"
      ]
     },
     "metadata": {
      "needs_background": "light"
     },
     "output_type": "display_data"
    }
   ],
   "source": [
    "# plot\n",
    "plt.plot(train_loss_epoch, 'b', label='train')\n",
    "plt.plot(valid_loss_epoch, 'r', label='valid')\n",
    "plt.legend()\n",
    "plt.title(\"Loss\")\n",
    "plt.show()\n",
    "\n",
    "plt.plot(train_acc_epoch, 'b', label='train')\n",
    "plt.plot(valid_acc_epoch, 'r', label='valid')\n",
    "plt.legend(loc=4)\n",
    "plt.title(\"Accuracy\")\n",
    "plt.show()"
   ]
  },
  {
   "cell_type": "code",
   "execution_count": 124,
   "metadata": {},
   "outputs": [
    {
     "name": "stdout",
     "output_type": "stream",
     "text": [
      "testing accuracy: 0.98\n"
     ]
    }
   ],
   "source": [
    "pred, test_acc, test_loss = sess.run([output,compute_acc, loss],\n",
    "                                feed_dict = {x_input: x_test, y_out : y_test})\n",
    "\n",
    "print('testing accuracy: {:.2f}'.format(test_acc))\n",
    "\n",
    "# sess.close()"
   ]
  },
  {
   "cell_type": "code",
   "execution_count": 125,
   "metadata": {},
   "outputs": [],
   "source": [
    "pred=np.argmax(pred, axis=1)\n",
    "y_test_label=np.argmax(y_test, axis=1)"
   ]
  },
  {
   "cell_type": "code",
   "execution_count": 126,
   "metadata": {},
   "outputs": [],
   "source": [
    "# now storing some properly as well as misclassified indexes'.\n",
    "i=0\n",
    "prop_class=[]\n",
    "mis_class=[]\n",
    "\n",
    "for i in range(len(x_test)):\n",
    "    if(y_test_label[i]==pred[i]):\n",
    "        prop_class.append(i)\n",
    "    if(len(prop_class)==8):\n",
    "        break\n",
    "\n",
    "i=0\n",
    "for i in range(len(x_test)):\n",
    "    if(y_test_label[i]!=pred[i]):\n",
    "        mis_class.append(i)\n",
    "    if(len(mis_class)==8):\n",
    "        break"
   ]
  },
  {
   "cell_type": "code",
   "execution_count": 127,
   "metadata": {},
   "outputs": [
    {
     "data": {
      "image/png": "[encoded data removed]",
      "text/plain": [
       "<Figure size 1080x1080 with 8 Axes>"
      ]
     },
     "metadata": {
      "needs_background": "light"
     },
     "output_type": "display_data"
    }
   ],
   "source": [
    "count=0\n",
    "fig,ax=plt.subplots(4,2)\n",
    "fig.set_size_inches(15,15)\n",
    "for i in range (4):\n",
    "    for j in range (2):\n",
    "        ax[i,j].imshow(x_test[prop_class[count]].reshape(8, 8), cmap='gray')\n",
    "        ax[i,j].set_title(\"Predicted : \"+str(pred[prop_class[count]])+\"\\n\"+\"Actual : \"+str(y_test_label[prop_class[count]]))\n",
    "        plt.tight_layout()\n",
    "        count+=1"
   ]
  },
  {
   "cell_type": "code",
   "execution_count": 134,
   "metadata": {},
   "outputs": [
    {
     "data": {
      "image/png": "[encoded data removed]",
      "text/plain": [
       "<Figure size 432x288 with 1 Axes>"
      ]
     },
     "metadata": {
      "needs_background": "light"
     },
     "output_type": "display_data"
    }
   ],
   "source": [
    "\n",
    "plt.imshow(x_test[mis_class[0]].reshape(8, 8), cmap='gray')\n",
    "plt.title(\"Predicted : \"+str(pred[mis_class[0]])+\"\\n\"+\"Actual : \"+str(y_test_label[mis_class[0]]))\n",
    "plt.show()"
   ]
  }
 ],
 "metadata": {
  "kernelspec": {
   "display_name": "Python 3",
   "language": "python",
   "name": "python3"
  },
  "language_info": {
   "codemirror_mode": {
    "name": "ipython",
    "version": 3
   },
   "file_extension": ".py",
   "mimetype": "text/x-python",
   "name": "python",
   "nbconvert_exporter": "python",
   "pygments_lexer": "ipython3",
   "version": "3.7.4"
  }
 },
 "nbformat": 4,
 "nbformat_minor": 4
}
